{
 "cells": [
  {
   "cell_type": "markdown",
   "metadata": {},
   "source": [
    "# Analyzing borrowers’ risk of defaulting\n",
    "\n",
    "Your project is to prepare a report for a bank’s loan division. You’ll need to find out if a customer’s marital status and number of children has an impact on whether they will default on a loan. The bank already has some data on customers’ credit worthiness.\n",
    "\n",
    "Your report will be considered when building the **credit score** of a potential customer. The **credit score** is used to evaluate the ability of a potential borrower to repay their loan.\n"
   ]
  },
  {
   "cell_type": "markdown",
   "metadata": {},
   "source": [
    "## Open the data file and have a look at the general information. \n",
    "\n"
   ]
  },
  {
   "cell_type": "code",
   "execution_count": 1,
   "metadata": {},
   "outputs": [
    {
     "name": "stdout",
     "output_type": "stream",
     "text": [
      "       children  days_employed  dob_years            education  education_id  \\\n",
      "0             1   -8437.673028         42    bachelor's degree             0   \n",
      "1             1   -4024.803754         36  secondary education             1   \n",
      "2             0   -5623.422610         33  Secondary Education             1   \n",
      "3             3   -4124.747207         32  secondary education             1   \n",
      "4             0  340266.072047         53  secondary education             1   \n",
      "...         ...            ...        ...                  ...           ...   \n",
      "21520         1   -4529.316663         43  secondary education             1   \n",
      "21521         0  343937.404131         67  secondary education             1   \n",
      "21522         1   -2113.346888         38  secondary education             1   \n",
      "21523         3   -3112.481705         38  secondary education             1   \n",
      "21524         2   -1984.507589         40  secondary education             1   \n",
      "\n",
      "           family_status  family_status_id gender income_type  debt  \\\n",
      "0                married                 0      F    employee     0   \n",
      "1                married                 0      F    employee     0   \n",
      "2                married                 0      M    employee     0   \n",
      "3                married                 0      M    employee     0   \n",
      "4      civil partnership                 1      F     retiree     0   \n",
      "...                  ...               ...    ...         ...   ...   \n",
      "21520  civil partnership                 1      F    business     0   \n",
      "21521            married                 0      F     retiree     0   \n",
      "21522  civil partnership                 1      M    employee     1   \n",
      "21523            married                 0      M    employee     1   \n",
      "21524            married                 0      F    employee     0   \n",
      "\n",
      "       total_income                  purpose  \n",
      "0         40620.102    purchase of the house  \n",
      "1         17932.802             car purchase  \n",
      "2         23341.752    purchase of the house  \n",
      "3         42820.568  supplementary education  \n",
      "4         25378.572        to have a wedding  \n",
      "...             ...                      ...  \n",
      "21520     35966.698     housing transactions  \n",
      "21521     24959.969        purchase of a car  \n",
      "21522     14347.610                 property  \n",
      "21523     39054.888        buying my own car  \n",
      "21524     13127.587             to buy a car  \n",
      "\n",
      "[21525 rows x 12 columns]\n"
     ]
    }
   ],
   "source": [
    "import pandas as pd# Loading all the libraries\n",
    "\n",
    "df=pd.read_csv('/datasets/credit_scoring_eng.csv')# Load the data\n",
    "\n",
    "print(df)"
   ]
  },
  {
   "cell_type": "markdown",
   "metadata": {},
   "source": [
    "## Task 1. Data exploration\n",
    "\n",
    "**Description of the data**\n",
    "- `children` - the number of children in the family\n",
    "- `days_employed` - work experience in days\n",
    "- `dob_years` - client's age in years\n",
    "- `education` - client's education\n",
    "- `education_id` - education identifier\n",
    "- `family_status` - marital status\n",
    "- `family_status_id` - marital status identifier\n",
    "- `gender` - gender of the client\n",
    "- `income_type` - type of employment\n",
    "- `debt` - was there any debt on loan repayment\n",
    "- `total_income` - monthly income\n",
    "- `purpose` - the purpose of obtaining a loan\n",
    "\n"
   ]
  },
  {
   "cell_type": "code",
   "execution_count": 2,
   "metadata": {},
   "outputs": [
    {
     "name": "stdout",
     "output_type": "stream",
     "text": [
      "(21525, 12)\n"
     ]
    }
   ],
   "source": [
    "# Let's see how many rows and columns our dataset has\n",
    "print(df.shape)\n"
   ]
  },
  {
   "cell_type": "code",
   "execution_count": 3,
   "metadata": {
    "scrolled": true
   },
   "outputs": [
    {
     "data": {
      "text/html": [
       "<div>\n",
       "<style scoped>\n",
       "    .dataframe tbody tr th:only-of-type {\n",
       "        vertical-align: middle;\n",
       "    }\n",
       "\n",
       "    .dataframe tbody tr th {\n",
       "        vertical-align: top;\n",
       "    }\n",
       "\n",
       "    .dataframe thead th {\n",
       "        text-align: right;\n",
       "    }\n",
       "</style>\n",
       "<table border=\"1\" class=\"dataframe\">\n",
       "  <thead>\n",
       "    <tr style=\"text-align: right;\">\n",
       "      <th></th>\n",
       "      <th>children</th>\n",
       "      <th>days_employed</th>\n",
       "      <th>dob_years</th>\n",
       "      <th>education</th>\n",
       "      <th>education_id</th>\n",
       "      <th>family_status</th>\n",
       "      <th>family_status_id</th>\n",
       "      <th>gender</th>\n",
       "      <th>income_type</th>\n",
       "      <th>debt</th>\n",
       "      <th>total_income</th>\n",
       "      <th>purpose</th>\n",
       "    </tr>\n",
       "  </thead>\n",
       "  <tbody>\n",
       "    <tr>\n",
       "      <th>0</th>\n",
       "      <td>1</td>\n",
       "      <td>-8437.673028</td>\n",
       "      <td>42</td>\n",
       "      <td>bachelor's degree</td>\n",
       "      <td>0</td>\n",
       "      <td>married</td>\n",
       "      <td>0</td>\n",
       "      <td>F</td>\n",
       "      <td>employee</td>\n",
       "      <td>0</td>\n",
       "      <td>40620.102</td>\n",
       "      <td>purchase of the house</td>\n",
       "    </tr>\n",
       "    <tr>\n",
       "      <th>1</th>\n",
       "      <td>1</td>\n",
       "      <td>-4024.803754</td>\n",
       "      <td>36</td>\n",
       "      <td>secondary education</td>\n",
       "      <td>1</td>\n",
       "      <td>married</td>\n",
       "      <td>0</td>\n",
       "      <td>F</td>\n",
       "      <td>employee</td>\n",
       "      <td>0</td>\n",
       "      <td>17932.802</td>\n",
       "      <td>car purchase</td>\n",
       "    </tr>\n",
       "    <tr>\n",
       "      <th>2</th>\n",
       "      <td>0</td>\n",
       "      <td>-5623.422610</td>\n",
       "      <td>33</td>\n",
       "      <td>Secondary Education</td>\n",
       "      <td>1</td>\n",
       "      <td>married</td>\n",
       "      <td>0</td>\n",
       "      <td>M</td>\n",
       "      <td>employee</td>\n",
       "      <td>0</td>\n",
       "      <td>23341.752</td>\n",
       "      <td>purchase of the house</td>\n",
       "    </tr>\n",
       "    <tr>\n",
       "      <th>3</th>\n",
       "      <td>3</td>\n",
       "      <td>-4124.747207</td>\n",
       "      <td>32</td>\n",
       "      <td>secondary education</td>\n",
       "      <td>1</td>\n",
       "      <td>married</td>\n",
       "      <td>0</td>\n",
       "      <td>M</td>\n",
       "      <td>employee</td>\n",
       "      <td>0</td>\n",
       "      <td>42820.568</td>\n",
       "      <td>supplementary education</td>\n",
       "    </tr>\n",
       "    <tr>\n",
       "      <th>4</th>\n",
       "      <td>0</td>\n",
       "      <td>340266.072047</td>\n",
       "      <td>53</td>\n",
       "      <td>secondary education</td>\n",
       "      <td>1</td>\n",
       "      <td>civil partnership</td>\n",
       "      <td>1</td>\n",
       "      <td>F</td>\n",
       "      <td>retiree</td>\n",
       "      <td>0</td>\n",
       "      <td>25378.572</td>\n",
       "      <td>to have a wedding</td>\n",
       "    </tr>\n",
       "    <tr>\n",
       "      <th>5</th>\n",
       "      <td>0</td>\n",
       "      <td>-926.185831</td>\n",
       "      <td>27</td>\n",
       "      <td>bachelor's degree</td>\n",
       "      <td>0</td>\n",
       "      <td>civil partnership</td>\n",
       "      <td>1</td>\n",
       "      <td>M</td>\n",
       "      <td>business</td>\n",
       "      <td>0</td>\n",
       "      <td>40922.170</td>\n",
       "      <td>purchase of the house</td>\n",
       "    </tr>\n",
       "    <tr>\n",
       "      <th>6</th>\n",
       "      <td>0</td>\n",
       "      <td>-2879.202052</td>\n",
       "      <td>43</td>\n",
       "      <td>bachelor's degree</td>\n",
       "      <td>0</td>\n",
       "      <td>married</td>\n",
       "      <td>0</td>\n",
       "      <td>F</td>\n",
       "      <td>business</td>\n",
       "      <td>0</td>\n",
       "      <td>38484.156</td>\n",
       "      <td>housing transactions</td>\n",
       "    </tr>\n",
       "    <tr>\n",
       "      <th>7</th>\n",
       "      <td>0</td>\n",
       "      <td>-152.779569</td>\n",
       "      <td>50</td>\n",
       "      <td>SECONDARY EDUCATION</td>\n",
       "      <td>1</td>\n",
       "      <td>married</td>\n",
       "      <td>0</td>\n",
       "      <td>M</td>\n",
       "      <td>employee</td>\n",
       "      <td>0</td>\n",
       "      <td>21731.829</td>\n",
       "      <td>education</td>\n",
       "    </tr>\n",
       "    <tr>\n",
       "      <th>8</th>\n",
       "      <td>2</td>\n",
       "      <td>-6929.865299</td>\n",
       "      <td>35</td>\n",
       "      <td>BACHELOR'S DEGREE</td>\n",
       "      <td>0</td>\n",
       "      <td>civil partnership</td>\n",
       "      <td>1</td>\n",
       "      <td>F</td>\n",
       "      <td>employee</td>\n",
       "      <td>0</td>\n",
       "      <td>15337.093</td>\n",
       "      <td>having a wedding</td>\n",
       "    </tr>\n",
       "    <tr>\n",
       "      <th>9</th>\n",
       "      <td>0</td>\n",
       "      <td>-2188.756445</td>\n",
       "      <td>41</td>\n",
       "      <td>secondary education</td>\n",
       "      <td>1</td>\n",
       "      <td>married</td>\n",
       "      <td>0</td>\n",
       "      <td>M</td>\n",
       "      <td>employee</td>\n",
       "      <td>0</td>\n",
       "      <td>23108.150</td>\n",
       "      <td>purchase of the house for my family</td>\n",
       "    </tr>\n",
       "  </tbody>\n",
       "</table>\n",
       "</div>"
      ],
      "text/plain": [
       "   children  days_employed  dob_years            education  education_id  \\\n",
       "0         1   -8437.673028         42    bachelor's degree             0   \n",
       "1         1   -4024.803754         36  secondary education             1   \n",
       "2         0   -5623.422610         33  Secondary Education             1   \n",
       "3         3   -4124.747207         32  secondary education             1   \n",
       "4         0  340266.072047         53  secondary education             1   \n",
       "5         0    -926.185831         27    bachelor's degree             0   \n",
       "6         0   -2879.202052         43    bachelor's degree             0   \n",
       "7         0    -152.779569         50  SECONDARY EDUCATION             1   \n",
       "8         2   -6929.865299         35    BACHELOR'S DEGREE             0   \n",
       "9         0   -2188.756445         41  secondary education             1   \n",
       "\n",
       "       family_status  family_status_id gender income_type  debt  total_income  \\\n",
       "0            married                 0      F    employee     0     40620.102   \n",
       "1            married                 0      F    employee     0     17932.802   \n",
       "2            married                 0      M    employee     0     23341.752   \n",
       "3            married                 0      M    employee     0     42820.568   \n",
       "4  civil partnership                 1      F     retiree     0     25378.572   \n",
       "5  civil partnership                 1      M    business     0     40922.170   \n",
       "6            married                 0      F    business     0     38484.156   \n",
       "7            married                 0      M    employee     0     21731.829   \n",
       "8  civil partnership                 1      F    employee     0     15337.093   \n",
       "9            married                 0      M    employee     0     23108.150   \n",
       "\n",
       "                               purpose  \n",
       "0                purchase of the house  \n",
       "1                         car purchase  \n",
       "2                purchase of the house  \n",
       "3              supplementary education  \n",
       "4                    to have a wedding  \n",
       "5                purchase of the house  \n",
       "6                 housing transactions  \n",
       "7                            education  \n",
       "8                     having a wedding  \n",
       "9  purchase of the house for my family  "
      ]
     },
     "execution_count": 3,
     "metadata": {},
     "output_type": "execute_result"
    }
   ],
   "source": [
    "df.head(10)# let's print the first N rows\n",
    "\n"
   ]
  },
  {
   "cell_type": "markdown",
   "metadata": {},
   "source": [
    "The main problem that hinders further data analysis is negative values in the \"days_employed\" column. It is also necessary to convert the data to a single format to reduce future errors during Date Preprocessing."
   ]
  },
  {
   "cell_type": "code",
   "execution_count": 4,
   "metadata": {
    "scrolled": false
   },
   "outputs": [
    {
     "name": "stdout",
     "output_type": "stream",
     "text": [
      "<class 'pandas.core.frame.DataFrame'>\n",
      "RangeIndex: 21525 entries, 0 to 21524\n",
      "Data columns (total 12 columns):\n",
      " #   Column            Non-Null Count  Dtype  \n",
      "---  ------            --------------  -----  \n",
      " 0   children          21525 non-null  int64  \n",
      " 1   days_employed     19351 non-null  float64\n",
      " 2   dob_years         21525 non-null  int64  \n",
      " 3   education         21525 non-null  object \n",
      " 4   education_id      21525 non-null  int64  \n",
      " 5   family_status     21525 non-null  object \n",
      " 6   family_status_id  21525 non-null  int64  \n",
      " 7   gender            21525 non-null  object \n",
      " 8   income_type       21525 non-null  object \n",
      " 9   debt              21525 non-null  int64  \n",
      " 10  total_income      19351 non-null  float64\n",
      " 11  purpose           21525 non-null  object \n",
      "dtypes: float64(2), int64(5), object(5)\n",
      "memory usage: 2.0+ MB\n"
     ]
    }
   ],
   "source": [
    "df.info()# Get info on data\n"
   ]
  },
  {
   "cell_type": "markdown",
   "metadata": {},
   "source": [
    "There are missing values in only two columns:'days_employed' and 'total_income'. "
   ]
  },
  {
   "cell_type": "code",
   "execution_count": 5,
   "metadata": {
    "scrolled": true
   },
   "outputs": [
    {
     "name": "stdout",
     "output_type": "stream",
     "text": [
      "2174\n",
      "2174\n"
     ]
    }
   ],
   "source": [
    "# Let's look in the filtered table at the the first column with missing data\n",
    "print(df['days_employed'].isna().sum())\n",
    "print(df['total_income'].isna().sum())"
   ]
  },
  {
   "cell_type": "markdown",
   "metadata": {},
   "source": [
    "It can be concluded that the lost data appeared due to the lack of working days for the customer and, as a result, this lack of income. That is, he does not work and does not receive any income. (there are much fewer of them), therefore, it cannot be concluded that these characteristics are related."
   ]
  },
  {
   "cell_type": "code",
   "execution_count": 6,
   "metadata": {},
   "outputs": [
    {
     "name": "stdout",
     "output_type": "stream",
     "text": [
      "children            2174\n",
      "days_employed          0\n",
      "dob_years           2174\n",
      "education           2174\n",
      "education_id        2174\n",
      "family_status       2174\n",
      "family_status_id    2174\n",
      "gender              2174\n",
      "income_type         2174\n",
      "debt                2174\n",
      "total_income           0\n",
      "purpose             2174\n",
      "dtype: int64\n",
      "the_percentage_of_the_missing_values 10%\n"
     ]
    }
   ],
   "source": [
    "# Let's apply multiple conditions for filtering data and look at the number of rows in the filtered table.\n",
    "print(df[(df['days_employed'].isna())&(df['total_income'].isna())].count())\n",
    "print('the_percentage_of_the_missing_values {:.0%}'.format(df['days_employed'].isna().sum()/df.shape[0]))#Calculate the percentage of the missing values\n"
   ]
  },
  {
   "cell_type": "markdown",
   "metadata": {},
   "source": [
    "**Intermediate conclusion**\n",
    "\n",
    "The number of rows in the filtered table match the number of missing values.\n",
    "Calculate the percentage of the missing values - 10%. This is a significant amount of data, so it needs to be filled in.\n",
    "We can check if the missing values are related to income sources. Let's find the unique values of income sources and see which of them can indicate the absence of income and working days."
   ]
  },
  {
   "cell_type": "code",
   "execution_count": 7,
   "metadata": {},
   "outputs": [
    {
     "name": "stdout",
     "output_type": "stream",
     "text": [
      "['retiree' 'civil servant' 'business' 'employee' 'entrepreneur']\n",
      "['secondary education' \"bachelor's degree\" 'SECONDARY EDUCATION'\n",
      " 'some college' 'Secondary Education' 'Some College' \"Bachelor's Degree\"\n",
      " 'SOME COLLEGE' 'primary education' \"BACHELOR'S DEGREE\"\n",
      " 'Primary Education' 'PRIMARY EDUCATION']\n",
      "[0 1]\n"
     ]
    }
   ],
   "source": [
    "# Let's investigate clients who do not have data on identified characteristic and the column with the missing values\n",
    "print(df[df['days_employed'].isna()]['income_type'].unique())\n",
    "print(df[df['days_employed'].isna()]['education'].unique())\n",
    "print(df[df['days_employed'].isna()]['debt'].unique())"
   ]
  },
  {
   "cell_type": "markdown",
   "metadata": {},
   "source": [
    "We see that there is no direct relationship between the missing values and the values in other columns (such as source of income, education), because there are lost values in all types of unique values of these columns.\n",
    "**Possible reasons are errors in the collection and entry of data or the reluctance of customers to provide information about their income and**\n",
    "Perhaps the lost data is random."
   ]
  },
  {
   "cell_type": "code",
   "execution_count": 8,
   "metadata": {},
   "outputs": [
    {
     "name": "stdout",
     "output_type": "stream",
     "text": [
      "employee 10%\n",
      "retiree 11%\n",
      "business 10%\n",
      "civil servant 10%\n",
      "unemployed 0%\n",
      "entrepreneur 50%\n",
      "student 0%\n",
      "paternity / maternity leave 0%\n"
     ]
    }
   ],
   "source": [
    "# Checking the distribution in the whole dataset\n",
    "distribution=[]\n",
    "for a in df['income_type'].unique():\n",
    "    b=df[(df['days_employed'].isna())&(df['income_type']==a)]['income_type'].value_counts()/df[df['income_type']==a]['income_type'].value_counts()\n",
    "    print(a,'{:.0%}'.format(b.sum()))\n",
    "\n"
   ]
  },
  {
   "cell_type": "markdown",
   "metadata": {},
   "source": [
    "**Intermediate conclusion**\n",
    "We see that 90% of the missing values come from the employee\n",
    "retiree, business, civil servant, entrepreneur.\n",
    "That is, when filling in the missing values further, the data for customers - unemployed and student, can be ignored\n"
   ]
  },
  {
   "cell_type": "code",
   "execution_count": 9,
   "metadata": {},
   "outputs": [
    {
     "name": "stdout",
     "output_type": "stream",
     "text": [
      "(101, 12)\n",
      "(10, 12)\n"
     ]
    }
   ],
   "source": [
    "# Check for other reasons and patterns that could lead to missing values\n",
    "print(df[df['dob_years']<18].shape)\n",
    "print(df[(df['dob_years']<18)&(df['days_employed'].isna())].shape)\n"
   ]
  },
  {
   "cell_type": "markdown",
   "metadata": {},
   "source": [
    "**Intermediate conclusion**\n",
    "We can check for customers under the age of 18. We see that the table contains customers under 18 years of age. But missing values and values with age less than 18 coincide only in 10 people. Therefore, they do not depend on each other."
   ]
  },
  {
   "cell_type": "code",
   "execution_count": 10,
   "metadata": {
    "scrolled": true
   },
   "outputs": [],
   "source": [
    "# Checking for other patterns - explain which"
   ]
  },
  {
   "cell_type": "markdown",
   "metadata": {},
   "source": [
    "**Conclusions**\n",
    "\n",
    "We did not find any direct relationship between missing values in the 'days_employed' and 'total_income' columns with values from other columns.\n",
    "We can say that the missing values are random. Therefore, further it is necessary to fill them in in accordance with the average values for customers with similar characteristics in other columns."
   ]
  },
  {
   "cell_type": "markdown",
   "metadata": {},
   "source": [
    "## Data transformation\n",
    "\n",
    "We have to remove duplicates and fixing educational information."
   ]
  },
  {
   "cell_type": "code",
   "execution_count": 11,
   "metadata": {},
   "outputs": [
    {
     "name": "stdout",
     "output_type": "stream",
     "text": [
      "[\"bachelor's degree\" 'secondary education' 'Secondary Education'\n",
      " 'SECONDARY EDUCATION' \"BACHELOR'S DEGREE\" 'some college'\n",
      " 'primary education' \"Bachelor's Degree\" 'SOME COLLEGE' 'Some College'\n",
      " 'PRIMARY EDUCATION' 'Primary Education' 'Graduate Degree'\n",
      " 'GRADUATE DEGREE' 'graduate degree']\n"
     ]
    }
   ],
   "source": [
    "# Let's see all values in education column to check if and what spellings will need to be fixed\n",
    "print(df['education'].unique())"
   ]
  },
  {
   "cell_type": "code",
   "execution_count": 12,
   "metadata": {
    "scrolled": true
   },
   "outputs": [],
   "source": [
    "# Fix the registers if required\n",
    "for row in range(df['education'].shape[0]):\n",
    "    if df.loc[row,'education'] in ['Secondary Education','SECONDARY EDUCATION']:\n",
    "        df.loc[row,'education']='secondary education'\n",
    "    elif df.loc[row,'education'] in [\"bachelor's degree\",\"BACHELOR'S DEGREE\",\"Bachelor's Degree\"]:\n",
    "        df.loc[row,'education']='bachelor_s degree'\n",
    "    elif df.loc[row,'education'] in ['Primary Education','PRIMARY EDUCATION']:\n",
    "        df.loc[row,'education']='primary education'\n",
    "    elif df.loc[row,'education'] in ['SOME COLLEGE','Some College','some college']:\n",
    "        df.loc[row,'education']='college'\n",
    "    elif df.loc[row,'education'] in ['GRADUATE DEGREE','Graduate Degree']:\n",
    "        df.loc[row,'education']='graduate degree'\n",
    "\n"
   ]
  },
  {
   "cell_type": "code",
   "execution_count": 13,
   "metadata": {},
   "outputs": [
    {
     "name": "stdout",
     "output_type": "stream",
     "text": [
      "['bachelor_s degree' 'secondary education' 'college' 'primary education'\n",
      " 'graduate degree']\n"
     ]
    }
   ],
   "source": [
    "# Checking all the values in the column to make sure we fixed them\n",
    "print(df['education'].unique())\n",
    "\n"
   ]
  },
  {
   "cell_type": "markdown",
   "metadata": {},
   "source": []
  },
  {
   "cell_type": "code",
   "execution_count": 14,
   "metadata": {
    "scrolled": true
   },
   "outputs": [
    {
     "name": "stdout",
     "output_type": "stream",
     "text": [
      " 0     14149\n",
      " 1      4818\n",
      " 2      2055\n",
      " 3       330\n",
      " 20       76\n",
      "-1        47\n",
      " 4        41\n",
      " 5         9\n",
      "Name: children, dtype: int64\n",
      "0.52%\n"
     ]
    }
   ],
   "source": [
    "print(df['children'].value_counts())# Let's see the distribution of values in the `children` column\n",
    "print('{:.2%}'.format(df[df.children.isin([20,-1])].value_counts().sum()/df['children'].value_counts().sum()))"
   ]
  },
  {
   "cell_type": "markdown",
   "metadata": {},
   "source": [
    "We see strange values in the number of children: 20 and -1. They make up less than 1 percent of all data, so it is better not to use these lines in calculations. We can remove them."
   ]
  },
  {
   "cell_type": "code",
   "execution_count": 15,
   "metadata": {},
   "outputs": [],
   "source": [
    "# [remove strange values in 'children']\n",
    "df=df[df['children']!=-1]\n",
    "df=df[df['children']!=20]\n",
    "\n",
    "\n"
   ]
  },
  {
   "cell_type": "code",
   "execution_count": 16,
   "metadata": {},
   "outputs": [
    {
     "name": "stdout",
     "output_type": "stream",
     "text": [
      "0    14149\n",
      "1     4818\n",
      "2     2055\n",
      "3      330\n",
      "4       41\n",
      "5        9\n",
      "Name: children, dtype: int64\n"
     ]
    }
   ],
   "source": [
    "print(df['children'].value_counts())# Checking the `children` column again to make sure it's all fixed\n",
    "\n"
   ]
  },
  {
   "cell_type": "markdown",
   "metadata": {},
   "source": [
    "We see two problems in the data in the `days_employed` column:\n",
    "1) values are very large\n",
    "2) there are negative values\n",
    "This could be due to incorrect format and dimension."
   ]
  },
  {
   "cell_type": "code",
   "execution_count": 17,
   "metadata": {},
   "outputs": [
    {
     "name": "stdout",
     "output_type": "stream",
     "text": [
      "82.17%\n",
      "15809\n",
      "73\n"
     ]
    }
   ],
   "source": [
    "df['days_employed']=pd.to_numeric(df['days_employed'], errors='ignore')# Find problematic data in `days_employed`, if they exist, and calculate the percentage\n",
    "print('{:.2%}'.format(df[df['days_employed']<0]['days_employed'].count()/df['days_employed'].count()))# Find problematic data in `days_employed`, if they exist, and calculate the percentage\n",
    "print(df[df['days_employed']<0]['days_employed'].count())\n",
    "print(df[(df['days_employed']<0)&(df['dob_years']<=0)]['days_employed'].count())# Check for negative values in the age column"
   ]
  },
  {
   "cell_type": "markdown",
   "metadata": {},
   "source": [
    "We see that no negative days_employed values correspond to zero age values. Their number is different.\n",
    "Their number does not allow us to neglect them. \n"
   ]
  },
  {
   "cell_type": "code",
   "execution_count": 18,
   "metadata": {
    "scrolled": true
   },
   "outputs": [],
   "source": [
    "try:\n",
    "    df['days_employed']=(df['days_employed'].abs()/24)\n",
    "except:\n",
    "    df['days_employed']=df['days_employed']\n",
    "    "
   ]
  },
  {
   "cell_type": "code",
   "execution_count": 19,
   "metadata": {},
   "outputs": [
    {
     "name": "stdout",
     "output_type": "stream",
     "text": [
      "16739.80835313875\n",
      "1.005901385020049\n"
     ]
    }
   ],
   "source": [
    "print(df['days_employed'].max())\n",
    "print(df['days_employed'].min())"
   ]
  },
  {
   "cell_type": "code",
   "execution_count": 20,
   "metadata": {
    "scrolled": true
   },
   "outputs": [
    {
     "name": "stdout",
     "output_type": "stream",
     "text": [
      "35    614\n",
      "40    603\n",
      "41    603\n",
      "34    597\n",
      "38    595\n",
      "42    592\n",
      "33    577\n",
      "39    572\n",
      "31    556\n",
      "36    553\n",
      "29    543\n",
      "44    543\n",
      "48    536\n",
      "30    536\n",
      "37    531\n",
      "43    510\n",
      "50    509\n",
      "32    506\n",
      "49    505\n",
      "28    501\n",
      "45    494\n",
      "27    490\n",
      "52    483\n",
      "56    482\n",
      "47    480\n",
      "54    476\n",
      "46    469\n",
      "58    461\n",
      "53    457\n",
      "57    457\n",
      "51    446\n",
      "59    441\n",
      "55    441\n",
      "26    406\n",
      "60    376\n",
      "25    356\n",
      "61    353\n",
      "62    351\n",
      "63    268\n",
      "24    263\n",
      "64    263\n",
      "23    252\n",
      "65    194\n",
      "66    183\n",
      "22    183\n",
      "67    167\n",
      "21    110\n",
      "0     100\n",
      "68     99\n",
      "69     83\n",
      "70     65\n",
      "71     58\n",
      "20     51\n",
      "72     33\n",
      "19     14\n",
      "73      8\n",
      "74      6\n",
      "75      1\n",
      "Name: dob_years, dtype: int64\n"
     ]
    }
   ],
   "source": [
    "print(df['dob_years'].value_counts(ascending=False))\n",
    "\n"
   ]
  },
  {
   "cell_type": "markdown",
   "metadata": {},
   "source": [
    "We see problematic values in dob_years (negative and less than 18)."
   ]
  },
  {
   "cell_type": "code",
   "execution_count": 21,
   "metadata": {
    "scrolled": true
   },
   "outputs": [
    {
     "name": "stdout",
     "output_type": "stream",
     "text": [
      "0.47%\n"
     ]
    }
   ],
   "source": [
    "df[df['dob_years']<18]['dob_years']# Check the `dob_years` for suspicious values and count the percentage\n",
    "df[df['dob_years']==0]['dob_years']\n",
    "print('{:.2%}'.format(df[df['dob_years']==0]['dob_years'].count()/df['dob_years'].count()))\n"
   ]
  },
  {
   "cell_type": "markdown",
   "metadata": {},
   "source": [
    "Problematic age values are null values. We calculated the percentage, it is less than 1%, so these lines can be neglected."
   ]
  },
  {
   "cell_type": "code",
   "execution_count": 22,
   "metadata": {},
   "outputs": [],
   "source": [
    "#Address the issues in the `dob_years` column, if they exist\n",
    "df=df[df['dob_years']!=0]"
   ]
  },
  {
   "cell_type": "code",
   "execution_count": 23,
   "metadata": {},
   "outputs": [
    {
     "name": "stdout",
     "output_type": "stream",
     "text": [
      "Empty DataFrame\n",
      "Columns: [children, days_employed, dob_years, education, education_id, family_status, family_status_id, gender, income_type, debt, total_income, purpose]\n",
      "Index: []\n"
     ]
    }
   ],
   "source": [
    "print(df[df['dob_years']==0])# Check the result - make sure it's fixed\n"
   ]
  },
  {
   "cell_type": "markdown",
   "metadata": {},
   "source": [
    "Now let's check the `family_status` column. "
   ]
  },
  {
   "cell_type": "code",
   "execution_count": 24,
   "metadata": {},
   "outputs": [
    {
     "data": {
      "text/plain": [
       "married              12254\n",
       "civil partnership     4139\n",
       "unmarried             2783\n",
       "divorced              1179\n",
       "widow / widower        947\n",
       "Name: family_status, dtype: int64"
      ]
     },
     "execution_count": 24,
     "metadata": {},
     "output_type": "execute_result"
    }
   ],
   "source": [
    "df['family_status'].value_counts()# Let's see the values for the column"
   ]
  },
  {
   "cell_type": "markdown",
   "metadata": {},
   "source": [
    "Now let's check the `gender` column. "
   ]
  },
  {
   "cell_type": "code",
   "execution_count": 25,
   "metadata": {},
   "outputs": [
    {
     "data": {
      "text/plain": [
       "F      14083\n",
       "M       7218\n",
       "XNA        1\n",
       "Name: gender, dtype: int64"
      ]
     },
     "execution_count": 25,
     "metadata": {},
     "output_type": "execute_result"
    }
   ],
   "source": [
    "df['gender'].value_counts()# Let's see the values in the column\n"
   ]
  },
  {
   "cell_type": "code",
   "execution_count": 26,
   "metadata": {},
   "outputs": [],
   "source": [
    "df=df[df['gender']!='XNA']# Address the problematic values"
   ]
  },
  {
   "cell_type": "code",
   "execution_count": 27,
   "metadata": {},
   "outputs": [
    {
     "data": {
      "text/plain": [
       "F    14083\n",
       "M     7218\n",
       "Name: gender, dtype: int64"
      ]
     },
     "execution_count": 27,
     "metadata": {},
     "output_type": "execute_result"
    }
   ],
   "source": [
    "df['gender'].value_counts()# Check the result \n",
    "\n"
   ]
  },
  {
   "cell_type": "markdown",
   "metadata": {},
   "source": [
    "Now let's check the `income_type` column."
   ]
  },
  {
   "cell_type": "code",
   "execution_count": 28,
   "metadata": {},
   "outputs": [
    {
     "data": {
      "text/plain": [
       "employee                       10996\n",
       "business                        5033\n",
       "retiree                         3819\n",
       "civil servant                   1447\n",
       "entrepreneur                       2\n",
       "unemployed                         2\n",
       "student                            1\n",
       "paternity / maternity leave        1\n",
       "Name: income_type, dtype: int64"
      ]
     },
     "execution_count": 28,
     "metadata": {},
     "output_type": "execute_result"
    }
   ],
   "source": [
    "df['income_type'].value_counts()# Let's see the values in the column"
   ]
  },
  {
   "cell_type": "code",
   "execution_count": 29,
   "metadata": {
    "scrolled": true
   },
   "outputs": [
    {
     "data": {
      "text/plain": [
       "wedding ceremony                            791\n",
       "having a wedding                            768\n",
       "to have a wedding                           764\n",
       "real estate transactions                    670\n",
       "buy commercial real estate                  658\n",
       "buying property for renting out             649\n",
       "transactions with commercial real estate    644\n",
       "housing transactions                        642\n",
       "purchase of the house for my family         639\n",
       "housing                                     636\n",
       "purchase of the house                       635\n",
       "property                                    628\n",
       "construction of own property                626\n",
       "transactions with my real estate            626\n",
       "building a property                         620\n",
       "building a real estate                      619\n",
       "purchase of my own house                    618\n",
       "buy real estate                             615\n",
       "housing renovation                          607\n",
       "buy residential real estate                 600\n",
       "buying my own car                           501\n",
       "going to university                         493\n",
       "car                                         488\n",
       "second-hand car purchase                    482\n",
       "cars                                        474\n",
       "to own a car                                472\n",
       "buying a second-hand car                    472\n",
       "to buy a car                                466\n",
       "car purchase                                458\n",
       "supplementary education                     455\n",
       "purchase of a car                           454\n",
       "university education                        444\n",
       "to get a supplementary education            443\n",
       "getting an education                        440\n",
       "education                                   439\n",
       "profile education                           431\n",
       "getting higher education                    423\n",
       "to become educated                          411\n",
       "Name: purpose, dtype: int64"
      ]
     },
     "execution_count": 29,
     "metadata": {},
     "output_type": "execute_result"
    }
   ],
   "source": [
    "df['purpose'].value_counts()# Let's see the values in the column"
   ]
  },
  {
   "cell_type": "markdown",
   "metadata": {},
   "source": [
    "We have values that are identical in meaning, but with different wordings, for further analysis it is necessary to rename them and combine them into groups.\n"
   ]
  },
  {
   "cell_type": "code",
   "execution_count": 30,
   "metadata": {},
   "outputs": [],
   "source": [
    "def assign_purpose_group(purpose):\n",
    "    if 'real estate' in purpose:\n",
    "        return 'real_estate'\n",
    "    if 'property' in purpose:\n",
    "        return 'real_estate'\n",
    "    if 'housing' in purpose:\n",
    "        return 'real_estate'\n",
    "    if 'house' in purpose:\n",
    "        return 'real_estate'\n",
    "    elif 'wedding' in purpose:\n",
    "        return 'wedding'\n",
    "    elif 'car' in purpose:\n",
    "        return 'car'\n",
    "    elif 'cars' in purpose:\n",
    "        return 'car'     \n",
    "    elif 'university' in purpose:\n",
    "        return 'education'\n",
    "    elif 'education' in purpose:\n",
    "        return 'education'\n",
    "    elif 'educated' in purpose:\n",
    "        return 'education'"
   ]
  },
  {
   "cell_type": "markdown",
   "metadata": {},
   "source": []
  },
  {
   "cell_type": "code",
   "execution_count": 31,
   "metadata": {},
   "outputs": [
    {
     "name": "stdout",
     "output_type": "stream",
     "text": [
      "['real_estate' 'car' 'education' 'wedding']\n"
     ]
    }
   ],
   "source": [
    "df['purpose']=df['purpose'].apply(assign_purpose_group)\n",
    "print(df['purpose'].unique())\n"
   ]
  },
  {
   "cell_type": "markdown",
   "metadata": {},
   "source": [
    "Now we need to get rid of duplicates."
   ]
  },
  {
   "cell_type": "code",
   "execution_count": 32,
   "metadata": {},
   "outputs": [
    {
     "name": "stdout",
     "output_type": "stream",
     "text": [
      "404\n",
      "      children  days_employed  dob_years            education  education_id  \\\n",
      "360          0            NaN         27  secondary education             1   \n",
      "829          0            NaN         57  secondary education             1   \n",
      "1010         0            NaN         66  secondary education             1   \n",
      "1072         0            NaN         44  secondary education             1   \n",
      "1247         0            NaN         54  secondary education             1   \n",
      "2210         1            NaN         49    bachelor_s degree             0   \n",
      "2343         0            NaN         47  secondary education             1   \n",
      "2700         0            NaN         65  secondary education             1   \n",
      "2849         0            NaN         41  secondary education             1   \n",
      "3018         1            NaN         26  secondary education             1   \n",
      "3075         0            NaN         62  secondary education             1   \n",
      "3127         0            NaN         50  secondary education             1   \n",
      "3290         0            NaN         58  secondary education             1   \n",
      "3378         0            NaN         62  secondary education             1   \n",
      "3398         0            NaN         45  secondary education             1   \n",
      "3525         0            NaN         50  secondary education             1   \n",
      "3553         0            NaN         58  secondary education             1   \n",
      "3609         0            NaN         64  secondary education             1   \n",
      "3907         0            NaN         56  secondary education             1   \n",
      "4108         0            NaN         33    bachelor_s degree             0   \n",
      "\n",
      "          family_status  family_status_id gender    income_type  debt  \\\n",
      "360             married                 0      M       business     0   \n",
      "829   civil partnership                 1      F       business     0   \n",
      "1010            married                 0      F        retiree     0   \n",
      "1072  civil partnership                 1      F       employee     0   \n",
      "1247  civil partnership                 1      M       employee     0   \n",
      "2210            married                 0      F       employee     0   \n",
      "2343            married                 0      M       employee     0   \n",
      "2700            married                 0      F        retiree     0   \n",
      "2849            married                 0      F       employee     0   \n",
      "3018            married                 0      F       employee     0   \n",
      "3075            married                 0      M        retiree     0   \n",
      "3127            married                 0      M       business     0   \n",
      "3290  civil partnership                 1      F        retiree     0   \n",
      "3378            married                 0      F        retiree     0   \n",
      "3398            married                 0      F       business     0   \n",
      "3525            married                 0      F  civil servant     0   \n",
      "3553    widow / widower                 2      F        retiree     0   \n",
      "3609            married                 0      F        retiree     0   \n",
      "3907            married                 0      F        retiree     0   \n",
      "4108          unmarried                 4      F       business     0   \n",
      "\n",
      "      total_income      purpose  \n",
      "360            NaN  real_estate  \n",
      "829            NaN    education  \n",
      "1010           NaN  real_estate  \n",
      "1072           NaN  real_estate  \n",
      "1247           NaN      wedding  \n",
      "2210           NaN  real_estate  \n",
      "2343           NaN  real_estate  \n",
      "2700           NaN  real_estate  \n",
      "2849           NaN  real_estate  \n",
      "3018           NaN  real_estate  \n",
      "3075           NaN  real_estate  \n",
      "3127           NaN  real_estate  \n",
      "3290           NaN      wedding  \n",
      "3378           NaN  real_estate  \n",
      "3398           NaN  real_estate  \n",
      "3525           NaN          car  \n",
      "3553           NaN    education  \n",
      "3609           NaN  real_estate  \n",
      "3907           NaN  real_estate  \n",
      "4108           NaN    education  \n"
     ]
    }
   ],
   "source": [
    "print(df.duplicated().sum())# Checking duplicates\n",
    "print(df[df.duplicated()].head(20))\n"
   ]
  },
  {
   "cell_type": "code",
   "execution_count": 33,
   "metadata": {},
   "outputs": [],
   "source": [
    "df=df.drop_duplicates()# Address the duplicates, if they exist"
   ]
  },
  {
   "cell_type": "code",
   "execution_count": 34,
   "metadata": {},
   "outputs": [
    {
     "data": {
      "text/plain": [
       "0"
      ]
     },
     "execution_count": 34,
     "metadata": {},
     "output_type": "execute_result"
    }
   ],
   "source": [
    "df.duplicated().sum()# Last check whether we have any duplicates\n"
   ]
  },
  {
   "cell_type": "code",
   "execution_count": 35,
   "metadata": {},
   "outputs": [
    {
     "name": "stdout",
     "output_type": "stream",
     "text": [
      "(20897, 12)\n",
      "the_percentage_of_the_changes 1.37%\n"
     ]
    }
   ],
   "source": [
    "print(df.shape)# Check the size of the dataset that you now have after your first manipulations with it\n",
    "print('the_percentage_of_the_changes {:.2%}'.format((21525-21230)/21525))"
   ]
  },
  {
   "cell_type": "markdown",
   "metadata": {},
   "source": [
    "We removed the missing values, which were in a small amount and do not affect the result, removed duplicates.\n"
   ]
  },
  {
   "cell_type": "markdown",
   "metadata": {},
   "source": [
    "# Working with missing values"
   ]
  },
  {
   "cell_type": "markdown",
   "metadata": {},
   "source": [
    "[To speed up working with some data, you may want to work with dictionaries for some values, where IDs are provided. Explain why and which dictionaries you will work with.]"
   ]
  },
  {
   "cell_type": "code",
   "execution_count": 36,
   "metadata": {},
   "outputs": [],
   "source": [
    "# Find the dictionaries"
   ]
  },
  {
   "cell_type": "markdown",
   "metadata": {},
   "source": [
    "### Restoring missing values in `total_income`"
   ]
  },
  {
   "cell_type": "markdown",
   "metadata": {},
   "source": [
    "We need to fill in the missing values in total_income and days_employed columns.\n",
    "To do this, we need to calculate the average values for groups in accordance with category of customers as age, income_type.\n"
   ]
  },
  {
   "cell_type": "code",
   "execution_count": 37,
   "metadata": {},
   "outputs": [],
   "source": [
    "# Let's write a function that calculates the age category\n",
    "def assign_age_group(age):\n",
    "    if age < 30:\n",
    "        return '18-29'\n",
    "    elif age < 40:\n",
    "        return '30-39'\n",
    "    elif age < 50:\n",
    "        return '40-49'\n",
    "    elif age < 60:\n",
    "        return '50-59'\n",
    "    elif age >= 60:\n",
    "        return '60+'\n",
    "\n",
    "    "
   ]
  },
  {
   "cell_type": "code",
   "execution_count": 38,
   "metadata": {
    "scrolled": true
   },
   "outputs": [
    {
     "data": {
      "text/plain": [
       "0     40-49\n",
       "1     30-39\n",
       "2     30-39\n",
       "3     30-39\n",
       "4     50-59\n",
       "5     18-29\n",
       "6     40-49\n",
       "7     50-59\n",
       "8     30-39\n",
       "9     40-49\n",
       "10    30-39\n",
       "11    40-49\n",
       "12      60+\n",
       "13    50-59\n",
       "14    50-59\n",
       "15    18-29\n",
       "16    30-39\n",
       "17    30-39\n",
       "18    50-59\n",
       "19    40-49\n",
       "Name: dob_years, dtype: object"
      ]
     },
     "execution_count": 38,
     "metadata": {},
     "output_type": "execute_result"
    }
   ],
   "source": [
    "df['dob_years'].apply(assign_age_group).head(20)# Test if the function works\n"
   ]
  },
  {
   "cell_type": "code",
   "execution_count": 39,
   "metadata": {},
   "outputs": [],
   "source": [
    "df['assign_age_group']=df['dob_years'].apply(assign_age_group)# Creating new column based on function\n",
    "\n"
   ]
  },
  {
   "cell_type": "code",
   "execution_count": 40,
   "metadata": {
    "scrolled": true
   },
   "outputs": [
    {
     "name": "stdout",
     "output_type": "stream",
     "text": [
      "<class 'pandas.core.frame.DataFrame'>\n",
      "Int64Index: 20897 entries, 0 to 21524\n",
      "Data columns (total 13 columns):\n",
      " #   Column            Non-Null Count  Dtype  \n",
      "---  ------            --------------  -----  \n",
      " 0   children          20897 non-null  int64  \n",
      " 1   days_employed     19149 non-null  float64\n",
      " 2   dob_years         20897 non-null  int64  \n",
      " 3   education         20897 non-null  object \n",
      " 4   education_id      20897 non-null  int64  \n",
      " 5   family_status     20897 non-null  object \n",
      " 6   family_status_id  20897 non-null  int64  \n",
      " 7   gender            20897 non-null  object \n",
      " 8   income_type       20897 non-null  object \n",
      " 9   debt              20897 non-null  int64  \n",
      " 10  total_income      19149 non-null  float64\n",
      " 11  purpose           20897 non-null  object \n",
      " 12  assign_age_group  20897 non-null  object \n",
      "dtypes: float64(2), int64(5), object(6)\n",
      "memory usage: 2.2+ MB\n"
     ]
    }
   ],
   "source": [
    "df['assign_age_group'].value_counts().sort_index()# Checking how values in the new column\n",
    "df.info()\n"
   ]
  },
  {
   "cell_type": "markdown",
   "metadata": {},
   "source": [
    "Create a table that only has data without missing values. This data will be used to restore the missing values."
   ]
  },
  {
   "cell_type": "code",
   "execution_count": 41,
   "metadata": {},
   "outputs": [
    {
     "name": "stdout",
     "output_type": "stream",
     "text": [
      "    children  days_employed  dob_years            education  education_id  \\\n",
      "0          1     351.569709         42    bachelor_s degree             0   \n",
      "1          1     167.700156         36  secondary education             1   \n",
      "2          0     234.309275         33  secondary education             1   \n",
      "3          3     171.864467         32  secondary education             1   \n",
      "4          0   14177.753002         53  secondary education             1   \n",
      "5          0      38.591076         27    bachelor_s degree             0   \n",
      "6          0     119.966752         43    bachelor_s degree             0   \n",
      "7          0       6.365815         50  secondary education             1   \n",
      "8          2     288.744387         35    bachelor_s degree             0   \n",
      "9          0      91.198185         41  secondary education             1   \n",
      "10         2     173.811819         36    bachelor_s degree             0   \n",
      "11         0      33.029245         40  secondary education             1   \n",
      "13         0      76.943414         54              college             2   \n",
      "14         0      76.873174         56    bachelor_s degree             0   \n",
      "15         1      40.515184         26  secondary education             1   \n",
      "16         0      71.663926         35  secondary education             1   \n",
      "17         0      98.749988         33    bachelor_s degree             0   \n",
      "18         0   16678.380705         53  secondary education             1   \n",
      "19         0     418.284106         48  secondary education             1   \n",
      "20         1      54.650174         36  secondary education             1   \n",
      "21         1      10.570215         33  secondary education             1   \n",
      "22         1      73.610172         24  secondary education             1   \n",
      "23         0      11.374224         21    bachelor_s degree             0   \n",
      "24         1   14106.331371         57  secondary education             1   \n",
      "25         0   15147.853723         67  secondary education             1   \n",
      "27         0      22.049651         28    bachelor_s degree             0   \n",
      "28         1      29.886430         26    bachelor_s degree             0   \n",
      "30         1   13982.569521         62  secondary education             1   \n",
      "31         0      70.086810         47    primary education             3   \n",
      "32         0     193.746285         34  secondary education             1   \n",
      "\n",
      "        family_status  family_status_id gender income_type  debt  \\\n",
      "0             married                 0      F    employee     0   \n",
      "1             married                 0      F    employee     0   \n",
      "2             married                 0      M    employee     0   \n",
      "3             married                 0      M    employee     0   \n",
      "4   civil partnership                 1      F     retiree     0   \n",
      "5   civil partnership                 1      M    business     0   \n",
      "6             married                 0      F    business     0   \n",
      "7             married                 0      M    employee     0   \n",
      "8   civil partnership                 1      F    employee     0   \n",
      "9             married                 0      M    employee     0   \n",
      "10            married                 0      M    business     0   \n",
      "11            married                 0      F    employee     0   \n",
      "13            married                 0      F    employee     0   \n",
      "14  civil partnership                 1      F    business     1   \n",
      "15            married                 0      F    employee     0   \n",
      "16            married                 0      F    employee     0   \n",
      "17  civil partnership                 1      M    employee     0   \n",
      "18    widow / widower                 2      F     retiree     0   \n",
      "19           divorced                 3      F    employee     0   \n",
      "20            married                 0      M    employee     0   \n",
      "21  civil partnership                 1      F    employee     0   \n",
      "22  civil partnership                 1      F    employee     0   \n",
      "23  civil partnership                 1      M    employee     0   \n",
      "24          unmarried                 4      F     retiree     0   \n",
      "25            married                 0      M     retiree     0   \n",
      "27            married                 0      M    employee     0   \n",
      "28            married                 0      F    employee     0   \n",
      "30            married                 0      F     retiree     0   \n",
      "31            married                 0      F    employee     0   \n",
      "32  civil partnership                 1      F    employee     1   \n",
      "\n",
      "    total_income      purpose assign_age_group  \n",
      "0      40620.102  real_estate            40-49  \n",
      "1      17932.802          car            30-39  \n",
      "2      23341.752  real_estate            30-39  \n",
      "3      42820.568    education            30-39  \n",
      "4      25378.572      wedding            50-59  \n",
      "5      40922.170  real_estate            18-29  \n",
      "6      38484.156  real_estate            40-49  \n",
      "7      21731.829    education            50-59  \n",
      "8      15337.093      wedding            30-39  \n",
      "9      23108.150  real_estate            40-49  \n",
      "10     18230.959  real_estate            30-39  \n",
      "11     12331.077  real_estate            40-49  \n",
      "13     20873.317          car            50-59  \n",
      "14     26420.466  real_estate            50-59  \n",
      "15     18691.345  real_estate            18-29  \n",
      "16     46272.433  real_estate            30-39  \n",
      "17     14465.694  real_estate            30-39  \n",
      "18      9091.804          car            50-59  \n",
      "19     38852.977          car            40-49  \n",
      "20     33528.423  real_estate            30-39  \n",
      "21     21089.953          car            30-39  \n",
      "22     23948.983          car            18-29  \n",
      "23     20522.515      wedding            18-29  \n",
      "24     46487.558  real_estate            50-59  \n",
      "25      8818.041  real_estate              60+  \n",
      "27     49415.837  real_estate            18-29  \n",
      "28     30058.118  real_estate            18-29  \n",
      "30     27432.971  real_estate              60+  \n",
      "31     44077.710  real_estate            40-49  \n",
      "32     22249.194      wedding            30-39  \n",
      "<class 'pandas.core.frame.DataFrame'>\n",
      "Int64Index: 19149 entries, 0 to 21524\n",
      "Data columns (total 13 columns):\n",
      " #   Column            Non-Null Count  Dtype  \n",
      "---  ------            --------------  -----  \n",
      " 0   children          19149 non-null  int64  \n",
      " 1   days_employed     19149 non-null  float64\n",
      " 2   dob_years         19149 non-null  int64  \n",
      " 3   education         19149 non-null  object \n",
      " 4   education_id      19149 non-null  int64  \n",
      " 5   family_status     19149 non-null  object \n",
      " 6   family_status_id  19149 non-null  int64  \n",
      " 7   gender            19149 non-null  object \n",
      " 8   income_type       19149 non-null  object \n",
      " 9   debt              19149 non-null  int64  \n",
      " 10  total_income      19149 non-null  float64\n",
      " 11  purpose           19149 non-null  object \n",
      " 12  assign_age_group  19149 non-null  object \n",
      "dtypes: float64(2), int64(5), object(6)\n",
      "memory usage: 2.0+ MB\n",
      "None\n"
     ]
    }
   ],
   "source": [
    "df_no_missing_values=df.dropna()\n",
    "print(df_no_missing_values.head(30))\n",
    "print(df_no_missing_values.info())"
   ]
  },
  {
   "cell_type": "code",
   "execution_count": 42,
   "metadata": {},
   "outputs": [
    {
     "name": "stdout",
     "output_type": "stream",
     "text": [
      "gender\n",
      "F    24666.721477\n",
      "M    30913.888696\n",
      "Name: total_income, dtype: float64\n",
      "education_id\n",
      "0    33197.258790\n",
      "1    24594.390815\n",
      "2    29028.844227\n",
      "3    21144.882211\n",
      "4    27960.024667\n",
      "Name: total_income, dtype: float64\n",
      "income_type\n",
      "business                       32424.420789\n",
      "civil servant                  27336.442546\n",
      "employee                       25822.872585\n",
      "entrepreneur                   79866.103000\n",
      "paternity / maternity leave     8612.661000\n",
      "retiree                        21950.722935\n",
      "student                        15712.260000\n",
      "unemployed                     21014.360500\n",
      "Name: total_income, dtype: float64\n",
      "assign_age_group\n",
      "18-29    25544.231203\n",
      "30-39    28314.525654\n",
      "40-49    28575.427654\n",
      "50-59    25807.707523\n",
      "60+      23015.440182\n",
      "Name: total_income, dtype: float64\n"
     ]
    }
   ],
   "source": [
    "# Look at the mean values for income based on your identified factors\n",
    "pd.to_numeric(df_no_missing_values['total_income'])\n",
    "print(df_no_missing_values.groupby(['gender'])['total_income'].mean())\n",
    "print(df_no_missing_values.groupby(['education_id'])['total_income'].mean())\n",
    "print(df_no_missing_values.groupby(['income_type'])['total_income'].mean())\n",
    "print(df_no_missing_values.groupby(['assign_age_group'])['total_income'].mean())"
   ]
  },
  {
   "cell_type": "code",
   "execution_count": 43,
   "metadata": {
    "scrolled": true
   },
   "outputs": [
    {
     "name": "stdout",
     "output_type": "stream",
     "text": [
      "gender\n",
      "F    21465.6375\n",
      "M    26828.2450\n",
      "Name: total_income, dtype: float64\n",
      "education_id\n",
      "0    28086.5425\n",
      "1    21832.2410\n",
      "2    25618.4640\n",
      "3    18741.9760\n",
      "4    25161.5835\n",
      "Name: total_income, dtype: float64\n",
      "income_type\n",
      "business                       27594.6410\n",
      "civil servant                  24076.1150\n",
      "employee                       22815.1035\n",
      "entrepreneur                   79866.1030\n",
      "paternity / maternity leave     8612.6610\n",
      "retiree                        18959.6260\n",
      "student                        15712.2600\n",
      "unemployed                     21014.3605\n",
      "Name: total_income, dtype: float64\n",
      "assign_age_group\n",
      "18-29    25544.231203\n",
      "30-39    28314.525654\n",
      "40-49    28575.427654\n",
      "50-59    25807.707523\n",
      "60+      23015.440182\n",
      "Name: total_income, dtype: float64\n"
     ]
    }
   ],
   "source": [
    "print(df_no_missing_values.groupby(['gender'])['total_income'].median())\n",
    "print(df_no_missing_values.groupby(['education_id'])['total_income'].median())\n",
    "print(df_no_missing_values.groupby(['income_type'])['total_income'].median())\n",
    "print(df_no_missing_values.groupby(['assign_age_group'])['total_income'].mean())# Look at the median values for income based on your identified factors\n"
   ]
  },
  {
   "cell_type": "markdown",
   "metadata": {},
   "source": [
    "\n"
   ]
  },
  {
   "cell_type": "markdown",
   "metadata": {},
   "source": [
    "\n",
    "The distribution of values is uneven, large differences, so we use the median"
   ]
  },
  {
   "cell_type": "code",
   "execution_count": 44,
   "metadata": {},
   "outputs": [],
   "source": [
    "group_df=df_no_missing_values.groupby(['income_type'])['total_income'].median()\n",
    "group_df_dict=pd.Series(group_df).to_dict()\n",
    "df['total_income']=df['total_income'].fillna(df.income_type.map(group_df_dict))\n",
    "        \n",
    "        "
   ]
  },
  {
   "cell_type": "code",
   "execution_count": 45,
   "metadata": {},
   "outputs": [
    {
     "name": "stdout",
     "output_type": "stream",
     "text": [
      "0\n",
      "0     40620.102\n",
      "1     17932.802\n",
      "2     23341.752\n",
      "3     42820.568\n",
      "4     25378.572\n",
      "5     40922.170\n",
      "6     38484.156\n",
      "7     21731.829\n",
      "8     15337.093\n",
      "9     23108.150\n",
      "10    18230.959\n",
      "11    12331.077\n",
      "12    18959.626\n",
      "13    20873.317\n",
      "14    26420.466\n",
      "15    18691.345\n",
      "16    46272.433\n",
      "17    14465.694\n",
      "18     9091.804\n",
      "19    38852.977\n",
      "20    33528.423\n",
      "21    21089.953\n",
      "22    23948.983\n",
      "23    20522.515\n",
      "24    46487.558\n",
      "25     8818.041\n",
      "26    24076.115\n",
      "27    49415.837\n",
      "28    30058.118\n",
      "29    18959.626\n",
      "Name: total_income, dtype: float64\n"
     ]
    }
   ],
   "source": [
    "print(df['total_income'].isna().sum())\n",
    "print(df['total_income'].head(30))"
   ]
  },
  {
   "cell_type": "code",
   "execution_count": 46,
   "metadata": {},
   "outputs": [
    {
     "name": "stdout",
     "output_type": "stream",
     "text": [
      "<class 'pandas.core.frame.DataFrame'>\n",
      "Int64Index: 20897 entries, 0 to 21524\n",
      "Data columns (total 13 columns):\n",
      " #   Column            Non-Null Count  Dtype  \n",
      "---  ------            --------------  -----  \n",
      " 0   children          20897 non-null  int64  \n",
      " 1   days_employed     19149 non-null  float64\n",
      " 2   dob_years         20897 non-null  int64  \n",
      " 3   education         20897 non-null  object \n",
      " 4   education_id      20897 non-null  int64  \n",
      " 5   family_status     20897 non-null  object \n",
      " 6   family_status_id  20897 non-null  int64  \n",
      " 7   gender            20897 non-null  object \n",
      " 8   income_type       20897 non-null  object \n",
      " 9   debt              20897 non-null  int64  \n",
      " 10  total_income      20897 non-null  float64\n",
      " 11  purpose           20897 non-null  object \n",
      " 12  assign_age_group  20897 non-null  object \n",
      "dtypes: float64(2), int64(5), object(6)\n",
      "memory usage: 2.2+ MB\n",
      "   children  days_employed  dob_years            education  education_id  \\\n",
      "0         1     351.569709         42    bachelor_s degree             0   \n",
      "1         1     167.700156         36  secondary education             1   \n",
      "2         0     234.309275         33  secondary education             1   \n",
      "3         3     171.864467         32  secondary education             1   \n",
      "4         0   14177.753002         53  secondary education             1   \n",
      "\n",
      "       family_status  family_status_id gender income_type  debt  total_income  \\\n",
      "0            married                 0      F    employee     0     40620.102   \n",
      "1            married                 0      F    employee     0     17932.802   \n",
      "2            married                 0      M    employee     0     23341.752   \n",
      "3            married                 0      M    employee     0     42820.568   \n",
      "4  civil partnership                 1      F     retiree     0     25378.572   \n",
      "\n",
      "       purpose assign_age_group  \n",
      "0  real_estate            40-49  \n",
      "1          car            30-39  \n",
      "2  real_estate            30-39  \n",
      "3    education            30-39  \n",
      "4      wedding            50-59  \n"
     ]
    }
   ],
   "source": [
    "df.info()# Check if we got any errors\n",
    "print(df.head())"
   ]
  },
  {
   "cell_type": "markdown",
   "metadata": {},
   "source": [
    "###  Restoring values in `days_employed`"
   ]
  },
  {
   "cell_type": "markdown",
   "metadata": {},
   "source": [
    "For filling missing values, we need to calculate the average values for groups in accordance with category of customers as assign_age_group."
   ]
  },
  {
   "cell_type": "code",
   "execution_count": 47,
   "metadata": {
    "pycharm": {
     "name": "#%%\n"
    }
   },
   "outputs": [
    {
     "name": "stdout",
     "output_type": "stream",
     "text": [
      "assign_age_group\n",
      "18-29       81.829595\n",
      "30-39      173.698644\n",
      "40-49      512.857068\n",
      "50-59     5551.078523\n",
      "60+      11934.444208\n",
      "Name: days_employed, dtype: float64\n"
     ]
    }
   ],
   "source": [
    "print(df_no_missing_values.groupby(['assign_age_group'])['days_employed'].mean())# Distribution of `days_employed` medians based on your identified parameters\n",
    "\n",
    "\n"
   ]
  },
  {
   "cell_type": "code",
   "execution_count": 48,
   "metadata": {},
   "outputs": [
    {
     "name": "stdout",
     "output_type": "stream",
     "text": [
      "assign_age_group\n",
      "18-29       41.626203\n",
      "30-39       66.746661\n",
      "40-49       88.028940\n",
      "50-59      200.977686\n",
      "60+      14801.234092\n",
      "Name: days_employed, dtype: float64\n"
     ]
    }
   ],
   "source": [
    "print(df_no_missing_values.groupby(['assign_age_group'])['days_employed'].median())# Distribution of `days_employed` means based on your identified parameters"
   ]
  },
  {
   "cell_type": "markdown",
   "metadata": {},
   "source": [
    "The distribution of values is uneven, large differences, so we use the median"
   ]
  },
  {
   "cell_type": "code",
   "execution_count": 49,
   "metadata": {},
   "outputs": [
    {
     "name": "stdout",
     "output_type": "stream",
     "text": [
      "1748\n"
     ]
    }
   ],
   "source": [
    "print(df['days_employed'].isna().sum())\n",
    "group_df=df_no_missing_values.groupby(['assign_age_group'])['days_employed'].median()\n",
    "group_df_dict=pd.Series(group_df).to_dict()\n",
    "df['days_employed']=df['days_employed'].fillna(df.assign_age_group.map(group_df_dict))# Let's write a function that calculates means or medians (depending on your decision) based on your identified parameter\n"
   ]
  },
  {
   "cell_type": "code",
   "execution_count": 50,
   "metadata": {},
   "outputs": [
    {
     "data": {
      "text/plain": [
       "0"
      ]
     },
     "execution_count": 50,
     "metadata": {},
     "output_type": "execute_result"
    }
   ],
   "source": [
    "df['days_employed'].isna().sum()# Check that the function works\n",
    "\n"
   ]
  },
  {
   "cell_type": "code",
   "execution_count": 51,
   "metadata": {},
   "outputs": [
    {
     "name": "stdout",
     "output_type": "stream",
     "text": [
      "<class 'pandas.core.frame.DataFrame'>\n",
      "Int64Index: 20897 entries, 0 to 21524\n",
      "Data columns (total 13 columns):\n",
      " #   Column            Non-Null Count  Dtype  \n",
      "---  ------            --------------  -----  \n",
      " 0   children          20897 non-null  int64  \n",
      " 1   days_employed     20897 non-null  float64\n",
      " 2   dob_years         20897 non-null  int64  \n",
      " 3   education         20897 non-null  object \n",
      " 4   education_id      20897 non-null  int64  \n",
      " 5   family_status     20897 non-null  object \n",
      " 6   family_status_id  20897 non-null  int64  \n",
      " 7   gender            20897 non-null  object \n",
      " 8   income_type       20897 non-null  object \n",
      " 9   debt              20897 non-null  int64  \n",
      " 10  total_income      20897 non-null  float64\n",
      " 11  purpose           20897 non-null  object \n",
      " 12  assign_age_group  20897 non-null  object \n",
      "dtypes: float64(2), int64(5), object(6)\n",
      "memory usage: 2.2+ MB\n"
     ]
    }
   ],
   "source": [
    "df.info()\n"
   ]
  },
  {
   "cell_type": "code",
   "execution_count": 52,
   "metadata": {},
   "outputs": [
    {
     "data": {
      "text/plain": [
       "0        40620\n",
       "1        17932\n",
       "2        23341\n",
       "3        42820\n",
       "4        25378\n",
       "         ...  \n",
       "21520    35966\n",
       "21521    24959\n",
       "21522    14347\n",
       "21523    39054\n",
       "21524    13127\n",
       "Name: total_income, Length: 20897, dtype: int64"
      ]
     },
     "execution_count": 52,
     "metadata": {},
     "output_type": "execute_result"
    }
   ],
   "source": [
    "df['total_income'].astype('int') "
   ]
  },
  {
   "cell_type": "markdown",
   "metadata": {},
   "source": [
    "## Categorization of data\n",
    "\n",
    "To analyze customer debts, it is necessary to find the percentage of such customers for each category and identify such categories where the percentage of customers with debt is higher than in other categories.\n",
    "We will consider such characteristics as: the presence of children, family_status, total_income, income_type, purpose of the loan.\n"
   ]
  },
  {
   "cell_type": "code",
   "execution_count": 53,
   "metadata": {
    "scrolled": true
   },
   "outputs": [
    {
     "name": "stdout",
     "output_type": "stream",
     "text": [
      "3306.762\n",
      "362496.645\n"
     ]
    }
   ],
   "source": [
    "print(df['total_income'].min()) # Print min and max the values for selected data for categorization\n",
    "print(df['total_income'].max())\n"
   ]
  },
  {
   "cell_type": "code",
   "execution_count": 54,
   "metadata": {},
   "outputs": [
    {
     "name": "stdout",
     "output_type": "stream",
     "text": [
      "22815.103499999997\n"
     ]
    }
   ],
   "source": [
    "print(df['total_income'].median())\n"
   ]
  },
  {
   "cell_type": "markdown",
   "metadata": {},
   "source": [
    "Let's group the values into three categories low, middle and high income.\n",
    "\n"
   ]
  },
  {
   "cell_type": "code",
   "execution_count": 55,
   "metadata": {},
   "outputs": [],
   "source": [
    "def assign_total_income_group(total_income):\n",
    "    if total_income < 15000:\n",
    "        return 'low'\n",
    "    elif total_income < 30000:\n",
    "        return 'middle'\n",
    "    elif total_income >= 30000:\n",
    "        return 'high'\n"
   ]
  },
  {
   "cell_type": "code",
   "execution_count": 56,
   "metadata": {},
   "outputs": [],
   "source": [
    "df['total_income_group']=df['total_income'].apply(assign_total_income_group)# Create a column with the categories and count the values for them\n",
    "\n"
   ]
  },
  {
   "cell_type": "code",
   "execution_count": 57,
   "metadata": {
    "scrolled": true
   },
   "outputs": [
    {
     "data": {
      "text/html": [
       "<div>\n",
       "<style scoped>\n",
       "    .dataframe tbody tr th:only-of-type {\n",
       "        vertical-align: middle;\n",
       "    }\n",
       "\n",
       "    .dataframe tbody tr th {\n",
       "        vertical-align: top;\n",
       "    }\n",
       "\n",
       "    .dataframe thead th {\n",
       "        text-align: right;\n",
       "    }\n",
       "</style>\n",
       "<table border=\"1\" class=\"dataframe\">\n",
       "  <thead>\n",
       "    <tr style=\"text-align: right;\">\n",
       "      <th></th>\n",
       "      <th>children</th>\n",
       "      <th>days_employed</th>\n",
       "      <th>dob_years</th>\n",
       "      <th>education</th>\n",
       "      <th>education_id</th>\n",
       "      <th>family_status</th>\n",
       "      <th>family_status_id</th>\n",
       "      <th>gender</th>\n",
       "      <th>income_type</th>\n",
       "      <th>debt</th>\n",
       "      <th>total_income</th>\n",
       "      <th>purpose</th>\n",
       "      <th>assign_age_group</th>\n",
       "      <th>total_income_group</th>\n",
       "    </tr>\n",
       "  </thead>\n",
       "  <tbody>\n",
       "    <tr>\n",
       "      <th>0</th>\n",
       "      <td>1</td>\n",
       "      <td>351.569709</td>\n",
       "      <td>42</td>\n",
       "      <td>bachelor_s degree</td>\n",
       "      <td>0</td>\n",
       "      <td>married</td>\n",
       "      <td>0</td>\n",
       "      <td>F</td>\n",
       "      <td>employee</td>\n",
       "      <td>0</td>\n",
       "      <td>40620.102</td>\n",
       "      <td>real_estate</td>\n",
       "      <td>40-49</td>\n",
       "      <td>high</td>\n",
       "    </tr>\n",
       "    <tr>\n",
       "      <th>1</th>\n",
       "      <td>1</td>\n",
       "      <td>167.700156</td>\n",
       "      <td>36</td>\n",
       "      <td>secondary education</td>\n",
       "      <td>1</td>\n",
       "      <td>married</td>\n",
       "      <td>0</td>\n",
       "      <td>F</td>\n",
       "      <td>employee</td>\n",
       "      <td>0</td>\n",
       "      <td>17932.802</td>\n",
       "      <td>car</td>\n",
       "      <td>30-39</td>\n",
       "      <td>middle</td>\n",
       "    </tr>\n",
       "    <tr>\n",
       "      <th>2</th>\n",
       "      <td>0</td>\n",
       "      <td>234.309275</td>\n",
       "      <td>33</td>\n",
       "      <td>secondary education</td>\n",
       "      <td>1</td>\n",
       "      <td>married</td>\n",
       "      <td>0</td>\n",
       "      <td>M</td>\n",
       "      <td>employee</td>\n",
       "      <td>0</td>\n",
       "      <td>23341.752</td>\n",
       "      <td>real_estate</td>\n",
       "      <td>30-39</td>\n",
       "      <td>middle</td>\n",
       "    </tr>\n",
       "    <tr>\n",
       "      <th>3</th>\n",
       "      <td>3</td>\n",
       "      <td>171.864467</td>\n",
       "      <td>32</td>\n",
       "      <td>secondary education</td>\n",
       "      <td>1</td>\n",
       "      <td>married</td>\n",
       "      <td>0</td>\n",
       "      <td>M</td>\n",
       "      <td>employee</td>\n",
       "      <td>0</td>\n",
       "      <td>42820.568</td>\n",
       "      <td>education</td>\n",
       "      <td>30-39</td>\n",
       "      <td>high</td>\n",
       "    </tr>\n",
       "    <tr>\n",
       "      <th>4</th>\n",
       "      <td>0</td>\n",
       "      <td>14177.753002</td>\n",
       "      <td>53</td>\n",
       "      <td>secondary education</td>\n",
       "      <td>1</td>\n",
       "      <td>civil partnership</td>\n",
       "      <td>1</td>\n",
       "      <td>F</td>\n",
       "      <td>retiree</td>\n",
       "      <td>0</td>\n",
       "      <td>25378.572</td>\n",
       "      <td>wedding</td>\n",
       "      <td>50-59</td>\n",
       "      <td>middle</td>\n",
       "    </tr>\n",
       "    <tr>\n",
       "      <th>5</th>\n",
       "      <td>0</td>\n",
       "      <td>38.591076</td>\n",
       "      <td>27</td>\n",
       "      <td>bachelor_s degree</td>\n",
       "      <td>0</td>\n",
       "      <td>civil partnership</td>\n",
       "      <td>1</td>\n",
       "      <td>M</td>\n",
       "      <td>business</td>\n",
       "      <td>0</td>\n",
       "      <td>40922.170</td>\n",
       "      <td>real_estate</td>\n",
       "      <td>18-29</td>\n",
       "      <td>high</td>\n",
       "    </tr>\n",
       "    <tr>\n",
       "      <th>6</th>\n",
       "      <td>0</td>\n",
       "      <td>119.966752</td>\n",
       "      <td>43</td>\n",
       "      <td>bachelor_s degree</td>\n",
       "      <td>0</td>\n",
       "      <td>married</td>\n",
       "      <td>0</td>\n",
       "      <td>F</td>\n",
       "      <td>business</td>\n",
       "      <td>0</td>\n",
       "      <td>38484.156</td>\n",
       "      <td>real_estate</td>\n",
       "      <td>40-49</td>\n",
       "      <td>high</td>\n",
       "    </tr>\n",
       "    <tr>\n",
       "      <th>7</th>\n",
       "      <td>0</td>\n",
       "      <td>6.365815</td>\n",
       "      <td>50</td>\n",
       "      <td>secondary education</td>\n",
       "      <td>1</td>\n",
       "      <td>married</td>\n",
       "      <td>0</td>\n",
       "      <td>M</td>\n",
       "      <td>employee</td>\n",
       "      <td>0</td>\n",
       "      <td>21731.829</td>\n",
       "      <td>education</td>\n",
       "      <td>50-59</td>\n",
       "      <td>middle</td>\n",
       "    </tr>\n",
       "    <tr>\n",
       "      <th>8</th>\n",
       "      <td>2</td>\n",
       "      <td>288.744387</td>\n",
       "      <td>35</td>\n",
       "      <td>bachelor_s degree</td>\n",
       "      <td>0</td>\n",
       "      <td>civil partnership</td>\n",
       "      <td>1</td>\n",
       "      <td>F</td>\n",
       "      <td>employee</td>\n",
       "      <td>0</td>\n",
       "      <td>15337.093</td>\n",
       "      <td>wedding</td>\n",
       "      <td>30-39</td>\n",
       "      <td>middle</td>\n",
       "    </tr>\n",
       "    <tr>\n",
       "      <th>9</th>\n",
       "      <td>0</td>\n",
       "      <td>91.198185</td>\n",
       "      <td>41</td>\n",
       "      <td>secondary education</td>\n",
       "      <td>1</td>\n",
       "      <td>married</td>\n",
       "      <td>0</td>\n",
       "      <td>M</td>\n",
       "      <td>employee</td>\n",
       "      <td>0</td>\n",
       "      <td>23108.150</td>\n",
       "      <td>real_estate</td>\n",
       "      <td>40-49</td>\n",
       "      <td>middle</td>\n",
       "    </tr>\n",
       "    <tr>\n",
       "      <th>10</th>\n",
       "      <td>2</td>\n",
       "      <td>173.811819</td>\n",
       "      <td>36</td>\n",
       "      <td>bachelor_s degree</td>\n",
       "      <td>0</td>\n",
       "      <td>married</td>\n",
       "      <td>0</td>\n",
       "      <td>M</td>\n",
       "      <td>business</td>\n",
       "      <td>0</td>\n",
       "      <td>18230.959</td>\n",
       "      <td>real_estate</td>\n",
       "      <td>30-39</td>\n",
       "      <td>middle</td>\n",
       "    </tr>\n",
       "    <tr>\n",
       "      <th>11</th>\n",
       "      <td>0</td>\n",
       "      <td>33.029245</td>\n",
       "      <td>40</td>\n",
       "      <td>secondary education</td>\n",
       "      <td>1</td>\n",
       "      <td>married</td>\n",
       "      <td>0</td>\n",
       "      <td>F</td>\n",
       "      <td>employee</td>\n",
       "      <td>0</td>\n",
       "      <td>12331.077</td>\n",
       "      <td>real_estate</td>\n",
       "      <td>40-49</td>\n",
       "      <td>low</td>\n",
       "    </tr>\n",
       "    <tr>\n",
       "      <th>12</th>\n",
       "      <td>0</td>\n",
       "      <td>14801.234092</td>\n",
       "      <td>65</td>\n",
       "      <td>secondary education</td>\n",
       "      <td>1</td>\n",
       "      <td>civil partnership</td>\n",
       "      <td>1</td>\n",
       "      <td>M</td>\n",
       "      <td>retiree</td>\n",
       "      <td>0</td>\n",
       "      <td>18959.626</td>\n",
       "      <td>wedding</td>\n",
       "      <td>60+</td>\n",
       "      <td>middle</td>\n",
       "    </tr>\n",
       "    <tr>\n",
       "      <th>13</th>\n",
       "      <td>0</td>\n",
       "      <td>76.943414</td>\n",
       "      <td>54</td>\n",
       "      <td>college</td>\n",
       "      <td>2</td>\n",
       "      <td>married</td>\n",
       "      <td>0</td>\n",
       "      <td>F</td>\n",
       "      <td>employee</td>\n",
       "      <td>0</td>\n",
       "      <td>20873.317</td>\n",
       "      <td>car</td>\n",
       "      <td>50-59</td>\n",
       "      <td>middle</td>\n",
       "    </tr>\n",
       "    <tr>\n",
       "      <th>14</th>\n",
       "      <td>0</td>\n",
       "      <td>76.873174</td>\n",
       "      <td>56</td>\n",
       "      <td>bachelor_s degree</td>\n",
       "      <td>0</td>\n",
       "      <td>civil partnership</td>\n",
       "      <td>1</td>\n",
       "      <td>F</td>\n",
       "      <td>business</td>\n",
       "      <td>1</td>\n",
       "      <td>26420.466</td>\n",
       "      <td>real_estate</td>\n",
       "      <td>50-59</td>\n",
       "      <td>middle</td>\n",
       "    </tr>\n",
       "    <tr>\n",
       "      <th>15</th>\n",
       "      <td>1</td>\n",
       "      <td>40.515184</td>\n",
       "      <td>26</td>\n",
       "      <td>secondary education</td>\n",
       "      <td>1</td>\n",
       "      <td>married</td>\n",
       "      <td>0</td>\n",
       "      <td>F</td>\n",
       "      <td>employee</td>\n",
       "      <td>0</td>\n",
       "      <td>18691.345</td>\n",
       "      <td>real_estate</td>\n",
       "      <td>18-29</td>\n",
       "      <td>middle</td>\n",
       "    </tr>\n",
       "    <tr>\n",
       "      <th>16</th>\n",
       "      <td>0</td>\n",
       "      <td>71.663926</td>\n",
       "      <td>35</td>\n",
       "      <td>secondary education</td>\n",
       "      <td>1</td>\n",
       "      <td>married</td>\n",
       "      <td>0</td>\n",
       "      <td>F</td>\n",
       "      <td>employee</td>\n",
       "      <td>0</td>\n",
       "      <td>46272.433</td>\n",
       "      <td>real_estate</td>\n",
       "      <td>30-39</td>\n",
       "      <td>high</td>\n",
       "    </tr>\n",
       "    <tr>\n",
       "      <th>17</th>\n",
       "      <td>0</td>\n",
       "      <td>98.749988</td>\n",
       "      <td>33</td>\n",
       "      <td>bachelor_s degree</td>\n",
       "      <td>0</td>\n",
       "      <td>civil partnership</td>\n",
       "      <td>1</td>\n",
       "      <td>M</td>\n",
       "      <td>employee</td>\n",
       "      <td>0</td>\n",
       "      <td>14465.694</td>\n",
       "      <td>real_estate</td>\n",
       "      <td>30-39</td>\n",
       "      <td>low</td>\n",
       "    </tr>\n",
       "    <tr>\n",
       "      <th>18</th>\n",
       "      <td>0</td>\n",
       "      <td>16678.380705</td>\n",
       "      <td>53</td>\n",
       "      <td>secondary education</td>\n",
       "      <td>1</td>\n",
       "      <td>widow / widower</td>\n",
       "      <td>2</td>\n",
       "      <td>F</td>\n",
       "      <td>retiree</td>\n",
       "      <td>0</td>\n",
       "      <td>9091.804</td>\n",
       "      <td>car</td>\n",
       "      <td>50-59</td>\n",
       "      <td>low</td>\n",
       "    </tr>\n",
       "    <tr>\n",
       "      <th>19</th>\n",
       "      <td>0</td>\n",
       "      <td>418.284106</td>\n",
       "      <td>48</td>\n",
       "      <td>secondary education</td>\n",
       "      <td>1</td>\n",
       "      <td>divorced</td>\n",
       "      <td>3</td>\n",
       "      <td>F</td>\n",
       "      <td>employee</td>\n",
       "      <td>0</td>\n",
       "      <td>38852.977</td>\n",
       "      <td>car</td>\n",
       "      <td>40-49</td>\n",
       "      <td>high</td>\n",
       "    </tr>\n",
       "    <tr>\n",
       "      <th>20</th>\n",
       "      <td>1</td>\n",
       "      <td>54.650174</td>\n",
       "      <td>36</td>\n",
       "      <td>secondary education</td>\n",
       "      <td>1</td>\n",
       "      <td>married</td>\n",
       "      <td>0</td>\n",
       "      <td>M</td>\n",
       "      <td>employee</td>\n",
       "      <td>0</td>\n",
       "      <td>33528.423</td>\n",
       "      <td>real_estate</td>\n",
       "      <td>30-39</td>\n",
       "      <td>high</td>\n",
       "    </tr>\n",
       "    <tr>\n",
       "      <th>21</th>\n",
       "      <td>1</td>\n",
       "      <td>10.570215</td>\n",
       "      <td>33</td>\n",
       "      <td>secondary education</td>\n",
       "      <td>1</td>\n",
       "      <td>civil partnership</td>\n",
       "      <td>1</td>\n",
       "      <td>F</td>\n",
       "      <td>employee</td>\n",
       "      <td>0</td>\n",
       "      <td>21089.953</td>\n",
       "      <td>car</td>\n",
       "      <td>30-39</td>\n",
       "      <td>middle</td>\n",
       "    </tr>\n",
       "    <tr>\n",
       "      <th>22</th>\n",
       "      <td>1</td>\n",
       "      <td>73.610172</td>\n",
       "      <td>24</td>\n",
       "      <td>secondary education</td>\n",
       "      <td>1</td>\n",
       "      <td>civil partnership</td>\n",
       "      <td>1</td>\n",
       "      <td>F</td>\n",
       "      <td>employee</td>\n",
       "      <td>0</td>\n",
       "      <td>23948.983</td>\n",
       "      <td>car</td>\n",
       "      <td>18-29</td>\n",
       "      <td>middle</td>\n",
       "    </tr>\n",
       "    <tr>\n",
       "      <th>23</th>\n",
       "      <td>0</td>\n",
       "      <td>11.374224</td>\n",
       "      <td>21</td>\n",
       "      <td>bachelor_s degree</td>\n",
       "      <td>0</td>\n",
       "      <td>civil partnership</td>\n",
       "      <td>1</td>\n",
       "      <td>M</td>\n",
       "      <td>employee</td>\n",
       "      <td>0</td>\n",
       "      <td>20522.515</td>\n",
       "      <td>wedding</td>\n",
       "      <td>18-29</td>\n",
       "      <td>middle</td>\n",
       "    </tr>\n",
       "    <tr>\n",
       "      <th>24</th>\n",
       "      <td>1</td>\n",
       "      <td>14106.331371</td>\n",
       "      <td>57</td>\n",
       "      <td>secondary education</td>\n",
       "      <td>1</td>\n",
       "      <td>unmarried</td>\n",
       "      <td>4</td>\n",
       "      <td>F</td>\n",
       "      <td>retiree</td>\n",
       "      <td>0</td>\n",
       "      <td>46487.558</td>\n",
       "      <td>real_estate</td>\n",
       "      <td>50-59</td>\n",
       "      <td>high</td>\n",
       "    </tr>\n",
       "    <tr>\n",
       "      <th>25</th>\n",
       "      <td>0</td>\n",
       "      <td>15147.853723</td>\n",
       "      <td>67</td>\n",
       "      <td>secondary education</td>\n",
       "      <td>1</td>\n",
       "      <td>married</td>\n",
       "      <td>0</td>\n",
       "      <td>M</td>\n",
       "      <td>retiree</td>\n",
       "      <td>0</td>\n",
       "      <td>8818.041</td>\n",
       "      <td>real_estate</td>\n",
       "      <td>60+</td>\n",
       "      <td>low</td>\n",
       "    </tr>\n",
       "    <tr>\n",
       "      <th>26</th>\n",
       "      <td>0</td>\n",
       "      <td>88.028940</td>\n",
       "      <td>41</td>\n",
       "      <td>secondary education</td>\n",
       "      <td>1</td>\n",
       "      <td>married</td>\n",
       "      <td>0</td>\n",
       "      <td>M</td>\n",
       "      <td>civil servant</td>\n",
       "      <td>0</td>\n",
       "      <td>24076.115</td>\n",
       "      <td>education</td>\n",
       "      <td>40-49</td>\n",
       "      <td>middle</td>\n",
       "    </tr>\n",
       "    <tr>\n",
       "      <th>27</th>\n",
       "      <td>0</td>\n",
       "      <td>22.049651</td>\n",
       "      <td>28</td>\n",
       "      <td>bachelor_s degree</td>\n",
       "      <td>0</td>\n",
       "      <td>married</td>\n",
       "      <td>0</td>\n",
       "      <td>M</td>\n",
       "      <td>employee</td>\n",
       "      <td>0</td>\n",
       "      <td>49415.837</td>\n",
       "      <td>real_estate</td>\n",
       "      <td>18-29</td>\n",
       "      <td>high</td>\n",
       "    </tr>\n",
       "    <tr>\n",
       "      <th>28</th>\n",
       "      <td>1</td>\n",
       "      <td>29.886430</td>\n",
       "      <td>26</td>\n",
       "      <td>bachelor_s degree</td>\n",
       "      <td>0</td>\n",
       "      <td>married</td>\n",
       "      <td>0</td>\n",
       "      <td>F</td>\n",
       "      <td>employee</td>\n",
       "      <td>0</td>\n",
       "      <td>30058.118</td>\n",
       "      <td>real_estate</td>\n",
       "      <td>18-29</td>\n",
       "      <td>high</td>\n",
       "    </tr>\n",
       "    <tr>\n",
       "      <th>29</th>\n",
       "      <td>0</td>\n",
       "      <td>14801.234092</td>\n",
       "      <td>63</td>\n",
       "      <td>secondary education</td>\n",
       "      <td>1</td>\n",
       "      <td>unmarried</td>\n",
       "      <td>4</td>\n",
       "      <td>F</td>\n",
       "      <td>retiree</td>\n",
       "      <td>0</td>\n",
       "      <td>18959.626</td>\n",
       "      <td>real_estate</td>\n",
       "      <td>60+</td>\n",
       "      <td>middle</td>\n",
       "    </tr>\n",
       "  </tbody>\n",
       "</table>\n",
       "</div>"
      ],
      "text/plain": [
       "    children  days_employed  dob_years            education  education_id  \\\n",
       "0          1     351.569709         42    bachelor_s degree             0   \n",
       "1          1     167.700156         36  secondary education             1   \n",
       "2          0     234.309275         33  secondary education             1   \n",
       "3          3     171.864467         32  secondary education             1   \n",
       "4          0   14177.753002         53  secondary education             1   \n",
       "5          0      38.591076         27    bachelor_s degree             0   \n",
       "6          0     119.966752         43    bachelor_s degree             0   \n",
       "7          0       6.365815         50  secondary education             1   \n",
       "8          2     288.744387         35    bachelor_s degree             0   \n",
       "9          0      91.198185         41  secondary education             1   \n",
       "10         2     173.811819         36    bachelor_s degree             0   \n",
       "11         0      33.029245         40  secondary education             1   \n",
       "12         0   14801.234092         65  secondary education             1   \n",
       "13         0      76.943414         54              college             2   \n",
       "14         0      76.873174         56    bachelor_s degree             0   \n",
       "15         1      40.515184         26  secondary education             1   \n",
       "16         0      71.663926         35  secondary education             1   \n",
       "17         0      98.749988         33    bachelor_s degree             0   \n",
       "18         0   16678.380705         53  secondary education             1   \n",
       "19         0     418.284106         48  secondary education             1   \n",
       "20         1      54.650174         36  secondary education             1   \n",
       "21         1      10.570215         33  secondary education             1   \n",
       "22         1      73.610172         24  secondary education             1   \n",
       "23         0      11.374224         21    bachelor_s degree             0   \n",
       "24         1   14106.331371         57  secondary education             1   \n",
       "25         0   15147.853723         67  secondary education             1   \n",
       "26         0      88.028940         41  secondary education             1   \n",
       "27         0      22.049651         28    bachelor_s degree             0   \n",
       "28         1      29.886430         26    bachelor_s degree             0   \n",
       "29         0   14801.234092         63  secondary education             1   \n",
       "\n",
       "        family_status  family_status_id gender    income_type  debt  \\\n",
       "0             married                 0      F       employee     0   \n",
       "1             married                 0      F       employee     0   \n",
       "2             married                 0      M       employee     0   \n",
       "3             married                 0      M       employee     0   \n",
       "4   civil partnership                 1      F        retiree     0   \n",
       "5   civil partnership                 1      M       business     0   \n",
       "6             married                 0      F       business     0   \n",
       "7             married                 0      M       employee     0   \n",
       "8   civil partnership                 1      F       employee     0   \n",
       "9             married                 0      M       employee     0   \n",
       "10            married                 0      M       business     0   \n",
       "11            married                 0      F       employee     0   \n",
       "12  civil partnership                 1      M        retiree     0   \n",
       "13            married                 0      F       employee     0   \n",
       "14  civil partnership                 1      F       business     1   \n",
       "15            married                 0      F       employee     0   \n",
       "16            married                 0      F       employee     0   \n",
       "17  civil partnership                 1      M       employee     0   \n",
       "18    widow / widower                 2      F        retiree     0   \n",
       "19           divorced                 3      F       employee     0   \n",
       "20            married                 0      M       employee     0   \n",
       "21  civil partnership                 1      F       employee     0   \n",
       "22  civil partnership                 1      F       employee     0   \n",
       "23  civil partnership                 1      M       employee     0   \n",
       "24          unmarried                 4      F        retiree     0   \n",
       "25            married                 0      M        retiree     0   \n",
       "26            married                 0      M  civil servant     0   \n",
       "27            married                 0      M       employee     0   \n",
       "28            married                 0      F       employee     0   \n",
       "29          unmarried                 4      F        retiree     0   \n",
       "\n",
       "    total_income      purpose assign_age_group total_income_group  \n",
       "0      40620.102  real_estate            40-49               high  \n",
       "1      17932.802          car            30-39             middle  \n",
       "2      23341.752  real_estate            30-39             middle  \n",
       "3      42820.568    education            30-39               high  \n",
       "4      25378.572      wedding            50-59             middle  \n",
       "5      40922.170  real_estate            18-29               high  \n",
       "6      38484.156  real_estate            40-49               high  \n",
       "7      21731.829    education            50-59             middle  \n",
       "8      15337.093      wedding            30-39             middle  \n",
       "9      23108.150  real_estate            40-49             middle  \n",
       "10     18230.959  real_estate            30-39             middle  \n",
       "11     12331.077  real_estate            40-49                low  \n",
       "12     18959.626      wedding              60+             middle  \n",
       "13     20873.317          car            50-59             middle  \n",
       "14     26420.466  real_estate            50-59             middle  \n",
       "15     18691.345  real_estate            18-29             middle  \n",
       "16     46272.433  real_estate            30-39               high  \n",
       "17     14465.694  real_estate            30-39                low  \n",
       "18      9091.804          car            50-59                low  \n",
       "19     38852.977          car            40-49               high  \n",
       "20     33528.423  real_estate            30-39               high  \n",
       "21     21089.953          car            30-39             middle  \n",
       "22     23948.983          car            18-29             middle  \n",
       "23     20522.515      wedding            18-29             middle  \n",
       "24     46487.558  real_estate            50-59               high  \n",
       "25      8818.041  real_estate              60+                low  \n",
       "26     24076.115    education            40-49             middle  \n",
       "27     49415.837  real_estate            18-29               high  \n",
       "28     30058.118  real_estate            18-29               high  \n",
       "29     18959.626  real_estate              60+             middle  "
      ]
     },
     "execution_count": 57,
     "metadata": {},
     "output_type": "execute_result"
    }
   ],
   "source": [
    "# Looking through all the numerical data in your selected column for categorization\n",
    "df.head(30)"
   ]
  },
  {
   "cell_type": "code",
   "execution_count": 58,
   "metadata": {},
   "outputs": [
    {
     "data": {
      "text/plain": [
       "total_income_group\n",
       "high       5860\n",
       "low        3706\n",
       "middle    11331\n",
       "Name: total_income, dtype: int64"
      ]
     },
     "execution_count": 58,
     "metadata": {},
     "output_type": "execute_result"
    }
   ],
   "source": [
    "df.groupby(['total_income_group'])['total_income'].count()# Getting summary statistics for the column\n",
    "\n"
   ]
  },
  {
   "cell_type": "markdown",
   "metadata": {},
   "source": []
  },
  {
   "cell_type": "markdown",
   "metadata": {},
   "source": [
    "## Checking the Hypotheses\n"
   ]
  },
  {
   "cell_type": "markdown",
   "metadata": {},
   "source": [
    "**Hypothesis first: The higher the income, the less often debt arises.**"
   ]
  },
  {
   "cell_type": "code",
   "execution_count": 59,
   "metadata": {},
   "outputs": [
    {
     "name": "stdout",
     "output_type": "stream",
     "text": [
      "debt                         0    1  percentages_total_income_group\n",
      "debt_total_income_group                                            \n",
      "high                      5427  433                        7.389078\n",
      "low                       3409  297                        8.014031\n",
      "middle                   10339  992                        8.754744\n"
     ]
    }
   ],
   "source": [
    "# Creating function for categorizing \n",
    "def debt_total_income_group(row):\n",
    "    if row['total_income_group']=='low':\n",
    "        return 'low'\n",
    "    elif row['total_income_group']=='middle':\n",
    "        return 'middle'\n",
    "    elif row['total_income_group']=='high':\n",
    "        return 'high'\n",
    "    else: return 'no'\n",
    " \n",
    "df['debt_total_income_group']=df.apply(debt_total_income_group, axis=1)\n",
    "df_total_income=df.pivot_table(index='debt_total_income_group',columns='debt',values='total_income',aggfunc='count')        \n",
    "df_total_income['percentages_total_income_group']=df_total_income[1]/(df_total_income[0]+df_total_income[1])*100\n",
    "print(df_total_income.sort_values(by='percentages_total_income_group',ascending=True))"
   ]
  },
  {
   "cell_type": "markdown",
   "metadata": {},
   "source": [
    "According to the interest received, it can be seen that high-income customers do have a lower percentage of debt, that is, they more often repay the loan on time. However, for customers with medium and low income, such a connection cannot be said."
   ]
  },
  {
   "cell_type": "markdown",
   "metadata": {},
   "source": [
    "**Hypothesis second: The more children, the more debt.**"
   ]
  },
  {
   "cell_type": "code",
   "execution_count": 61,
   "metadata": {},
   "outputs": [
    {
     "name": "stdout",
     "output_type": "stream",
     "text": [
      "children  debt\n",
      "0         0       12704\n",
      "          1        1056\n",
      "1         0        4294\n",
      "          1         441\n",
      "2         0        1832\n",
      "          1         194\n",
      "3         0         300\n",
      "          1          27\n",
      "4         0          36\n",
      "          1           4\n",
      "5         0           9\n",
      "Name: debt, dtype: int64\n",
      "Percentage of indebted clients with 0 child: 7.67%\n",
      "Percentage of indebted clients with 1 child: 9.31%\n",
      "Percentage of indebted clients with 2 child: 9.58%\n",
      "Percentage of indebted clients with 3 child: 8.26%\n"
     ]
    }
   ],
   "source": [
    "pd.to_numeric(df['children'])\n",
    "print(df.groupby(['children'])['debt'].value_counts())\n",
    "def percentages_children_group(x):\n",
    "    a=(df[(df['children']==x)&(df['debt']==1)].shape[0])/(df[(df['children']==x)].shape[0])\n",
    "    return a\n",
    "for x in [0,1,2,3]:\n",
    "    print('Percentage of indebted clients with',x,'child: {:.2%}'.format(percentages_children_group(x)))"
   ]
  },
  {
   "cell_type": "markdown",
   "metadata": {},
   "source": [
    "**Conclusion**\n",
    "Since there are a minimum number of customers with 4 and 5 children, we will not use their indicators in order to make the result objective.\n",
    "According to the results of the audit, we see that customers without children have the least amount of debt. While there is no correlation between the number of children and debt.\n"
   ]
  },
  {
   "cell_type": "markdown",
   "metadata": {},
   "source": [
    "**The third hypothesis is that unmarried customers have the biggest percentage of debt.**"
   ]
  },
  {
   "cell_type": "code",
   "execution_count": 62,
   "metadata": {},
   "outputs": [
    {
     "name": "stdout",
     "output_type": "stream",
     "text": [
      "family_status      debt\n",
      "civil partnership  0        3702\n",
      "                   1         383\n",
      "divorced           0        1093\n",
      "                   1          84\n",
      "married            0       11030\n",
      "                   1         921\n",
      "unmarried          0        2482\n",
      "                   1         272\n",
      "widow / widower    0         868\n",
      "                   1          62\n",
      "Name: debt, dtype: int64\n",
      "Percentage of indebted clients - married : 7.71%\n",
      "Percentage of indebted clients - civil partnership : 9.38%\n",
      "Percentage of indebted clients - widow / widower : 6.67%\n",
      "Percentage of indebted clients - divorced : 7.14%\n",
      "Percentage of indebted clients - unmarried : 9.88%\n"
     ]
    }
   ],
   "source": [
    "print(df.groupby(['family_status'])['debt'].value_counts())\n",
    "def percentages_family_status(x):\n",
    "    a=(df[(df['family_status']==x)&(df['debt']==1)].shape[0])/(df[(df['family_status']==x)].shape[0])\n",
    "    return a\n",
    "for x in df['family_status'].unique():\n",
    "    print('Percentage of indebted clients -',x,': {:.2%}'.format(percentages_family_status(x)))\n",
    "\n",
    "\n",
    "# Check the family status data and paying back on time\n",
    "\n",
    "\n",
    "\n",
    "# Calculating default-rate based on family status\n",
    "\n"
   ]
  },
  {
   "cell_type": "markdown",
   "metadata": {},
   "source": [
    "**Conclusion**\n",
    "According to the results obtained, we see that the percentage of debts of widows/widowers is minimal, this is also due to the fact that the total number of loans is small. Divorced and unmarried have about the same percentage of debt. The highest interest rates on debts are unmarried people and couples living in a civil relationship."
   ]
  },
  {
   "cell_type": "markdown",
   "metadata": {},
   "source": [
    "**Hypothesis four - business owners have a lower percentage of debts than others**"
   ]
  },
  {
   "cell_type": "code",
   "execution_count": 63,
   "metadata": {},
   "outputs": [
    {
     "name": "stdout",
     "output_type": "stream",
     "text": [
      "income_type                  debt\n",
      "business                     0       4608\n",
      "                             1        373\n",
      "civil servant                0       1352\n",
      "                             1         86\n",
      "employee                     0       9731\n",
      "                             1       1046\n",
      "entrepreneur                 0          2\n",
      "paternity / maternity leave  1          1\n",
      "retiree                      0       3480\n",
      "                             1        215\n",
      "student                      0          1\n",
      "unemployed                   0          1\n",
      "                             1          1\n",
      "Name: debt, dtype: int64\n",
      "Percentage of indebted clients - business : 7.49%\n",
      "Percentage of indebted clients - civil servant : 5.98%\n",
      "Percentage of indebted clients - employee : 9.71%\n",
      "Percentage of indebted clients - retiree : 5.82%\n"
     ]
    }
   ],
   "source": [
    "print(df.groupby(['income_type'])['debt'].value_counts())\n",
    "\n",
    "def percentages_income_type(x):\n",
    "    a=(df[(df['income_type']==x)&(df['debt']==1)].shape[0])/(df[(df['income_type']==x)].shape[0])\n",
    "    return a\n",
    "for x in ['business','civil servant','employee','retiree']:\n",
    "    print('Percentage of indebted clients -',x,': {:.2%}'.format(percentages_income_type(x)))\n",
    "\n",
    "# Check the income level data and paying back on time\n",
    "\n",
    "\n",
    "\n",
    "# Calculating default-rate based on income level\n",
    "\n"
   ]
  },
  {
   "cell_type": "markdown",
   "metadata": {},
   "source": [
    "**Conclusion**\n",
    "Since the minimum number of clients is students, unemployed, entrepreneurs and on parental leave / maternity leave, we will not use their indicators in order to make the result objective.\n",
    "The results show that the lowest percentage of debts belongs to retiree and civil servants, while it is much higher for businessmen and employees."
   ]
  },
  {
   "cell_type": "markdown",
   "metadata": {},
   "source": [
    "**The fifth hypothesis is that the lowest percentage of debts falls on loans used for real_estate.**"
   ]
  },
  {
   "cell_type": "code",
   "execution_count": 64,
   "metadata": {},
   "outputs": [
    {
     "name": "stdout",
     "output_type": "stream",
     "text": [
      "purpose      debt\n",
      "car          0       3828\n",
      "             1        396\n",
      "education    0       3552\n",
      "             1        369\n",
      "real_estate  0       9695\n",
      "             1        776\n",
      "wedding      0       2100\n",
      "             1        181\n",
      "Name: debt, dtype: int64\n",
      "Percentage of indebted clients with purpose - real_estate : 7.41%\n",
      "Percentage of indebted clients with purpose - car : 9.38%\n",
      "Percentage of indebted clients with purpose - education : 9.41%\n",
      "Percentage of indebted clients with purpose - wedding : 7.94%\n"
     ]
    }
   ],
   "source": [
    "print(df.groupby(['purpose'])['debt'].value_counts())\n",
    "\n",
    "def percentages_purpose_type(x):\n",
    "    a=(df[(df['purpose']==x)&(df['debt']==1)].shape[0])/(df[(df['purpose']==x)].shape[0])\n",
    "    return a\n",
    "for x in df['purpose'].unique():\n",
    "    print('Percentage of indebted clients with purpose -',x,': {:.2%}'.format(percentages_purpose_type(x)))\n",
    "# Check the percentages for default rate for each credit purpose and analyze them\n",
    "\n"
   ]
  },
  {
   "cell_type": "markdown",
   "metadata": {},
   "source": [
    "\n",
    "**Conclusion**\n",
    "Based on the results, we can conclude that wedding and real estate loans are less risky, this may be due to the fact that the size of loans for a wedding is small, and real estate can generate income, so the risk of non-payment of loans is minimal.\n"
   ]
  },
  {
   "cell_type": "markdown",
   "metadata": {},
   "source": [
    "# General Conclusion \n",
    "Based on the study, we can conclude that the data were sufficient and despite the presence of duplicates and missing values, the results of the analysis are objective. The first and second hypotheses were half confirmed, the third, fourth and fifth were fully confirmed. Based on the results of the study, the following conclusions can be drawn:\n",
    "\n",
    "1) The safest for the bank\n",
    " -high income clients\n",
    " -customers located on the civil servant\n",
    " -customers taking a loan for real_state\n",
    " -customers, without children \n",
    "-married or divorsed customers \n",
    " 2) The most risky\n",
    " -employed customers\n",
    " -customers taking a loan for education and car\n",
    "-unmarried customers"
   ]
  }
 ],
 "metadata": {
  "ExecuteTimeLog": [
   {
    "duration": 2741,
    "start_time": "2021-10-21T01:08:49.480Z"
   },
   {
    "duration": 52,
    "start_time": "2021-10-21T01:08:53.315Z"
   },
   {
    "duration": 49,
    "start_time": "2021-10-21T01:08:57.432Z"
   },
   {
    "duration": 70,
    "start_time": "2021-10-21T01:09:07.706Z"
   }
  ],
  "kernelspec": {
   "display_name": "Python 3 (ipykernel)",
   "language": "python",
   "name": "python3"
  },
  "language_info": {
   "codemirror_mode": {
    "name": "ipython",
    "version": 3
   },
   "file_extension": ".py",
   "mimetype": "text/x-python",
   "name": "python",
   "nbconvert_exporter": "python",
   "pygments_lexer": "ipython3",
   "version": "3.9.5"
  },
  "toc": {
   "base_numbering": 1,
   "nav_menu": {},
   "number_sections": true,
   "sideBar": true,
   "skip_h1_title": true,
   "title_cell": "Table of Contents",
   "title_sidebar": "Contents",
   "toc_cell": false,
   "toc_position": {},
   "toc_section_display": true,
   "toc_window_display": false
  }
 },
 "nbformat": 4,
 "nbformat_minor": 2
}
