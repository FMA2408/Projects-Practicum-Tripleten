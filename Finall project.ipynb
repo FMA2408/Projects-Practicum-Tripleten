{
 "cells": [
  {
   "cell_type": "markdown",
   "id": "bb364f9a",
   "metadata": {},
   "source": [
    "https://public.tableau.com/shared/NJHPZB86P?:display_count=n&:origin=viz_share_link\n",
    "\n",
    "https://drive.google.com/file/d/1VNKWbGADCRwLOXn0b4juX-hfQhJsE1Qz/view?usp=drive_link"
   ]
  },
  {
   "cell_type": "markdown",
   "id": "519e9379",
   "metadata": {},
   "source": [
    "# Analyzing the assortment data of an online home goods store"
   ]
  },
  {
   "cell_type": "markdown",
   "id": "e476679f",
   "metadata": {},
   "source": [
    "## Project description"
   ]
  },
  {
   "cell_type": "markdown",
   "id": "bd53f353",
   "metadata": {},
   "source": [
    "We analyzed the assortment data of an online home goods store.<br>\n",
    "Purposes:<br>\n",
    "1)\tPlanning the number and volume of sales based on historical data and trends identified in the process of analysis.<br>\n",
    "2)\tDetermining the most popular and no popular products.\n"
   ]
  },
  {
   "cell_type": "markdown",
   "id": "2ebe04a9",
   "metadata": {},
   "source": [
    "## Description of the data"
   ]
  },
  {
   "cell_type": "markdown",
   "id": "dd83106e",
   "metadata": {},
   "source": [
    "The file ecommerce_dataset_us.csv contains the following columns:<br>\n",
    "- InvoiceNo — order identifier\n",
    "- StockCode — item identifier\n",
    "- Description — item name\n",
    "- Quantity\n",
    "- InvoiceDate — order date\n",
    "- UnitPrice — price per item\n",
    "- CustomerID\n"
   ]
  },
  {
   "cell_type": "markdown",
   "id": "af32793b",
   "metadata": {},
   "source": [
    "## Downloading the data"
   ]
  },
  {
   "cell_type": "code",
   "execution_count": 1,
   "id": "540ac1e0",
   "metadata": {},
   "outputs": [],
   "source": [
    "import pandas as pd\n",
    "from scipy import stats as st\n",
    "import datetime as dt\n",
    "import numpy as np\n",
    "import matplotlib.pyplot as plt\n",
    "import seaborn as sns\n",
    "import math\n",
    "import plotly.express as px\n",
    "import warnings\n",
    "warnings.filterwarnings('ignore')"
   ]
  },
  {
   "cell_type": "code",
   "execution_count": 2,
   "id": "cb54471a",
   "metadata": {},
   "outputs": [],
   "source": [
    "data=pd.read_csv('/datasets/ecommerce_dataset_us.csv',sep='\\t')"
   ]
  },
  {
   "cell_type": "code",
   "execution_count": 3,
   "id": "9ef5aa14",
   "metadata": {},
   "outputs": [
    {
     "data": {},
     "execution_count": 3,
     "metadata": {},
     "output_type": "execute_result"
    }
   ],
   "source": [
    "data.head()"
   ]
  },
  {
   "cell_type": "markdown",
   "id": "99e6c741",
   "metadata": {},
   "source": [
    "## Data Preprocessing"
   ]
  },
  {
   "cell_type": "code",
   "execution_count": 4,
   "id": "28bf7551",
   "metadata": {},
   "outputs": [],
   "source": [
    "data['Description']=data['Description'].str.lower()"
   ]
  },
  {
   "cell_type": "code",
   "execution_count": 5,
   "id": "6e56cdd6",
   "metadata": {},
   "outputs": [],
   "source": [
    "data.info()"
   ]
  },
  {
   "cell_type": "code",
   "execution_count": 6,
   "id": "60de3a51",
   "metadata": {},
   "outputs": [
    {
     "data": {},
     "execution_count": 6,
     "metadata": {},
     "output_type": "execute_result"
    }
   ],
   "source": [
    "data['UnitPrice'].describe()"
   ]
  },
  {
   "cell_type": "code",
   "execution_count": 7,
   "id": "7a0ffa18",
   "metadata": {},
   "outputs": [],
   "source": [
    "data.columns=['order_id','product_id','product_name','quantity','order_date','unit_price','customer_id']"
   ]
  },
  {
   "cell_type": "markdown",
   "id": "7cb0bf76",
   "metadata": {},
   "source": [
    "### Checking types of the data (datetime)"
   ]
  },
  {
   "cell_type": "code",
   "execution_count": 8,
   "id": "3ab0b9d0",
   "metadata": {},
   "outputs": [],
   "source": [
    "data['order_date']=pd.to_datetime(data['order_date'],format=\"%m/%d/%Y %H:%M\")"
   ]
  },
  {
   "cell_type": "markdown",
   "id": "f795dccb",
   "metadata": {},
   "source": [
    "### Adding data (day, month, total_price)"
   ]
  },
  {
   "cell_type": "code",
   "execution_count": 9,
   "id": "9028c77e",
   "metadata": {},
   "outputs": [],
   "source": [
    "data['day']=data['order_date'].astype('datetime64[D]')\n",
    "data['week']=data['order_date'].astype('datetime64[W]')\n",
    "data['month']=data['order_date'].astype('datetime64[M]')\n",
    "data['total_price']=data['unit_price']*data['quantity']"
   ]
  },
  {
   "cell_type": "code",
   "execution_count": 10,
   "id": "62ded018",
   "metadata": {},
   "outputs": [
    {
     "data": {},
     "execution_count": 10,
     "metadata": {},
     "output_type": "execute_result"
    }
   ],
   "source": [
    "data.head(10)"
   ]
  },
  {
   "cell_type": "markdown",
   "id": "5be3b609",
   "metadata": {},
   "source": [
    "### Checking missing values"
   ]
  },
  {
   "cell_type": "code",
   "execution_count": 11,
   "id": "fdb80236",
   "metadata": {},
   "outputs": [
    {
     "data": {},
     "execution_count": 11,
     "metadata": {},
     "output_type": "execute_result"
    }
   ],
   "source": [
    "data.isna().sum()"
   ]
  },
  {
   "cell_type": "code",
   "execution_count": 12,
   "id": "7f1e82bd",
   "metadata": {},
   "outputs": [],
   "source": [
    "for column in data.columns:\n",
    "    if data[column].isna().sum()!=0:\n",
    "        print('percente missing data in',column, round(data[column].isna().sum()/data.shape[0]*100,2),'%')"
   ]
  },
  {
   "cell_type": "markdown",
   "id": "b635e4ef",
   "metadata": {},
   "source": [
    "#### Removing missing values in 'product_name', because it's less 1%"
   ]
  },
  {
   "cell_type": "code",
   "execution_count": 13,
   "id": "687445ea",
   "metadata": {},
   "outputs": [],
   "source": [
    "data.dropna(inplace=True,subset=['product_name'])"
   ]
  },
  {
   "cell_type": "code",
   "execution_count": 14,
   "id": "dbb8b3e7",
   "metadata": {},
   "outputs": [
    {
     "data": {},
     "execution_count": 14,
     "metadata": {},
     "output_type": "execute_result"
    }
   ],
   "source": [
    "data.isna().sum()"
   ]
  },
  {
   "cell_type": "markdown",
   "id": "e48b03d5",
   "metadata": {},
   "source": [
    " #### Filling missing values in 'customer_id'"
   ]
  },
  {
   "cell_type": "code",
   "execution_count": 15,
   "id": "6cc57869",
   "metadata": {},
   "outputs": [],
   "source": [
    "data=data.fillna('noname')"
   ]
  },
  {
   "cell_type": "code",
   "execution_count": 16,
   "id": "4a9bc032",
   "metadata": {},
   "outputs": [
    {
     "data": {},
     "execution_count": 16,
     "metadata": {},
     "output_type": "execute_result"
    }
   ],
   "source": [
    "data.isna().sum()"
   ]
  },
  {
   "cell_type": "markdown",
   "id": "db26ea24",
   "metadata": {},
   "source": [
    "#### Filtering data - removing negative values, because it’s less 1%"
   ]
  },
  {
   "cell_type": "code",
   "execution_count": 17,
   "id": "e0ebb8dc",
   "metadata": {},
   "outputs": [
    {
     "data": {},
     "execution_count": 17,
     "metadata": {},
     "output_type": "execute_result"
    }
   ],
   "source": [
    "data.describe()"
   ]
  },
  {
   "cell_type": "code",
   "execution_count": 18,
   "id": "0dea5adf",
   "metadata": {},
   "outputs": [],
   "source": [
    "data_clean=data[(data['quantity']>0)&(data['unit_price']>0)]"
   ]
  },
  {
   "cell_type": "code",
   "execution_count": 19,
   "id": "7830bc46",
   "metadata": {},
   "outputs": [
    {
     "data": {},
     "execution_count": 19,
     "metadata": {},
     "output_type": "execute_result"
    }
   ],
   "source": [
    "data_clean"
   ]
  },
  {
   "cell_type": "code",
   "execution_count": 20,
   "id": "912b5f44",
   "metadata": {},
   "outputs": [
    {
     "data": {},
     "execution_count": 20,
     "metadata": {},
     "output_type": "execute_result"
    }
   ],
   "source": [
    "data[(data['unit_price']<=0)]"
   ]
  },
  {
   "cell_type": "code",
   "execution_count": 21,
   "id": "829105f3",
   "metadata": {},
   "outputs": [
    {
     "data": {},
     "execution_count": 21,
     "metadata": {},
     "output_type": "execute_result"
    }
   ],
   "source": [
    "(data_clean.shape[0]/data.shape[0])*100"
   ]
  },
  {
   "cell_type": "markdown",
   "id": "e36b77dc",
   "metadata": {},
   "source": [
    "### Categorizing data"
   ]
  },
  {
   "cell_type": "code",
   "execution_count": 22,
   "id": "e9c2feec",
   "metadata": {},
   "outputs": [
    {
     "data": {},
     "execution_count": 22,
     "metadata": {},
     "output_type": "execute_result"
    }
   ],
   "source": [
    "data_clean['product_name'].head(100)"
   ]
  },
  {
   "cell_type": "code",
   "execution_count": 23,
   "id": "cddca3e3",
   "metadata": {},
   "outputs": [
    {
     "data": {},
     "execution_count": 23,
     "metadata": {},
     "output_type": "execute_result"
    }
   ],
   "source": [
    "data_clean['product_name'].nunique()"
   ]
  },
  {
   "cell_type": "markdown",
   "id": "657d6f2c",
   "metadata": {},
   "source": [
    "#### Creating groups: cheap and expensive. "
   ]
  },
  {
   "cell_type": "code",
   "execution_count": 24,
   "id": "e7174817",
   "metadata": {},
   "outputs": [
    {
     "data": {},
     "execution_count": 24,
     "metadata": {},
     "output_type": "execute_result"
    }
   ],
   "source": [
    "data_clean['unit_price'].describe()"
   ]
  },
  {
   "cell_type": "code",
   "execution_count": 25,
   "id": "ae2bebe4",
   "metadata": {},
   "outputs": [],
   "source": [
    "def assign_price_group(unit_price):\n",
    "    if unit_price <= 2:\n",
    "        return 'cheap'\n",
    "    elif unit_price <= 4:\n",
    "        return 'middle'\n",
    "    else: \n",
    "        return 'expensive'"
   ]
  },
  {
   "cell_type": "code",
   "execution_count": 26,
   "id": "b6941cc9",
   "metadata": {},
   "outputs": [
    {
     "data": {},
     "execution_count": 26,
     "metadata": {},
     "output_type": "execute_result"
    }
   ],
   "source": [
    "data_clean['unit_price'].apply(assign_price_group)"
   ]
  },
  {
   "cell_type": "code",
   "execution_count": 27,
   "id": "aae9d2f6",
   "metadata": {},
   "outputs": [],
   "source": [
    "data_clean['group']=data_clean['unit_price'].apply(assign_price_group)"
   ]
  },
  {
   "cell_type": "code",
   "execution_count": 28,
   "id": "7fa4c987",
   "metadata": {},
   "outputs": [
    {
     "data": {},
     "execution_count": 28,
     "metadata": {},
     "output_type": "execute_result"
    }
   ],
   "source": [
    "data_clean"
   ]
  },
  {
   "cell_type": "code",
   "execution_count": 29,
   "id": "24483070",
   "metadata": {},
   "outputs": [
    {
     "data": {},
     "execution_count": 29,
     "metadata": {},
     "output_type": "execute_result"
    }
   ],
   "source": [
    "data_clean.groupby('group')['product_name'].count().reset_index()"
   ]
  },
  {
   "cell_type": "code",
   "execution_count": 30,
   "id": "9b19778e",
   "metadata": {},
   "outputs": [
    {
     "data": {
      "image/png": "[encoded data removed]"
     },
     "metadata": {
      "needs_background": "light"
     },
     "output_type": "display_data"
    }
   ],
   "source": [
    "data_clean.groupby('group')['product_name'].count().reset_index().plot(y='product_name',x='group', kind='bar',figsize=(15, 4))\n",
    "plt.title('Graphs'),\n",
    "plt.xlabel('group')\n",
    "plt.show()"
   ]
  },
  {
   "cell_type": "markdown",
   "id": "2cb70688",
   "metadata": {},
   "source": [
    "**Company sales the most of \"cheap\" products(unit price less than 2). \n",
    "We see that the number of goods sold at low prices is much greater than at medium and high prices.\n",
    "Revenue is directly proportional to the price of goods, respectively, \"expensive\"(unit price more than 4) goods bring more income than \"cheap\" ones. Therefore, the company should increase sales of \"expensive\" goods in the future.**"
   ]
  },
  {
   "cell_type": "markdown",
   "id": "a9c4efa2",
   "metadata": {},
   "source": [
    "#### Creating groups: low popular, middle popular, high popular."
   ]
  },
  {
   "cell_type": "code",
   "execution_count": 31,
   "id": "3b3e652c",
   "metadata": {},
   "outputs": [
    {
     "data": {},
     "execution_count": 31,
     "metadata": {},
     "output_type": "execute_result"
    }
   ],
   "source": [
    "data_quantity=data_clean.groupby('product_name')['quantity'].sum().reset_index().sort_values(by='quantity',ascending=True)\n",
    "data_quantity"
   ]
  },
  {
   "cell_type": "code",
   "execution_count": 32,
   "id": "0bbc7bf8",
   "metadata": {},
   "outputs": [
    {
     "data": {},
     "execution_count": 32,
     "metadata": {},
     "output_type": "execute_result"
    }
   ],
   "source": [
    "data_quantity.describe()"
   ]
  },
  {
   "cell_type": "code",
   "execution_count": 33,
   "id": "329b1443",
   "metadata": {},
   "outputs": [],
   "source": [
    "def assign_popular_group(popular):\n",
    "    if popular <= 100:\n",
    "        return 'low_popular'\n",
    "    elif popular <= 500:\n",
    "        return 'middle_popular'\n",
    "    else: \n",
    "        return 'high_popular'"
   ]
  },
  {
   "cell_type": "code",
   "execution_count": 34,
   "id": "17a77d44",
   "metadata": {},
   "outputs": [],
   "source": [
    "data_quantity['group']=data_quantity['quantity'].apply(assign_popular_group)"
   ]
  },
  {
   "cell_type": "code",
   "execution_count": 35,
   "id": "6cc3058a",
   "metadata": {},
   "outputs": [
    {
     "data": {},
     "execution_count": 35,
     "metadata": {},
     "output_type": "execute_result"
    }
   ],
   "source": [
    "data_quantity"
   ]
  },
  {
   "cell_type": "markdown",
   "id": "3ad08470",
   "metadata": {},
   "source": [
    "**When analyzing the popularity of a product, it is necessary to take into account not only the number of sales, but also the number of buyers of this product. Since, if one client buys a product in large quantities, then this income may not be stable. Any financial problems or changes in the preferences of this client in the future - will deprive the company of sales of this product completely. Therefore, the company should increase not only the quantity of the product sold, but also the popularity of its products among various customers.**"
   ]
  },
  {
   "cell_type": "markdown",
   "id": "06b34d5b",
   "metadata": {},
   "source": [
    "\n",
    "## Carry out exploratory data analysis (EDA)"
   ]
  },
  {
   "cell_type": "markdown",
   "id": "5731e09e",
   "metadata": {},
   "source": [
    "### Let's determine the change in prices of goods for the entire period belonging to different groups by popularity. (let's make a graph) How did the popularity of a product change with price?"
   ]
  },
  {
   "cell_type": "code",
   "execution_count": 36,
   "id": "82d108ab",
   "metadata": {},
   "outputs": [],
   "source": [
    "data_clean_gr=data_clean.merge(data_quantity[['product_name','group']], on='product_name', how='outer')"
   ]
  },
  {
   "cell_type": "code",
   "execution_count": 37,
   "id": "cc789953",
   "metadata": {},
   "outputs": [
    {
     "data": {},
     "execution_count": 37,
     "metadata": {},
     "output_type": "execute_result"
    }
   ],
   "source": [
    "data_clean_gr"
   ]
  },
  {
   "cell_type": "code",
   "execution_count": 38,
   "id": "0497b8f5",
   "metadata": {},
   "outputs": [
    {
     "data": {},
     "execution_count": 38,
     "metadata": {},
     "output_type": "execute_result"
    }
   ],
   "source": [
    "data_clean_gr.groupby('group_y')[\"unit_price\"].mean()"
   ]
  },
  {
   "cell_type": "code",
   "execution_count": 39,
   "id": "5fefe9d8",
   "metadata": {},
   "outputs": [
    {
     "data": {
      "image/png": "[encoded data removed]"
     },
     "metadata": {
      "needs_background": "light"
     },
     "output_type": "display_data"
    }
   ],
   "source": [
    "plt.figure(figsize=(15,8))\n",
    "ax = sns.lineplot(data=data_clean_gr, x=\"month\", y=\"unit_price\",hue=\"group_y\")\n"
   ]
  },
  {
   "cell_type": "markdown",
   "id": "24e637c4",
   "metadata": {},
   "source": [
    "**We see that the price per unit of high and medium popularity goods remains virtually unchanged throughout the year. And the prices for the most unpopular goods, on the contrary, have peak values in December and August. Perhaps it was because of the increase in prices that the goods did not sell as well, and this reduced their popularity.**"
   ]
  },
  {
   "cell_type": "markdown",
   "id": "a3ba49c5",
   "metadata": {},
   "source": [
    "### Let's see the distribution of price categories in different groups by popularity. (histogram). Most popular cheap or expensive items?"
   ]
  },
  {
   "cell_type": "code",
   "execution_count": 40,
   "id": "4a8c7a65",
   "metadata": {},
   "outputs": [
    {
     "data": {},
     "execution_count": 40,
     "metadata": {},
     "output_type": "execute_result"
    }
   ],
   "source": [
    "data_clean_gr.groupby(['group_y','group_x'])[\"product_name\"].count().reset_index()"
   ]
  },
  {
   "cell_type": "code",
   "execution_count": 41,
   "id": "2d3f1d19",
   "metadata": {},
   "outputs": [
    {
     "data": {},
     "execution_count": 41,
     "metadata": {},
     "output_type": "execute_result"
    },
    {
     "data": {
      "image/png": "[encoded data removed]"
     },
     "metadata": {
      "needs_background": "light"
     },
     "output_type": "display_data"
    }
   ],
   "source": [
    "sns.displot(data_clean_gr, x='group_y', hue=\"group_x\",multiple=\"dodge\")"
   ]
  },
  {
   "cell_type": "code",
   "execution_count": 42,
   "id": "5c1f8335",
   "metadata": {},
   "outputs": [
    {
     "data": {},
     "execution_count": 42,
     "metadata": {},
     "output_type": "execute_result"
    }
   ],
   "source": [
    "data_clean['product_name'].nunique()"
   ]
  },
  {
   "cell_type": "markdown",
   "id": "193e4011",
   "metadata": {},
   "source": [
    "**We can see that the range of products mainly consists of products of high popularity (sales of more than 500), but low value (unit price less than 2). In products with medium (sales from 100 to 500) and low (sales less than 100) popularity, there is no significant difference in unit cost.**"
   ]
  },
  {
   "cell_type": "markdown",
   "id": "899bb32d",
   "metadata": {},
   "source": [
    "### Find products that have not been sold in the last 3 months. Might not be worth buying anymore."
   ]
  },
  {
   "cell_type": "code",
   "execution_count": 43,
   "id": "edcb04f9",
   "metadata": {},
   "outputs": [],
   "source": [
    "data_no_sales=data_clean.query('month>\"2019-09-01\"').groupby(['product_name'])['quantity'].sum().reset_index().sort_values(by='quantity',ascending=True)"
   ]
  },
  {
   "cell_type": "code",
   "execution_count": 44,
   "id": "67c64734",
   "metadata": {},
   "outputs": [
    {
     "data": {},
     "execution_count": 44,
     "metadata": {},
     "output_type": "execute_result"
    }
   ],
   "source": [
    "data_no_sales"
   ]
  },
  {
   "cell_type": "code",
   "execution_count": 45,
   "id": "1ba53f80",
   "metadata": {},
   "outputs": [
    {
     "data": {},
     "execution_count": 45,
     "metadata": {},
     "output_type": "execute_result"
    }
   ],
   "source": [
    "data_no_sales.query('quantity==1')['product_name'].nunique()"
   ]
  },
  {
   "cell_type": "code",
   "execution_count": 46,
   "id": "7919348d",
   "metadata": {
    "scrolled": false
   },
   "outputs": [
    {
     "data": {},
     "execution_count": 46,
     "metadata": {},
     "output_type": "execute_result"
    }
   ],
   "source": [
    "data_no_sales.query('quantity==1')['product_name'].unique()"
   ]
  },
  {
   "cell_type": "markdown",
   "id": "7f852942",
   "metadata": {},
   "source": [
    "### We will find the products that have sold the most in the last 3 months, it may be worth increasing their number."
   ]
  },
  {
   "cell_type": "code",
   "execution_count": 47,
   "id": "656a3834",
   "metadata": {},
   "outputs": [],
   "source": [
    "data_super_sales=data_clean.query('month>\"2019-09-01\"').groupby(['product_name'])['quantity'].sum().reset_index().sort_values(by='quantity',ascending=False)"
   ]
  },
  {
   "cell_type": "code",
   "execution_count": 48,
   "id": "bda5a517",
   "metadata": {},
   "outputs": [
    {
     "data": {},
     "execution_count": 48,
     "metadata": {},
     "output_type": "execute_result"
    }
   ],
   "source": [
    "data_super_sales.query('quantity>5000')['product_name'].nunique()"
   ]
  },
  {
   "cell_type": "code",
   "execution_count": 49,
   "id": "3ddb6eb0",
   "metadata": {},
   "outputs": [
    {
     "data": {},
     "execution_count": 49,
     "metadata": {},
     "output_type": "execute_result"
    }
   ],
   "source": [
    "data_super_sales.query('quantity>5000')['product_name'].unique()"
   ]
  },
  {
   "cell_type": "markdown",
   "id": "78ab31d8",
   "metadata": {},
   "source": [
    "### We will find goods, which popular in different seasons of year and goods - popular in all seasons and will plot them. For creating plan of assortment of goods depend on seasons."
   ]
  },
  {
   "cell_type": "code",
   "execution_count": 50,
   "id": "0082d6aa",
   "metadata": {},
   "outputs": [],
   "source": [
    "data_summer=data_clean.query('(order_date>=\"2019-06-01\")and(order_date<=\"2019-08-31\")')\n",
    "print(data_summer['product_name'].nunique(),data_summer['product_name'].unique())"
   ]
  },
  {
   "cell_type": "code",
   "execution_count": 51,
   "id": "55d5f9f5",
   "metadata": {},
   "outputs": [],
   "source": [
    "data_winter=data_clean.query('(order_date>=\"2018-12-01\")and(order_date<=\"2019-02-28\")')\n",
    "print(data_winter['product_name'].nunique(),data_winter['product_name'].unique())"
   ]
  },
  {
   "cell_type": "code",
   "execution_count": 52,
   "id": "3d8eefed",
   "metadata": {},
   "outputs": [],
   "source": [
    "data_spring=data_clean.query('(order_date>=\"2019-03-01\")and(order_date<=\"2019-05-31\")')\n",
    "print(data_spring['product_name'].nunique(),data_spring['product_name'].unique())"
   ]
  },
  {
   "cell_type": "code",
   "execution_count": 53,
   "id": "8debc512",
   "metadata": {},
   "outputs": [],
   "source": [
    "data_autumn=data_clean.query('(order_date>=\"2019-09-01\")and(order_date<=\"2019-11-30\")')\n",
    "print(data_autumn['product_name'].nunique(),data_autumn['product_name'].unique())"
   ]
  },
  {
   "cell_type": "markdown",
   "id": "bf165391",
   "metadata": {},
   "source": [
    "Goods sold only in all summer:"
   ]
  },
  {
   "cell_type": "code",
   "execution_count": 54,
   "id": "2fa817e2",
   "metadata": {},
   "outputs": [],
   "source": [
    "data_summer_uniq=data_summer[np.logical_not(data_summer['product_name'].isin(data_autumn['product_name']))][np.logical_not(data_summer['product_name'].isin(data_winter['product_name']))][np.logical_not(data_summer['product_name'].isin(data_spring['product_name']))]"
   ]
  },
  {
   "cell_type": "code",
   "execution_count": 55,
   "id": "6b82bb13",
   "metadata": {},
   "outputs": [
    {
     "data": {},
     "execution_count": 55,
     "metadata": {},
     "output_type": "execute_result"
    }
   ],
   "source": [
    "data_summer_uniq['product_name'].nunique()"
   ]
  },
  {
   "cell_type": "markdown",
   "id": "a1a3e8ca",
   "metadata": {},
   "source": [
    "**Goods sold only in autumn:**"
   ]
  },
  {
   "cell_type": "code",
   "execution_count": 56,
   "id": "67d25fec",
   "metadata": {},
   "outputs": [],
   "source": [
    "data_autumn_uniq=data_autumn[np.logical_not(data_autumn['product_name'].isin(data_summer['product_name']))][np.logical_not(data_autumn['product_name'].isin(data_winter['product_name']))][np.logical_not(data_autumn['product_name'].isin(data_spring['product_name']))]"
   ]
  },
  {
   "cell_type": "code",
   "execution_count": 57,
   "id": "7fff0e37",
   "metadata": {},
   "outputs": [
    {
     "data": {},
     "execution_count": 57,
     "metadata": {},
     "output_type": "execute_result"
    }
   ],
   "source": [
    "data_autumn_uniq['product_name'].nunique()"
   ]
  },
  {
   "cell_type": "markdown",
   "id": "42682172",
   "metadata": {},
   "source": [
    "**Goods sold only in winter:**"
   ]
  },
  {
   "cell_type": "code",
   "execution_count": 58,
   "id": "d231e697",
   "metadata": {},
   "outputs": [],
   "source": [
    "data_winter_uniq=data_winter[np.logical_not(data_winter['product_name'].isin(data_summer['product_name']))][np.logical_not(data_winter['product_name'].isin(data_autumn['product_name']))][np.logical_not(data_winter['product_name'].isin(data_spring['product_name']))]"
   ]
  },
  {
   "cell_type": "code",
   "execution_count": 59,
   "id": "07739042",
   "metadata": {},
   "outputs": [
    {
     "data": {},
     "execution_count": 59,
     "metadata": {},
     "output_type": "execute_result"
    }
   ],
   "source": [
    "data_winter_uniq['product_name'].nunique()"
   ]
  },
  {
   "cell_type": "markdown",
   "id": "29c55fd2",
   "metadata": {},
   "source": [
    "**Goods sold only in spring:**"
   ]
  },
  {
   "cell_type": "code",
   "execution_count": 60,
   "id": "c45d7911",
   "metadata": {},
   "outputs": [],
   "source": [
    "data_spring_uniq=data_spring[np.logical_not(data_spring['product_name'].isin(data_summer['product_name']))][np.logical_not(data_spring['product_name'].isin(data_autumn['product_name']))][np.logical_not(data_spring['product_name'].isin(data_winter['product_name']))]"
   ]
  },
  {
   "cell_type": "code",
   "execution_count": 61,
   "id": "f10e7ca7",
   "metadata": {},
   "outputs": [
    {
     "data": {},
     "execution_count": 61,
     "metadata": {},
     "output_type": "execute_result"
    }
   ],
   "source": [
    "data_spring_uniq['product_name'].nunique()"
   ]
  },
  {
   "cell_type": "markdown",
   "id": "4fd4a2bb",
   "metadata": {},
   "source": [
    "**Goods sold in all seasons:**"
   ]
  },
  {
   "cell_type": "code",
   "execution_count": 62,
   "id": "367e00b0",
   "metadata": {},
   "outputs": [],
   "source": [
    "data_multi=data_clean[(data_clean['product_name'].isin(data_autumn['product_name'].unique()))&(data_clean['product_name'].isin(data_spring['product_name'].unique()))&(data_clean['product_name'].isin(data_winter['product_name'].unique()))&(data_clean['product_name'].isin(data_summer['product_name'].unique()))]"
   ]
  },
  {
   "cell_type": "code",
   "execution_count": 63,
   "id": "49c3c4a3",
   "metadata": {},
   "outputs": [
    {
     "data": {},
     "execution_count": 63,
     "metadata": {},
     "output_type": "execute_result"
    }
   ],
   "source": [
    "data_multi['product_name'].nunique()"
   ]
  },
  {
   "cell_type": "code",
   "execution_count": 64,
   "id": "4f46acb5",
   "metadata": {
    "scrolled": true
   },
   "outputs": [
    {
     "data": {},
     "execution_count": 64,
     "metadata": {},
     "output_type": "execute_result"
    }
   ],
   "source": [
    "data_multi"
   ]
  },
  {
   "cell_type": "markdown",
   "id": "377e67af",
   "metadata": {},
   "source": [
    "**Let's join tables:**"
   ]
  },
  {
   "cell_type": "code",
   "execution_count": 65,
   "id": "1fa0eea7",
   "metadata": {},
   "outputs": [],
   "source": [
    "data_spring_uniq['season']='spring'\n",
    "data_winter_uniq['season']='winter'\n",
    "data_summer_uniq['season']='summer'\n",
    "data_autumn_uniq['season']='autumn'\n",
    "data_multi['season']='multiseasons'"
   ]
  },
  {
   "cell_type": "code",
   "execution_count": 66,
   "id": "dce09a08",
   "metadata": {},
   "outputs": [],
   "source": [
    "data_season=data_spring_uniq.append(data_winter_uniq).append(data_summer_uniq).append(data_autumn_uniq).append(data_multi)"
   ]
  },
  {
   "cell_type": "code",
   "execution_count": 67,
   "id": "6d1b2c80",
   "metadata": {},
   "outputs": [
    {
     "data": {
      "image/png": "[encoded data removed]"
     },
     "metadata": {},
     "output_type": "display_data"
    }
   ],
   "source": [
    "data_season.pivot_table(index='season', values='product_name',aggfunc='nunique').plot(y='product_name',kind='pie',figsize=(6,6))\n",
    "plt.show()"
   ]
  },
  {
   "cell_type": "markdown",
   "id": "4ae1cf8b",
   "metadata": {},
   "source": [
    "***We see the most of the assortment are all-season goods and a smaller part are summer and spring***"
   ]
  },
  {
   "cell_type": "code",
   "execution_count": 68,
   "id": "6a8b683e",
   "metadata": {},
   "outputs": [
    {
     "data": {
      "image/png": "[encoded data removed]"
     },
     "metadata": {
      "needs_background": "light"
     },
     "output_type": "display_data"
    }
   ],
   "source": [
    "data_season.groupby('season')['unit_price'].median().reset_index().plot(y='unit_price',x='season', kind='bar',figsize=(12, 4))\n",
    "plt.show()"
   ]
  },
  {
   "cell_type": "code",
   "execution_count": 69,
   "id": "bfc64424",
   "metadata": {},
   "outputs": [
    {
     "data": {
      "image/png": "[encoded data removed]"
     },
     "metadata": {
      "needs_background": "light"
     },
     "output_type": "display_data"
    }
   ],
   "source": [
    "plt.figure(figsize=(10,5))\n",
    "sns.boxplot(x='season',y='unit_price',data=data_season,showfliers = False)\n",
    "plt.show()"
   ]
  },
  {
   "cell_type": "markdown",
   "id": "c4846c6a",
   "metadata": {},
   "source": [
    "***We see that autumn products have the highest average prices and summer - the lowest.***"
   ]
  },
  {
   "cell_type": "markdown",
   "id": "77c73482",
   "metadata": {},
   "source": [
    "## Checking hypothesises"
   ]
  },
  {
   "cell_type": "markdown",
   "id": "e42c9ad6",
   "metadata": {},
   "source": [
    "Lets formulate null and an alternative hypothesises: <br>\n",
    " ***H0:The null hypothesis - the price of a highly popular product is statistically less than the price of a low popularity product.<br>\n",
    "    H1:The alternative hypothesis -the price of a highly popular product isn't statistically less than the price of a low popularity product.***"
   ]
  },
  {
   "cell_type": "code",
   "execution_count": 70,
   "id": "43aeae57",
   "metadata": {},
   "outputs": [
    {
     "data": {},
     "execution_count": 70,
     "metadata": {},
     "output_type": "execute_result"
    }
   ],
   "source": [
    "data_clean_gr"
   ]
  },
  {
   "cell_type": "code",
   "execution_count": 71,
   "id": "4eb5c815",
   "metadata": {
    "scrolled": true
   },
   "outputs": [
    {
     "data": {},
     "execution_count": 71,
     "metadata": {},
     "output_type": "execute_result"
    }
   ],
   "source": [
    "data_high_popular=data_clean_gr.query('group_y==\"high_popular\"')\n",
    "data_high_popular['unit_price']"
   ]
  },
  {
   "cell_type": "code",
   "execution_count": 72,
   "id": "ed0ece74",
   "metadata": {},
   "outputs": [],
   "source": [
    "data_low_popular=data_clean_gr.query('group_y==\"low_popular\"')"
   ]
  },
  {
   "cell_type": "code",
   "execution_count": 73,
   "id": "abc95ab2",
   "metadata": {},
   "outputs": [
    {
     "data": {},
     "execution_count": 73,
     "metadata": {},
     "output_type": "execute_result"
    }
   ],
   "source": [
    "data_low_popular['unit_price'].describe()"
   ]
  },
  {
   "cell_type": "code",
   "execution_count": 74,
   "id": "a1283590",
   "metadata": {
    "scrolled": true
   },
   "outputs": [
    {
     "data": {},
     "execution_count": 74,
     "metadata": {},
     "output_type": "execute_result"
    }
   ],
   "source": [
    "data_high_popular['unit_price'].describe()"
   ]
  },
  {
   "cell_type": "code",
   "execution_count": 75,
   "id": "befe87f0",
   "metadata": {
    "scrolled": true
   },
   "outputs": [],
   "source": [
    "alpha =0.05\n",
    "results = st.ttest_ind(data_high_popular['unit_price'],data_low_popular['unit_price'], equal_var=False, alternative='less')\n",
    "print('p-value:', results.pvalue)"
   ]
  },
  {
   "cell_type": "code",
   "execution_count": 76,
   "id": "2430563a",
   "metadata": {},
   "outputs": [],
   "source": [
    "if results.pvalue<alpha:\n",
    "    print(\"We reject the null hypothesis\")\n",
    "else:\n",
    "    print(\"We can't reject the null hypothesis\")"
   ]
  },
  {
   "cell_type": "markdown",
   "id": "0ef6af76",
   "metadata": {},
   "source": [
    "**When testing hypotheses, we used Student's test, since we had two samples of values, and it was necessary to check how the means of these samples are equal. Samples are independence, so we used  \"two-sided test\"- \"st.ttest_ind\".**"
   ]
  },
  {
   "cell_type": "markdown",
   "id": "ca0da469",
   "metadata": {},
   "source": [
    "**The p-value<alpha, so we cannot say that high-popular products have lower prices than low popularity products.**"
   ]
  },
  {
   "cell_type": "markdown",
   "id": "b057bbdc",
   "metadata": {},
   "source": [
    "## Conslutions"
   ]
  },
  {
   "cell_type": "markdown",
   "id": "33d03071",
   "metadata": {},
   "source": [
    "After analyzing the range of goods, we can draw the following conclusions:<br>\n",
    "\n",
    "1) The store does not specialize in a particular type of goods - ***having 4026 different items.***<br>\n",
    "\n",
    "2) Company sales the most of \"cheap\" products(unit price less than 2). We see that the number of goods sold at low prices is much greater than at medium and high prices. Revenue is directly proportional to the price of goods, respectively, \"expensive\"(unit price more than 4) goods bring more income than \"cheap\" ones. Therefore, ***the company should increase sales of \"expensive\" goods in the future.***<br>\n",
    "\n",
    "3) We see that the price per unit of high and medium popularity goods remains virtually unchanged throughout the year. And the prices for ***the most unpopular goods, on the contrary, have peak values in December and August.*** Perhaps it was because of the increase in prices that the goods did not sell as well, and this reduced their popularity. <br>\n",
    "\n",
    "4) We can see that the range of products mainly consists of products of ***high popularity (sales of more than 500), but low value (unit price less than 2).*** In products with medium (sales from 100 to 500) and low (sales less than 100) popularity, there is no significant difference in unit cost.<br>\n",
    "\n",
    "5) We found ***108 products that sold only once in the last three months*** - it may be worth refusing to purchase these products in the future, unless these are seasonal products and their sales peak at another time of the year.<br>\n",
    "\n",
    "6) We found ***28 types of goods that were sold in the largest quantity in the last 3 months.*** After checking them for seasonality, you can also increase their purchases.<br>\n",
    "\n",
    "7) The assortment contains seasonal goods and all-season goods. ***The most of the assortment are all-season goods and a smaller part are summer and spring.***<br>\n",
    "\n",
    "8) That ***autumn*** products have the ***highest average prices*** and ***summer - the lowest.***<br>\n",
    "\n",
    "9) After testing the hypothesis that ***the most popular products have a lower price, with two-side t-test, we concluded that this is not the case.***"
   ]
  }
 ],
 "metadata": {
  "kernelspec": {
   "display_name": "Python 3 (ipykernel)",
   "language": "python",
   "name": "python3"
  },
  "language_info": {
   "codemirror_mode": {
    "name": "ipython",
    "version": 3
   },
   "file_extension": ".py",
   "mimetype": "text/x-python",
   "name": "python",
   "nbconvert_exporter": "python",
   "pygments_lexer": "ipython3",
   "version": "3.9.5"
  },
  "toc": {
   "base_numbering": 1,
   "nav_menu": {},
   "number_sections": true,
   "sideBar": true,
   "skip_h1_title": true,
   "title_cell": "Table of Contents",
   "title_sidebar": "Contents",
   "toc_cell": false,
   "toc_position": {},
   "toc_section_display": true,
   "toc_window_display": false
  }
 },
 "nbformat": 4,
 "nbformat_minor": 5
}
