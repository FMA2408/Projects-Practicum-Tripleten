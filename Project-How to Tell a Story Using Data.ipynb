{
 "cells": [
  {
   "cell_type": "markdown",
   "id": "f911a387",
   "metadata": {},
   "source": [
    "<a id=\"# Project about how to Tell a Story Using Data\"></a> "
   ]
  },
  {
   "cell_type": "markdown",
   "id": "0af470aa",
   "metadata": {},
   "source": [
    "# Project about How to Tell a Story Using Data"
   ]
  },
  {
   "cell_type": "markdown",
   "id": "e476679f",
   "metadata": {},
   "source": [
    " ## Project description <a id=\"some_id\"></a> "
   ]
  },
  {
   "cell_type": "markdown",
   "id": "3205e713",
   "metadata": {},
   "source": [
    "We’ve decided to open a small robot-run cafe in Los Angeles. The project is promising but expensive, so we and our partners decide to try to attract investors. They’re interested in the current market conditions—will we be able to maintain your success when the novelty of robot waiters wears off?\n",
    "Our partners have asked to prepare some market research. We have open-source data on restaurants in LA."
   ]
  },
  {
   "cell_type": "markdown",
   "id": "2ebe04a9",
   "metadata": {},
   "source": [
    "## Description of the data <a id=\"Description\"></a> "
   ]
  },
  {
   "cell_type": "markdown",
   "id": "291808e7",
   "metadata": {},
   "source": [
    "**Data used in the first part of the project**\n",
    "\n",
    "/datasets/rest_data_us.csv\n",
    "- *object_name* — establishment name\n",
    "- *chain* — chain establishment (TRUE/FALSE)\n",
    "- *object_type* — establishment type\n",
    "- *address* — address\n",
    "- *number* — number of seats\n"
   ]
  },
  {
   "cell_type": "markdown",
   "id": "af32793b",
   "metadata": {},
   "source": [
    "## Loading and preprocessing the data <a id=\"3\"></a> "
   ]
  },
  {
   "cell_type": "code",
   "execution_count": 1,
   "id": "540ac1e0",
   "metadata": {},
   "outputs": [
    {
     "name": "stdout",
     "output_type": "stream",
     "text": [
      "Requirement already satisfied: usaddress in /opt/conda/lib/python3.9/site-packages (0.5.10)\r\n",
      "Requirement already satisfied: python-crfsuite>=0.7 in /opt/conda/lib/python3.9/site-packages (from usaddress) (0.9.9)\r\n",
      "Requirement already satisfied: future>=0.14 in /opt/conda/lib/python3.9/site-packages (from usaddress) (0.18.3)\r\n",
      "Requirement already satisfied: probableparsing in /opt/conda/lib/python3.9/site-packages (from usaddress) (0.0.1)\r\n"
     ]
    }
   ],
   "source": [
    "import pandas as pd\n",
    "from scipy import stats as st\n",
    "import datetime as dt\n",
    "import numpy as np\n",
    "import matplotlib.pyplot as plt\n",
    "import seaborn as sns\n",
    "import math\n",
    "import plotly.express as px\n",
    "from scipy import stats\n",
    "!pip install usaddress\n",
    "import usaddress"
   ]
  },
  {
   "cell_type": "code",
   "execution_count": 2,
   "id": "cb54471a",
   "metadata": {},
   "outputs": [],
   "source": [
    "rest_data=pd.read_csv('/datasets/rest_data_us.csv')"
   ]
  },
  {
   "cell_type": "code",
   "execution_count": 3,
   "id": "79dbb55d",
   "metadata": {
    "scrolled": true
   },
   "outputs": [
    {
     "data": {
      "text/html": [
       "<div>\n",
       "<style scoped>\n",
       "    .dataframe tbody tr th:only-of-type {\n",
       "        vertical-align: middle;\n",
       "    }\n",
       "\n",
       "    .dataframe tbody tr th {\n",
       "        vertical-align: top;\n",
       "    }\n",
       "\n",
       "    .dataframe thead th {\n",
       "        text-align: right;\n",
       "    }\n",
       "</style>\n",
       "<table border=\"1\" class=\"dataframe\">\n",
       "  <thead>\n",
       "    <tr style=\"text-align: right;\">\n",
       "      <th></th>\n",
       "      <th>id</th>\n",
       "      <th>object_name</th>\n",
       "      <th>address</th>\n",
       "      <th>chain</th>\n",
       "      <th>object_type</th>\n",
       "      <th>number</th>\n",
       "    </tr>\n",
       "  </thead>\n",
       "  <tbody>\n",
       "    <tr>\n",
       "      <th>0</th>\n",
       "      <td>11786</td>\n",
       "      <td>HABITAT COFFEE SHOP</td>\n",
       "      <td>3708 N EAGLE ROCK BLVD</td>\n",
       "      <td>False</td>\n",
       "      <td>Cafe</td>\n",
       "      <td>26</td>\n",
       "    </tr>\n",
       "    <tr>\n",
       "      <th>1</th>\n",
       "      <td>11787</td>\n",
       "      <td>REILLY'S</td>\n",
       "      <td>100 WORLD WAY # 120</td>\n",
       "      <td>False</td>\n",
       "      <td>Restaurant</td>\n",
       "      <td>9</td>\n",
       "    </tr>\n",
       "    <tr>\n",
       "      <th>2</th>\n",
       "      <td>11788</td>\n",
       "      <td>STREET CHURROS</td>\n",
       "      <td>6801 HOLLYWOOD BLVD # 253</td>\n",
       "      <td>False</td>\n",
       "      <td>Fast Food</td>\n",
       "      <td>20</td>\n",
       "    </tr>\n",
       "    <tr>\n",
       "      <th>3</th>\n",
       "      <td>11789</td>\n",
       "      <td>TRINITI ECHO PARK</td>\n",
       "      <td>1814 W SUNSET BLVD</td>\n",
       "      <td>False</td>\n",
       "      <td>Restaurant</td>\n",
       "      <td>22</td>\n",
       "    </tr>\n",
       "    <tr>\n",
       "      <th>4</th>\n",
       "      <td>11790</td>\n",
       "      <td>POLLEN</td>\n",
       "      <td>2100 ECHO PARK AVE</td>\n",
       "      <td>False</td>\n",
       "      <td>Restaurant</td>\n",
       "      <td>20</td>\n",
       "    </tr>\n",
       "    <tr>\n",
       "      <th>5</th>\n",
       "      <td>11791</td>\n",
       "      <td>THE SPOT GRILL</td>\n",
       "      <td>10004 NATIONAL BLVD</td>\n",
       "      <td>False</td>\n",
       "      <td>Restaurant</td>\n",
       "      <td>14</td>\n",
       "    </tr>\n",
       "    <tr>\n",
       "      <th>6</th>\n",
       "      <td>11792</td>\n",
       "      <td>CPK</td>\n",
       "      <td>100 WORLD WAY # 126</td>\n",
       "      <td>False</td>\n",
       "      <td>Restaurant</td>\n",
       "      <td>100</td>\n",
       "    </tr>\n",
       "    <tr>\n",
       "      <th>7</th>\n",
       "      <td>11793</td>\n",
       "      <td>PHO LALA</td>\n",
       "      <td>3500 W 6TH ST STE 226</td>\n",
       "      <td>False</td>\n",
       "      <td>Restaurant</td>\n",
       "      <td>7</td>\n",
       "    </tr>\n",
       "    <tr>\n",
       "      <th>8</th>\n",
       "      <td>11794</td>\n",
       "      <td>ABC DONUTS</td>\n",
       "      <td>3027 N SAN FERNANDO RD UNIT 103</td>\n",
       "      <td>True</td>\n",
       "      <td>Fast Food</td>\n",
       "      <td>1</td>\n",
       "    </tr>\n",
       "    <tr>\n",
       "      <th>9</th>\n",
       "      <td>11795</td>\n",
       "      <td>UPSTAIRS</td>\n",
       "      <td>3707 N CAHUENGA BLVD</td>\n",
       "      <td>False</td>\n",
       "      <td>Restaurant</td>\n",
       "      <td>35</td>\n",
       "    </tr>\n",
       "  </tbody>\n",
       "</table>\n",
       "</div>"
      ],
      "text/plain": [
       "      id          object_name                          address  chain  \\\n",
       "0  11786  HABITAT COFFEE SHOP           3708 N EAGLE ROCK BLVD  False   \n",
       "1  11787             REILLY'S              100 WORLD WAY # 120  False   \n",
       "2  11788       STREET CHURROS        6801 HOLLYWOOD BLVD # 253  False   \n",
       "3  11789    TRINITI ECHO PARK               1814 W SUNSET BLVD  False   \n",
       "4  11790               POLLEN               2100 ECHO PARK AVE  False   \n",
       "5  11791       THE SPOT GRILL              10004 NATIONAL BLVD  False   \n",
       "6  11792                  CPK              100 WORLD WAY # 126  False   \n",
       "7  11793             PHO LALA            3500 W 6TH ST STE 226  False   \n",
       "8  11794           ABC DONUTS  3027 N SAN FERNANDO RD UNIT 103   True   \n",
       "9  11795             UPSTAIRS             3707 N CAHUENGA BLVD  False   \n",
       "\n",
       "  object_type  number  \n",
       "0        Cafe      26  \n",
       "1  Restaurant       9  \n",
       "2   Fast Food      20  \n",
       "3  Restaurant      22  \n",
       "4  Restaurant      20  \n",
       "5  Restaurant      14  \n",
       "6  Restaurant     100  \n",
       "7  Restaurant       7  \n",
       "8   Fast Food       1  \n",
       "9  Restaurant      35  "
      ]
     },
     "execution_count": 3,
     "metadata": {},
     "output_type": "execute_result"
    }
   ],
   "source": [
    "rest_data.head(10)"
   ]
  },
  {
   "cell_type": "code",
   "execution_count": 4,
   "id": "95df3b91",
   "metadata": {},
   "outputs": [
    {
     "name": "stdout",
     "output_type": "stream",
     "text": [
      "<class 'pandas.core.frame.DataFrame'>\n",
      "RangeIndex: 9651 entries, 0 to 9650\n",
      "Data columns (total 6 columns):\n",
      " #   Column       Non-Null Count  Dtype \n",
      "---  ------       --------------  ----- \n",
      " 0   id           9651 non-null   int64 \n",
      " 1   object_name  9651 non-null   object\n",
      " 2   address      9651 non-null   object\n",
      " 3   chain        9648 non-null   object\n",
      " 4   object_type  9651 non-null   object\n",
      " 5   number       9651 non-null   int64 \n",
      "dtypes: int64(2), object(4)\n",
      "memory usage: 452.5+ KB\n"
     ]
    }
   ],
   "source": [
    "rest_data.info()"
   ]
  },
  {
   "cell_type": "code",
   "execution_count": 5,
   "id": "8273b639",
   "metadata": {},
   "outputs": [],
   "source": [
    "rest_data=rest_data.drop_duplicates()"
   ]
  },
  {
   "cell_type": "code",
   "execution_count": 6,
   "id": "d50756ff",
   "metadata": {},
   "outputs": [],
   "source": [
    "rest_data['object_name']=rest_data['object_name'].str.lower()\n",
    "rest_data['address']=rest_data['address'].str.lower()"
   ]
  },
  {
   "cell_type": "code",
   "execution_count": 7,
   "id": "37ac080f",
   "metadata": {},
   "outputs": [],
   "source": [
    "rest_data['chain']=rest_data['chain'].astype(bool)"
   ]
  },
  {
   "cell_type": "code",
   "execution_count": 8,
   "id": "d0089dba",
   "metadata": {},
   "outputs": [
    {
     "data": {
      "text/html": [
       "<div>\n",
       "<style scoped>\n",
       "    .dataframe tbody tr th:only-of-type {\n",
       "        vertical-align: middle;\n",
       "    }\n",
       "\n",
       "    .dataframe tbody tr th {\n",
       "        vertical-align: top;\n",
       "    }\n",
       "\n",
       "    .dataframe thead th {\n",
       "        text-align: right;\n",
       "    }\n",
       "</style>\n",
       "<table border=\"1\" class=\"dataframe\">\n",
       "  <thead>\n",
       "    <tr style=\"text-align: right;\">\n",
       "      <th></th>\n",
       "      <th>id</th>\n",
       "      <th>object_name</th>\n",
       "      <th>address</th>\n",
       "      <th>chain</th>\n",
       "      <th>object_type</th>\n",
       "      <th>number</th>\n",
       "    </tr>\n",
       "  </thead>\n",
       "  <tbody>\n",
       "    <tr>\n",
       "      <th>0</th>\n",
       "      <td>11786</td>\n",
       "      <td>habitat coffee shop</td>\n",
       "      <td>3708 n eagle rock blvd</td>\n",
       "      <td>False</td>\n",
       "      <td>Cafe</td>\n",
       "      <td>26</td>\n",
       "    </tr>\n",
       "    <tr>\n",
       "      <th>1</th>\n",
       "      <td>11787</td>\n",
       "      <td>reilly's</td>\n",
       "      <td>100 world way # 120</td>\n",
       "      <td>False</td>\n",
       "      <td>Restaurant</td>\n",
       "      <td>9</td>\n",
       "    </tr>\n",
       "    <tr>\n",
       "      <th>2</th>\n",
       "      <td>11788</td>\n",
       "      <td>street churros</td>\n",
       "      <td>6801 hollywood blvd # 253</td>\n",
       "      <td>False</td>\n",
       "      <td>Fast Food</td>\n",
       "      <td>20</td>\n",
       "    </tr>\n",
       "    <tr>\n",
       "      <th>3</th>\n",
       "      <td>11789</td>\n",
       "      <td>triniti echo park</td>\n",
       "      <td>1814 w sunset blvd</td>\n",
       "      <td>False</td>\n",
       "      <td>Restaurant</td>\n",
       "      <td>22</td>\n",
       "    </tr>\n",
       "    <tr>\n",
       "      <th>4</th>\n",
       "      <td>11790</td>\n",
       "      <td>pollen</td>\n",
       "      <td>2100 echo park ave</td>\n",
       "      <td>False</td>\n",
       "      <td>Restaurant</td>\n",
       "      <td>20</td>\n",
       "    </tr>\n",
       "    <tr>\n",
       "      <th>5</th>\n",
       "      <td>11791</td>\n",
       "      <td>the spot grill</td>\n",
       "      <td>10004 national blvd</td>\n",
       "      <td>False</td>\n",
       "      <td>Restaurant</td>\n",
       "      <td>14</td>\n",
       "    </tr>\n",
       "    <tr>\n",
       "      <th>6</th>\n",
       "      <td>11792</td>\n",
       "      <td>cpk</td>\n",
       "      <td>100 world way # 126</td>\n",
       "      <td>False</td>\n",
       "      <td>Restaurant</td>\n",
       "      <td>100</td>\n",
       "    </tr>\n",
       "    <tr>\n",
       "      <th>7</th>\n",
       "      <td>11793</td>\n",
       "      <td>pho lala</td>\n",
       "      <td>3500 w 6th st ste 226</td>\n",
       "      <td>False</td>\n",
       "      <td>Restaurant</td>\n",
       "      <td>7</td>\n",
       "    </tr>\n",
       "    <tr>\n",
       "      <th>8</th>\n",
       "      <td>11794</td>\n",
       "      <td>abc donuts</td>\n",
       "      <td>3027 n san fernando rd unit 103</td>\n",
       "      <td>True</td>\n",
       "      <td>Fast Food</td>\n",
       "      <td>1</td>\n",
       "    </tr>\n",
       "    <tr>\n",
       "      <th>9</th>\n",
       "      <td>11795</td>\n",
       "      <td>upstairs</td>\n",
       "      <td>3707 n cahuenga blvd</td>\n",
       "      <td>False</td>\n",
       "      <td>Restaurant</td>\n",
       "      <td>35</td>\n",
       "    </tr>\n",
       "  </tbody>\n",
       "</table>\n",
       "</div>"
      ],
      "text/plain": [
       "      id          object_name                          address  chain  \\\n",
       "0  11786  habitat coffee shop           3708 n eagle rock blvd  False   \n",
       "1  11787             reilly's              100 world way # 120  False   \n",
       "2  11788       street churros        6801 hollywood blvd # 253  False   \n",
       "3  11789    triniti echo park               1814 w sunset blvd  False   \n",
       "4  11790               pollen               2100 echo park ave  False   \n",
       "5  11791       the spot grill              10004 national blvd  False   \n",
       "6  11792                  cpk              100 world way # 126  False   \n",
       "7  11793             pho lala            3500 w 6th st ste 226  False   \n",
       "8  11794           abc donuts  3027 n san fernando rd unit 103   True   \n",
       "9  11795             upstairs             3707 n cahuenga blvd  False   \n",
       "\n",
       "  object_type  number  \n",
       "0        Cafe      26  \n",
       "1  Restaurant       9  \n",
       "2   Fast Food      20  \n",
       "3  Restaurant      22  \n",
       "4  Restaurant      20  \n",
       "5  Restaurant      14  \n",
       "6  Restaurant     100  \n",
       "7  Restaurant       7  \n",
       "8   Fast Food       1  \n",
       "9  Restaurant      35  "
      ]
     },
     "execution_count": 8,
     "metadata": {},
     "output_type": "execute_result"
    }
   ],
   "source": [
    "rest_data.head(10)"
   ]
  },
  {
   "cell_type": "code",
   "execution_count": 9,
   "id": "4fa7ce64",
   "metadata": {},
   "outputs": [
    {
     "name": "stdout",
     "output_type": "stream",
     "text": [
      "<class 'pandas.core.frame.DataFrame'>\n",
      "Int64Index: 9651 entries, 0 to 9650\n",
      "Data columns (total 6 columns):\n",
      " #   Column       Non-Null Count  Dtype \n",
      "---  ------       --------------  ----- \n",
      " 0   id           9651 non-null   int64 \n",
      " 1   object_name  9651 non-null   object\n",
      " 2   address      9651 non-null   object\n",
      " 3   chain        9651 non-null   bool  \n",
      " 4   object_type  9651 non-null   object\n",
      " 5   number       9651 non-null   int64 \n",
      "dtypes: bool(1), int64(2), object(3)\n",
      "memory usage: 461.8+ KB\n"
     ]
    }
   ],
   "source": [
    "rest_data.info()"
   ]
  },
  {
   "cell_type": "markdown",
   "id": "6141dfc0",
   "metadata": {},
   "source": [
    "**Now our data have right type and comfortable looking. It's ready for analysis.**"
   ]
  },
  {
   "cell_type": "markdown",
   "id": "b311331d",
   "metadata": {},
   "source": [
    "## Data analysis"
   ]
  },
  {
   "cell_type": "markdown",
   "id": "9a2065de",
   "metadata": {},
   "source": [
    "### Let's investigating the proportions of the various types of establishments"
   ]
  },
  {
   "cell_type": "code",
   "execution_count": 10,
   "id": "6cd65fc1",
   "metadata": {},
   "outputs": [
    {
     "data": {
      "text/html": [
       "<div>\n",
       "<style scoped>\n",
       "    .dataframe tbody tr th:only-of-type {\n",
       "        vertical-align: middle;\n",
       "    }\n",
       "\n",
       "    .dataframe tbody tr th {\n",
       "        vertical-align: top;\n",
       "    }\n",
       "\n",
       "    .dataframe thead th {\n",
       "        text-align: right;\n",
       "    }\n",
       "</style>\n",
       "<table border=\"1\" class=\"dataframe\">\n",
       "  <thead>\n",
       "    <tr style=\"text-align: right;\">\n",
       "      <th></th>\n",
       "      <th>object_type</th>\n",
       "      <th>amount</th>\n",
       "    </tr>\n",
       "  </thead>\n",
       "  <tbody>\n",
       "    <tr>\n",
       "      <th>5</th>\n",
       "      <td>Restaurant</td>\n",
       "      <td>7255</td>\n",
       "    </tr>\n",
       "    <tr>\n",
       "      <th>3</th>\n",
       "      <td>Fast Food</td>\n",
       "      <td>1066</td>\n",
       "    </tr>\n",
       "    <tr>\n",
       "      <th>2</th>\n",
       "      <td>Cafe</td>\n",
       "      <td>435</td>\n",
       "    </tr>\n",
       "    <tr>\n",
       "      <th>4</th>\n",
       "      <td>Pizza</td>\n",
       "      <td>320</td>\n",
       "    </tr>\n",
       "    <tr>\n",
       "      <th>1</th>\n",
       "      <td>Bar</td>\n",
       "      <td>292</td>\n",
       "    </tr>\n",
       "    <tr>\n",
       "      <th>0</th>\n",
       "      <td>Bakery</td>\n",
       "      <td>283</td>\n",
       "    </tr>\n",
       "  </tbody>\n",
       "</table>\n",
       "</div>"
      ],
      "text/plain": [
       "  object_type  amount\n",
       "5  Restaurant    7255\n",
       "3   Fast Food    1066\n",
       "2        Cafe     435\n",
       "4       Pizza     320\n",
       "1         Bar     292\n",
       "0      Bakery     283"
      ]
     },
     "execution_count": 10,
     "metadata": {},
     "output_type": "execute_result"
    }
   ],
   "source": [
    "rest_data_gr=rest_data.groupby('object_type')['object_name'].count().reset_index().sort_values(by='object_name',ascending=False)\n",
    "rest_data_gr.columns=['object_type','amount']\n",
    "rest_data_gr"
   ]
  },
  {
   "cell_type": "code",
   "execution_count": 11,
   "id": "b8c05f22",
   "metadata": {},
   "outputs": [
    {
     "data": {
      "text/html": [
       "<div>\n",
       "<style scoped>\n",
       "    .dataframe tbody tr th:only-of-type {\n",
       "        vertical-align: middle;\n",
       "    }\n",
       "\n",
       "    .dataframe tbody tr th {\n",
       "        vertical-align: top;\n",
       "    }\n",
       "\n",
       "    .dataframe thead th {\n",
       "        text-align: right;\n",
       "    }\n",
       "</style>\n",
       "<table border=\"1\" class=\"dataframe\">\n",
       "  <thead>\n",
       "    <tr style=\"text-align: right;\">\n",
       "      <th></th>\n",
       "      <th>object_type</th>\n",
       "      <th>amount</th>\n",
       "      <th>percent,%</th>\n",
       "    </tr>\n",
       "  </thead>\n",
       "  <tbody>\n",
       "    <tr>\n",
       "      <th>5</th>\n",
       "      <td>Restaurant</td>\n",
       "      <td>7255</td>\n",
       "      <td>75</td>\n",
       "    </tr>\n",
       "    <tr>\n",
       "      <th>3</th>\n",
       "      <td>Fast Food</td>\n",
       "      <td>1066</td>\n",
       "      <td>11</td>\n",
       "    </tr>\n",
       "    <tr>\n",
       "      <th>2</th>\n",
       "      <td>Cafe</td>\n",
       "      <td>435</td>\n",
       "      <td>5</td>\n",
       "    </tr>\n",
       "    <tr>\n",
       "      <th>4</th>\n",
       "      <td>Pizza</td>\n",
       "      <td>320</td>\n",
       "      <td>3</td>\n",
       "    </tr>\n",
       "    <tr>\n",
       "      <th>1</th>\n",
       "      <td>Bar</td>\n",
       "      <td>292</td>\n",
       "      <td>3</td>\n",
       "    </tr>\n",
       "    <tr>\n",
       "      <th>0</th>\n",
       "      <td>Bakery</td>\n",
       "      <td>283</td>\n",
       "      <td>3</td>\n",
       "    </tr>\n",
       "  </tbody>\n",
       "</table>\n",
       "</div>"
      ],
      "text/plain": [
       "  object_type  amount  percent,%\n",
       "5  Restaurant    7255         75\n",
       "3   Fast Food    1066         11\n",
       "2        Cafe     435          5\n",
       "4       Pizza     320          3\n",
       "1         Bar     292          3\n",
       "0      Bakery     283          3"
      ]
     },
     "execution_count": 11,
     "metadata": {},
     "output_type": "execute_result"
    }
   ],
   "source": [
    "rest_data_gr['percent,%']=((rest_data_gr['amount']/rest_data_gr['amount'].sum())*100).map(lambda x:int(\"{0:.0f}\".format(x)))\n",
    "rest_data_gr"
   ]
  },
  {
   "cell_type": "code",
   "execution_count": 12,
   "id": "0ee54b77",
   "metadata": {},
   "outputs": [
    {
     "data": {
      "image/png": "[encoded data removed]",
      "text/plain": [
       "<Figure size 432x288 with 1 Axes>"
      ]
     },
     "metadata": {},
     "output_type": "display_data"
    }
   ],
   "source": [
    "plt.pie(rest_data_gr['percent,%'],labels=rest_data_gr['percent,%'],radius=2,labeldistance=0.8),\n",
    "plt.title('Graph-pie of the percent of various types of establishments')\n",
    "plt.legend(rest_data_gr['object_type'])\n",
    "plt.show()"
   ]
  },
  {
   "cell_type": "code",
   "execution_count": 13,
   "id": "0c273418",
   "metadata": {},
   "outputs": [
    {
     "data": {
      "image/png": "[encoded data removed]",
      "text/plain": [
       "<Figure size 432x288 with 1 Axes>"
      ]
     },
     "metadata": {
      "needs_background": "light"
     },
     "output_type": "display_data"
    }
   ],
   "source": [
    "plt.bar(rest_data_gr['object_type'], rest_data_gr['amount'])\n",
    "plt.title('Graph of the various types of establishments')\n",
    "plt.show()"
   ]
  },
  {
   "cell_type": "markdown",
   "id": "8a6fd336",
   "metadata": {},
   "source": [
    "We can see from the graf, that most of the establishments are restaurant, 75%. On the second place is fast food. And other establishments is less than 5%."
   ]
  },
  {
   "cell_type": "markdown",
   "id": "08f73639",
   "metadata": {},
   "source": [
    "### Let's investigating the proportions of chain and nonchain establishments"
   ]
  },
  {
   "cell_type": "code",
   "execution_count": 14,
   "id": "f539fdd2",
   "metadata": {},
   "outputs": [],
   "source": [
    "rest_data_gr=rest_data.groupby('chain')['object_name'].count().reset_index().sort_values(by='object_name',ascending=False)\n",
    "rest_data_gr.columns=['chain','amount']\n"
   ]
  },
  {
   "cell_type": "code",
   "execution_count": 15,
   "id": "048b9ae3",
   "metadata": {},
   "outputs": [
    {
     "data": {
      "text/html": [
       "<div>\n",
       "<style scoped>\n",
       "    .dataframe tbody tr th:only-of-type {\n",
       "        vertical-align: middle;\n",
       "    }\n",
       "\n",
       "    .dataframe tbody tr th {\n",
       "        vertical-align: top;\n",
       "    }\n",
       "\n",
       "    .dataframe thead th {\n",
       "        text-align: right;\n",
       "    }\n",
       "</style>\n",
       "<table border=\"1\" class=\"dataframe\">\n",
       "  <thead>\n",
       "    <tr style=\"text-align: right;\">\n",
       "      <th></th>\n",
       "      <th>chain</th>\n",
       "      <th>amount</th>\n",
       "    </tr>\n",
       "  </thead>\n",
       "  <tbody>\n",
       "    <tr>\n",
       "      <th>0</th>\n",
       "      <td>False</td>\n",
       "      <td>5972</td>\n",
       "    </tr>\n",
       "    <tr>\n",
       "      <th>1</th>\n",
       "      <td>True</td>\n",
       "      <td>3679</td>\n",
       "    </tr>\n",
       "  </tbody>\n",
       "</table>\n",
       "</div>"
      ],
      "text/plain": [
       "   chain  amount\n",
       "0  False    5972\n",
       "1   True    3679"
      ]
     },
     "execution_count": 15,
     "metadata": {},
     "output_type": "execute_result"
    }
   ],
   "source": [
    "rest_data_gr"
   ]
  },
  {
   "cell_type": "code",
   "execution_count": 16,
   "id": "ecdfd69a",
   "metadata": {},
   "outputs": [],
   "source": [
    "rest_data_gr.loc[0,'chain']='nonchain'\n",
    "rest_data_gr.loc[1,'chain']='chain'"
   ]
  },
  {
   "cell_type": "code",
   "execution_count": 17,
   "id": "6fd24115",
   "metadata": {},
   "outputs": [
    {
     "data": {
      "text/html": [
       "<div>\n",
       "<style scoped>\n",
       "    .dataframe tbody tr th:only-of-type {\n",
       "        vertical-align: middle;\n",
       "    }\n",
       "\n",
       "    .dataframe tbody tr th {\n",
       "        vertical-align: top;\n",
       "    }\n",
       "\n",
       "    .dataframe thead th {\n",
       "        text-align: right;\n",
       "    }\n",
       "</style>\n",
       "<table border=\"1\" class=\"dataframe\">\n",
       "  <thead>\n",
       "    <tr style=\"text-align: right;\">\n",
       "      <th></th>\n",
       "      <th>chain</th>\n",
       "      <th>amount</th>\n",
       "      <th>percent,%</th>\n",
       "    </tr>\n",
       "  </thead>\n",
       "  <tbody>\n",
       "    <tr>\n",
       "      <th>0</th>\n",
       "      <td>nonchain</td>\n",
       "      <td>5972</td>\n",
       "      <td>62</td>\n",
       "    </tr>\n",
       "    <tr>\n",
       "      <th>1</th>\n",
       "      <td>chain</td>\n",
       "      <td>3679</td>\n",
       "      <td>38</td>\n",
       "    </tr>\n",
       "  </tbody>\n",
       "</table>\n",
       "</div>"
      ],
      "text/plain": [
       "      chain  amount  percent,%\n",
       "0  nonchain    5972         62\n",
       "1     chain    3679         38"
      ]
     },
     "execution_count": 17,
     "metadata": {},
     "output_type": "execute_result"
    }
   ],
   "source": [
    "rest_data_gr['percent,%']=((rest_data_gr['amount']/rest_data_gr['amount'].sum())*100).map(lambda x:int(\"{0:.0f}\".format(x)))\n",
    "rest_data_gr"
   ]
  },
  {
   "cell_type": "code",
   "execution_count": 18,
   "id": "33736e4f",
   "metadata": {
    "scrolled": true
   },
   "outputs": [
    {
     "data": {
      "image/png": "[encoded data removed]",
      "text/plain": [
       "<Figure size 432x288 with 1 Axes>"
      ]
     },
     "metadata": {},
     "output_type": "display_data"
    }
   ],
   "source": [
    "plt.pie(rest_data_gr['percent,%'],labels=rest_data_gr['percent,%'],radius=1.5,labeldistance=0.8),\n",
    "plt.title('Graph-pie of percent of chain and nonchain establishments')\n",
    "plt.legend(rest_data_gr['chain'])\n",
    "plt.show()"
   ]
  },
  {
   "cell_type": "code",
   "execution_count": 19,
   "id": "a0c52f0e",
   "metadata": {
    "scrolled": true
   },
   "outputs": [
    {
     "data": {
      "image/png": "[encoded data removed]",
      "text/plain": [
       "<Figure size 432x288 with 1 Axes>"
      ]
     },
     "metadata": {
      "needs_background": "light"
     },
     "output_type": "display_data"
    }
   ],
   "source": [
    "plt.bar(rest_data_gr['chain'], rest_data_gr['amount'])\n",
    "plt.title('Graph of chain and nonchain establishments')\n",
    "plt.show()"
   ]
  },
  {
   "cell_type": "markdown",
   "id": "7e9d2196",
   "metadata": {},
   "source": [
    "We can see from the graf, that most of the establishments are nonchain, 62%."
   ]
  },
  {
   "cell_type": "markdown",
   "id": "a35a1073",
   "metadata": {},
   "source": [
    "### Let's find which type of establishment is typically a chain"
   ]
  },
  {
   "cell_type": "code",
   "execution_count": 20,
   "id": "c708b7d7",
   "metadata": {},
   "outputs": [],
   "source": [
    "rest_data_grchain=rest_data.groupby(['object_type','chain'])['object_name'].count().reset_index().sort_values(by='object_name',ascending=False)"
   ]
  },
  {
   "cell_type": "code",
   "execution_count": 21,
   "id": "e250755a",
   "metadata": {},
   "outputs": [],
   "source": [
    "rest_data_grtype=rest_data.pivot_table(index='object_type',columns='chain',values='object_name',aggfunc='count').reset_index()"
   ]
  },
  {
   "cell_type": "code",
   "execution_count": 22,
   "id": "6db54ec2",
   "metadata": {},
   "outputs": [],
   "source": [
    "rest_data_grtype=rest_data_grtype.fillna(0)"
   ]
  },
  {
   "cell_type": "code",
   "execution_count": 23,
   "id": "b9570677",
   "metadata": {},
   "outputs": [
    {
     "data": {
      "text/html": [
       "<div>\n",
       "<style scoped>\n",
       "    .dataframe tbody tr th:only-of-type {\n",
       "        vertical-align: middle;\n",
       "    }\n",
       "\n",
       "    .dataframe tbody tr th {\n",
       "        vertical-align: top;\n",
       "    }\n",
       "\n",
       "    .dataframe thead th {\n",
       "        text-align: right;\n",
       "    }\n",
       "</style>\n",
       "<table border=\"1\" class=\"dataframe\">\n",
       "  <thead>\n",
       "    <tr style=\"text-align: right;\">\n",
       "      <th></th>\n",
       "      <th>object_type</th>\n",
       "      <th>nonchain</th>\n",
       "      <th>chain</th>\n",
       "    </tr>\n",
       "  </thead>\n",
       "  <tbody>\n",
       "    <tr>\n",
       "      <th>0</th>\n",
       "      <td>Bakery</td>\n",
       "      <td>0.0</td>\n",
       "      <td>283.0</td>\n",
       "    </tr>\n",
       "    <tr>\n",
       "      <th>1</th>\n",
       "      <td>Bar</td>\n",
       "      <td>215.0</td>\n",
       "      <td>77.0</td>\n",
       "    </tr>\n",
       "    <tr>\n",
       "      <th>2</th>\n",
       "      <td>Cafe</td>\n",
       "      <td>169.0</td>\n",
       "      <td>266.0</td>\n",
       "    </tr>\n",
       "    <tr>\n",
       "      <th>3</th>\n",
       "      <td>Fast Food</td>\n",
       "      <td>461.0</td>\n",
       "      <td>605.0</td>\n",
       "    </tr>\n",
       "    <tr>\n",
       "      <th>4</th>\n",
       "      <td>Pizza</td>\n",
       "      <td>166.0</td>\n",
       "      <td>154.0</td>\n",
       "    </tr>\n",
       "    <tr>\n",
       "      <th>5</th>\n",
       "      <td>Restaurant</td>\n",
       "      <td>4961.0</td>\n",
       "      <td>2294.0</td>\n",
       "    </tr>\n",
       "  </tbody>\n",
       "</table>\n",
       "</div>"
      ],
      "text/plain": [
       "  object_type  nonchain   chain\n",
       "0      Bakery       0.0   283.0\n",
       "1         Bar     215.0    77.0\n",
       "2        Cafe     169.0   266.0\n",
       "3   Fast Food     461.0   605.0\n",
       "4       Pizza     166.0   154.0\n",
       "5  Restaurant    4961.0  2294.0"
      ]
     },
     "execution_count": 23,
     "metadata": {},
     "output_type": "execute_result"
    }
   ],
   "source": [
    "rest_data_grtype.columns=['object_type','nonchain','chain']\n",
    "rest_data_grtype"
   ]
  },
  {
   "cell_type": "code",
   "execution_count": 24,
   "id": "86df4113",
   "metadata": {},
   "outputs": [
    {
     "data": {
      "text/html": [
       "<div>\n",
       "<style scoped>\n",
       "    .dataframe tbody tr th:only-of-type {\n",
       "        vertical-align: middle;\n",
       "    }\n",
       "\n",
       "    .dataframe tbody tr th {\n",
       "        vertical-align: top;\n",
       "    }\n",
       "\n",
       "    .dataframe thead th {\n",
       "        text-align: right;\n",
       "    }\n",
       "</style>\n",
       "<table border=\"1\" class=\"dataframe\">\n",
       "  <thead>\n",
       "    <tr style=\"text-align: right;\">\n",
       "      <th></th>\n",
       "      <th>object_type</th>\n",
       "      <th>nonchain</th>\n",
       "      <th>chain</th>\n",
       "      <th>all</th>\n",
       "    </tr>\n",
       "  </thead>\n",
       "  <tbody>\n",
       "    <tr>\n",
       "      <th>5</th>\n",
       "      <td>Restaurant</td>\n",
       "      <td>4961.0</td>\n",
       "      <td>2294.0</td>\n",
       "      <td>7255.0</td>\n",
       "    </tr>\n",
       "    <tr>\n",
       "      <th>3</th>\n",
       "      <td>Fast Food</td>\n",
       "      <td>461.0</td>\n",
       "      <td>605.0</td>\n",
       "      <td>1066.0</td>\n",
       "    </tr>\n",
       "    <tr>\n",
       "      <th>0</th>\n",
       "      <td>Bakery</td>\n",
       "      <td>0.0</td>\n",
       "      <td>283.0</td>\n",
       "      <td>283.0</td>\n",
       "    </tr>\n",
       "    <tr>\n",
       "      <th>2</th>\n",
       "      <td>Cafe</td>\n",
       "      <td>169.0</td>\n",
       "      <td>266.0</td>\n",
       "      <td>435.0</td>\n",
       "    </tr>\n",
       "    <tr>\n",
       "      <th>4</th>\n",
       "      <td>Pizza</td>\n",
       "      <td>166.0</td>\n",
       "      <td>154.0</td>\n",
       "      <td>320.0</td>\n",
       "    </tr>\n",
       "    <tr>\n",
       "      <th>1</th>\n",
       "      <td>Bar</td>\n",
       "      <td>215.0</td>\n",
       "      <td>77.0</td>\n",
       "      <td>292.0</td>\n",
       "    </tr>\n",
       "  </tbody>\n",
       "</table>\n",
       "</div>"
      ],
      "text/plain": [
       "  object_type  nonchain   chain     all\n",
       "5  Restaurant    4961.0  2294.0  7255.0\n",
       "3   Fast Food     461.0   605.0  1066.0\n",
       "0      Bakery       0.0   283.0   283.0\n",
       "2        Cafe     169.0   266.0   435.0\n",
       "4       Pizza     166.0   154.0   320.0\n",
       "1         Bar     215.0    77.0   292.0"
      ]
     },
     "execution_count": 24,
     "metadata": {},
     "output_type": "execute_result"
    }
   ],
   "source": [
    "rest_data_grtype['all']=rest_data_grtype['nonchain']+rest_data_grtype['chain']\n",
    "rest_data_grtype.sort_values(by='chain',ascending=False)"
   ]
  },
  {
   "cell_type": "markdown",
   "id": "cbabdc49",
   "metadata": {},
   "source": [
    "The most chain establishments is restaurants, like and most of the all of the establishments. But let's see which percent of every type is chain establishments."
   ]
  },
  {
   "cell_type": "code",
   "execution_count": 25,
   "id": "bc9e1369",
   "metadata": {},
   "outputs": [
    {
     "data": {
      "text/html": [
       "<div>\n",
       "<style scoped>\n",
       "    .dataframe tbody tr th:only-of-type {\n",
       "        vertical-align: middle;\n",
       "    }\n",
       "\n",
       "    .dataframe tbody tr th {\n",
       "        vertical-align: top;\n",
       "    }\n",
       "\n",
       "    .dataframe thead th {\n",
       "        text-align: right;\n",
       "    }\n",
       "</style>\n",
       "<table border=\"1\" class=\"dataframe\">\n",
       "  <thead>\n",
       "    <tr style=\"text-align: right;\">\n",
       "      <th></th>\n",
       "      <th>object_type</th>\n",
       "      <th>nonchain</th>\n",
       "      <th>chain</th>\n",
       "      <th>all</th>\n",
       "      <th>percent chain,%</th>\n",
       "    </tr>\n",
       "  </thead>\n",
       "  <tbody>\n",
       "    <tr>\n",
       "      <th>0</th>\n",
       "      <td>Bakery</td>\n",
       "      <td>0.0</td>\n",
       "      <td>283.0</td>\n",
       "      <td>283.0</td>\n",
       "      <td>100</td>\n",
       "    </tr>\n",
       "    <tr>\n",
       "      <th>2</th>\n",
       "      <td>Cafe</td>\n",
       "      <td>169.0</td>\n",
       "      <td>266.0</td>\n",
       "      <td>435.0</td>\n",
       "      <td>61</td>\n",
       "    </tr>\n",
       "    <tr>\n",
       "      <th>3</th>\n",
       "      <td>Fast Food</td>\n",
       "      <td>461.0</td>\n",
       "      <td>605.0</td>\n",
       "      <td>1066.0</td>\n",
       "      <td>57</td>\n",
       "    </tr>\n",
       "    <tr>\n",
       "      <th>4</th>\n",
       "      <td>Pizza</td>\n",
       "      <td>166.0</td>\n",
       "      <td>154.0</td>\n",
       "      <td>320.0</td>\n",
       "      <td>48</td>\n",
       "    </tr>\n",
       "    <tr>\n",
       "      <th>5</th>\n",
       "      <td>Restaurant</td>\n",
       "      <td>4961.0</td>\n",
       "      <td>2294.0</td>\n",
       "      <td>7255.0</td>\n",
       "      <td>32</td>\n",
       "    </tr>\n",
       "    <tr>\n",
       "      <th>1</th>\n",
       "      <td>Bar</td>\n",
       "      <td>215.0</td>\n",
       "      <td>77.0</td>\n",
       "      <td>292.0</td>\n",
       "      <td>26</td>\n",
       "    </tr>\n",
       "  </tbody>\n",
       "</table>\n",
       "</div>"
      ],
      "text/plain": [
       "  object_type  nonchain   chain     all  percent chain,%\n",
       "0      Bakery       0.0   283.0   283.0              100\n",
       "2        Cafe     169.0   266.0   435.0               61\n",
       "3   Fast Food     461.0   605.0  1066.0               57\n",
       "4       Pizza     166.0   154.0   320.0               48\n",
       "5  Restaurant    4961.0  2294.0  7255.0               32\n",
       "1         Bar     215.0    77.0   292.0               26"
      ]
     },
     "execution_count": 25,
     "metadata": {},
     "output_type": "execute_result"
    }
   ],
   "source": [
    "rest_data_grtype['percent chain,%']=((rest_data_grtype['chain']/rest_data_grtype['all'])*100).map(lambda x:int(\"{0:.0f}\".format(x)))\n",
    "rest_data_grtype.sort_values(by='percent chain,%',ascending=False)"
   ]
  },
  {
   "cell_type": "code",
   "execution_count": 26,
   "id": "5b37535f",
   "metadata": {},
   "outputs": [
    {
     "data": {
      "text/html": [
       "<div>\n",
       "<style scoped>\n",
       "    .dataframe tbody tr th:only-of-type {\n",
       "        vertical-align: middle;\n",
       "    }\n",
       "\n",
       "    .dataframe tbody tr th {\n",
       "        vertical-align: top;\n",
       "    }\n",
       "\n",
       "    .dataframe thead th {\n",
       "        text-align: right;\n",
       "    }\n",
       "</style>\n",
       "<table border=\"1\" class=\"dataframe\">\n",
       "  <thead>\n",
       "    <tr style=\"text-align: right;\">\n",
       "      <th></th>\n",
       "      <th>object_type</th>\n",
       "      <th>nonchain</th>\n",
       "      <th>chain</th>\n",
       "      <th>all</th>\n",
       "      <th>percent chain,%</th>\n",
       "      <th>percent nonchain,%</th>\n",
       "    </tr>\n",
       "  </thead>\n",
       "  <tbody>\n",
       "    <tr>\n",
       "      <th>0</th>\n",
       "      <td>Bakery</td>\n",
       "      <td>0.0</td>\n",
       "      <td>283.0</td>\n",
       "      <td>283.0</td>\n",
       "      <td>100</td>\n",
       "      <td>0</td>\n",
       "    </tr>\n",
       "    <tr>\n",
       "      <th>1</th>\n",
       "      <td>Bar</td>\n",
       "      <td>215.0</td>\n",
       "      <td>77.0</td>\n",
       "      <td>292.0</td>\n",
       "      <td>26</td>\n",
       "      <td>74</td>\n",
       "    </tr>\n",
       "    <tr>\n",
       "      <th>2</th>\n",
       "      <td>Cafe</td>\n",
       "      <td>169.0</td>\n",
       "      <td>266.0</td>\n",
       "      <td>435.0</td>\n",
       "      <td>61</td>\n",
       "      <td>39</td>\n",
       "    </tr>\n",
       "    <tr>\n",
       "      <th>3</th>\n",
       "      <td>Fast Food</td>\n",
       "      <td>461.0</td>\n",
       "      <td>605.0</td>\n",
       "      <td>1066.0</td>\n",
       "      <td>57</td>\n",
       "      <td>43</td>\n",
       "    </tr>\n",
       "    <tr>\n",
       "      <th>4</th>\n",
       "      <td>Pizza</td>\n",
       "      <td>166.0</td>\n",
       "      <td>154.0</td>\n",
       "      <td>320.0</td>\n",
       "      <td>48</td>\n",
       "      <td>52</td>\n",
       "    </tr>\n",
       "    <tr>\n",
       "      <th>5</th>\n",
       "      <td>Restaurant</td>\n",
       "      <td>4961.0</td>\n",
       "      <td>2294.0</td>\n",
       "      <td>7255.0</td>\n",
       "      <td>32</td>\n",
       "      <td>68</td>\n",
       "    </tr>\n",
       "  </tbody>\n",
       "</table>\n",
       "</div>"
      ],
      "text/plain": [
       "  object_type  nonchain   chain     all  percent chain,%  percent nonchain,%\n",
       "0      Bakery       0.0   283.0   283.0              100                   0\n",
       "1         Bar     215.0    77.0   292.0               26                  74\n",
       "2        Cafe     169.0   266.0   435.0               61                  39\n",
       "3   Fast Food     461.0   605.0  1066.0               57                  43\n",
       "4       Pizza     166.0   154.0   320.0               48                  52\n",
       "5  Restaurant    4961.0  2294.0  7255.0               32                  68"
      ]
     },
     "execution_count": 26,
     "metadata": {},
     "output_type": "execute_result"
    }
   ],
   "source": [
    "rest_data_grtype['percent nonchain,%']=((rest_data_grtype['nonchain']/rest_data_grtype['all'])*100).map(lambda x:int(\"{0:.0f}\".format(x)))\n",
    "rest_data_grtype.sort_values(by='percent chain,%',ascending=False)\n",
    "rest_data_grtype"
   ]
  },
  {
   "cell_type": "code",
   "execution_count": 27,
   "id": "0d9a8fed",
   "metadata": {},
   "outputs": [
    {
     "data": {
      "image/png": "[encoded data removed]",
      "text/plain": [
       "<Figure size 1152x576 with 1 Axes>"
      ]
     },
     "metadata": {
      "needs_background": "light"
     },
     "output_type": "display_data"
    }
   ],
   "source": [
    "rest_data_grtype[['object_type','percent chain,%','percent nonchain,%']].plot(kind='bar',figsize=(16, 8),x='object_type')\n",
    "plt.title('Graph of percent of chain and nonchain establishments')\n",
    "plt.show()"
   ]
  },
  {
   "cell_type": "markdown",
   "id": "5e494fa3",
   "metadata": {},
   "source": [
    "We see another situation: the highest percent have - bakery, it's all chain. And cafe, fast food and pizza have 50-60% chain establishments. And restaurants have only 32% chain establishments."
   ]
  },
  {
   "cell_type": "markdown",
   "id": "09f34884",
   "metadata": {},
   "source": [
    "### Let's know  what characterizes chains: many establishments with a small number of seats or a few establishments with a lot of seats."
   ]
  },
  {
   "cell_type": "code",
   "execution_count": 28,
   "id": "a8100c1e",
   "metadata": {},
   "outputs": [
    {
     "data": {
      "text/html": [
       "<div>\n",
       "<style scoped>\n",
       "    .dataframe tbody tr th:only-of-type {\n",
       "        vertical-align: middle;\n",
       "    }\n",
       "\n",
       "    .dataframe tbody tr th {\n",
       "        vertical-align: top;\n",
       "    }\n",
       "\n",
       "    .dataframe thead th {\n",
       "        text-align: right;\n",
       "    }\n",
       "</style>\n",
       "<table border=\"1\" class=\"dataframe\">\n",
       "  <thead>\n",
       "    <tr style=\"text-align: right;\">\n",
       "      <th></th>\n",
       "      <th>id</th>\n",
       "      <th>object_name</th>\n",
       "      <th>address</th>\n",
       "      <th>chain</th>\n",
       "      <th>object_type</th>\n",
       "      <th>number</th>\n",
       "    </tr>\n",
       "  </thead>\n",
       "  <tbody>\n",
       "    <tr>\n",
       "      <th>8</th>\n",
       "      <td>11794</td>\n",
       "      <td>abc donuts</td>\n",
       "      <td>3027 n san fernando rd unit 103</td>\n",
       "      <td>True</td>\n",
       "      <td>Fast Food</td>\n",
       "      <td>1</td>\n",
       "    </tr>\n",
       "    <tr>\n",
       "      <th>10</th>\n",
       "      <td>11796</td>\n",
       "      <td>el pollo loco</td>\n",
       "      <td>5319 w sunset blvd</td>\n",
       "      <td>True</td>\n",
       "      <td>Restaurant</td>\n",
       "      <td>38</td>\n",
       "    </tr>\n",
       "    <tr>\n",
       "      <th>11</th>\n",
       "      <td>11797</td>\n",
       "      <td>poong nyun bakery</td>\n",
       "      <td>928 s western ave ste 109</td>\n",
       "      <td>True</td>\n",
       "      <td>Bakery</td>\n",
       "      <td>17</td>\n",
       "    </tr>\n",
       "    <tr>\n",
       "      <th>12</th>\n",
       "      <td>11798</td>\n",
       "      <td>emc restaurant group llc</td>\n",
       "      <td>3500 w 6th st ste 101</td>\n",
       "      <td>True</td>\n",
       "      <td>Restaurant</td>\n",
       "      <td>133</td>\n",
       "    </tr>\n",
       "    <tr>\n",
       "      <th>14</th>\n",
       "      <td>11800</td>\n",
       "      <td>cuscatleca bakery</td>\n",
       "      <td>2501 w sunset blvd #a</td>\n",
       "      <td>True</td>\n",
       "      <td>Bakery</td>\n",
       "      <td>26</td>\n",
       "    </tr>\n",
       "    <tr>\n",
       "      <th>...</th>\n",
       "      <td>...</td>\n",
       "      <td>...</td>\n",
       "      <td>...</td>\n",
       "      <td>...</td>\n",
       "      <td>...</td>\n",
       "      <td>...</td>\n",
       "    </tr>\n",
       "    <tr>\n",
       "      <th>9629</th>\n",
       "      <td>21415</td>\n",
       "      <td>jucuapa bakery</td>\n",
       "      <td>2810 james wood blvd</td>\n",
       "      <td>True</td>\n",
       "      <td>Bakery</td>\n",
       "      <td>10</td>\n",
       "    </tr>\n",
       "    <tr>\n",
       "      <th>9636</th>\n",
       "      <td>21422</td>\n",
       "      <td>chipotle #3094</td>\n",
       "      <td>6719 la tijera blvd # a-b</td>\n",
       "      <td>True</td>\n",
       "      <td>Restaurant</td>\n",
       "      <td>47</td>\n",
       "    </tr>\n",
       "    <tr>\n",
       "      <th>9639</th>\n",
       "      <td>21425</td>\n",
       "      <td>mcdonald's</td>\n",
       "      <td>1800 s western ave</td>\n",
       "      <td>True</td>\n",
       "      <td>Fast Food</td>\n",
       "      <td>135</td>\n",
       "    </tr>\n",
       "    <tr>\n",
       "      <th>9648</th>\n",
       "      <td>21434</td>\n",
       "      <td>juicy wingz</td>\n",
       "      <td>6741 hollywood blvd</td>\n",
       "      <td>True</td>\n",
       "      <td>Fast Food</td>\n",
       "      <td>15</td>\n",
       "    </tr>\n",
       "    <tr>\n",
       "      <th>9650</th>\n",
       "      <td>21436</td>\n",
       "      <td>cafe sprouts</td>\n",
       "      <td>1300 s san pedro st ste 111</td>\n",
       "      <td>True</td>\n",
       "      <td>Restaurant</td>\n",
       "      <td>19</td>\n",
       "    </tr>\n",
       "  </tbody>\n",
       "</table>\n",
       "<p>3679 rows × 6 columns</p>\n",
       "</div>"
      ],
      "text/plain": [
       "         id               object_name                          address  chain  \\\n",
       "8     11794                abc donuts  3027 n san fernando rd unit 103   True   \n",
       "10    11796             el pollo loco               5319 w sunset blvd   True   \n",
       "11    11797         poong nyun bakery        928 s western ave ste 109   True   \n",
       "12    11798  emc restaurant group llc            3500 w 6th st ste 101   True   \n",
       "14    11800         cuscatleca bakery            2501 w sunset blvd #a   True   \n",
       "...     ...                       ...                              ...    ...   \n",
       "9629  21415            jucuapa bakery             2810 james wood blvd   True   \n",
       "9636  21422            chipotle #3094        6719 la tijera blvd # a-b   True   \n",
       "9639  21425                mcdonald's               1800 s western ave   True   \n",
       "9648  21434               juicy wingz              6741 hollywood blvd   True   \n",
       "9650  21436              cafe sprouts      1300 s san pedro st ste 111   True   \n",
       "\n",
       "     object_type  number  \n",
       "8      Fast Food       1  \n",
       "10    Restaurant      38  \n",
       "11        Bakery      17  \n",
       "12    Restaurant     133  \n",
       "14        Bakery      26  \n",
       "...          ...     ...  \n",
       "9629      Bakery      10  \n",
       "9636  Restaurant      47  \n",
       "9639   Fast Food     135  \n",
       "9648   Fast Food      15  \n",
       "9650  Restaurant      19  \n",
       "\n",
       "[3679 rows x 6 columns]"
      ]
     },
     "execution_count": 28,
     "metadata": {},
     "output_type": "execute_result"
    }
   ],
   "source": [
    "rest_data_chain=rest_data[rest_data['chain']==True]\n",
    "rest_data_chain"
   ]
  },
  {
   "cell_type": "code",
   "execution_count": 29,
   "id": "54a9cd8b",
   "metadata": {},
   "outputs": [
    {
     "data": {
      "text/plain": [
       "count    3679.000000\n",
       "mean       39.675455\n",
       "std        43.426312\n",
       "min         1.000000\n",
       "25%        13.000000\n",
       "50%        25.000000\n",
       "75%        44.000000\n",
       "max       229.000000\n",
       "Name: number, dtype: float64"
      ]
     },
     "execution_count": 29,
     "metadata": {},
     "output_type": "execute_result"
    }
   ],
   "source": [
    "rest_data_chain['number'].describe()"
   ]
  },
  {
   "cell_type": "code",
   "execution_count": 30,
   "id": "aa28415e",
   "metadata": {
    "scrolled": true
   },
   "outputs": [
    {
     "data": {
      "image/png": "[encoded data removed]",
      "text/plain": [
       "<Figure size 432x288 with 1 Axes>"
      ]
     },
     "metadata": {
      "needs_background": "light"
     },
     "output_type": "display_data"
    }
   ],
   "source": [
    "plt.boxplot(rest_data_chain['number'])\n",
    "plt.title('Graph of number of seats for chains')\n",
    "plt.show()"
   ]
  },
  {
   "cell_type": "markdown",
   "id": "9f081885",
   "metadata": {},
   "source": [
    "On graph we see that most of chains have a small number of seats, to 50. And of course they have many establishments, because it is chains."
   ]
  },
  {
   "cell_type": "code",
   "execution_count": 31,
   "id": "565bfdc5",
   "metadata": {},
   "outputs": [
    {
     "data": {
      "text/html": [
       "<div>\n",
       "<style scoped>\n",
       "    .dataframe tbody tr th:only-of-type {\n",
       "        vertical-align: middle;\n",
       "    }\n",
       "\n",
       "    .dataframe tbody tr th {\n",
       "        vertical-align: top;\n",
       "    }\n",
       "\n",
       "    .dataframe thead th {\n",
       "        text-align: right;\n",
       "    }\n",
       "</style>\n",
       "<table border=\"1\" class=\"dataframe\">\n",
       "  <thead>\n",
       "    <tr style=\"text-align: right;\">\n",
       "      <th></th>\n",
       "      <th>object_name</th>\n",
       "      <th>id</th>\n",
       "      <th>number</th>\n",
       "    </tr>\n",
       "  </thead>\n",
       "  <tbody>\n",
       "    <tr>\n",
       "      <th>0</th>\n",
       "      <td>#1 chinese fast food</td>\n",
       "      <td>1</td>\n",
       "      <td>6.0</td>\n",
       "    </tr>\n",
       "    <tr>\n",
       "      <th>1</th>\n",
       "      <td>1810 restaurant</td>\n",
       "      <td>1</td>\n",
       "      <td>45.0</td>\n",
       "    </tr>\n",
       "    <tr>\n",
       "      <th>2</th>\n",
       "      <td>333</td>\n",
       "      <td>1</td>\n",
       "      <td>180.0</td>\n",
       "    </tr>\n",
       "    <tr>\n",
       "      <th>3</th>\n",
       "      <td>3rd st market &amp; deli</td>\n",
       "      <td>1</td>\n",
       "      <td>7.0</td>\n",
       "    </tr>\n",
       "    <tr>\n",
       "      <th>4</th>\n",
       "      <td>4 caminos restaurant</td>\n",
       "      <td>1</td>\n",
       "      <td>18.0</td>\n",
       "    </tr>\n",
       "    <tr>\n",
       "      <th>...</th>\n",
       "      <td>...</td>\n",
       "      <td>...</td>\n",
       "      <td>...</td>\n",
       "    </tr>\n",
       "    <tr>\n",
       "      <th>2731</th>\n",
       "      <td>zankou chicken</td>\n",
       "      <td>2</td>\n",
       "      <td>53.5</td>\n",
       "    </tr>\n",
       "    <tr>\n",
       "      <th>2732</th>\n",
       "      <td>zen bakery (retail)</td>\n",
       "      <td>1</td>\n",
       "      <td>19.0</td>\n",
       "    </tr>\n",
       "    <tr>\n",
       "      <th>2733</th>\n",
       "      <td>zermenos restaurant inc</td>\n",
       "      <td>1</td>\n",
       "      <td>10.0</td>\n",
       "    </tr>\n",
       "    <tr>\n",
       "      <th>2734</th>\n",
       "      <td>zion market deli &amp; island</td>\n",
       "      <td>1</td>\n",
       "      <td>16.0</td>\n",
       "    </tr>\n",
       "    <tr>\n",
       "      <th>2735</th>\n",
       "      <td>zip sushi &amp; izakaya</td>\n",
       "      <td>1</td>\n",
       "      <td>98.0</td>\n",
       "    </tr>\n",
       "  </tbody>\n",
       "</table>\n",
       "<p>2736 rows × 3 columns</p>\n",
       "</div>"
      ],
      "text/plain": [
       "                    object_name  id  number\n",
       "0          #1 chinese fast food   1     6.0\n",
       "1               1810 restaurant   1    45.0\n",
       "2                           333   1   180.0\n",
       "3          3rd st market & deli   1     7.0\n",
       "4          4 caminos restaurant   1    18.0\n",
       "...                         ...  ..     ...\n",
       "2731             zankou chicken   2    53.5\n",
       "2732        zen bakery (retail)   1    19.0\n",
       "2733    zermenos restaurant inc   1    10.0\n",
       "2734  zion market deli & island   1    16.0\n",
       "2735        zip sushi & izakaya   1    98.0\n",
       "\n",
       "[2736 rows x 3 columns]"
      ]
     },
     "execution_count": 31,
     "metadata": {},
     "output_type": "execute_result"
    }
   ],
   "source": [
    "A=rest_data_chain.pivot_table(index='object_name',values=['id','number'],aggfunc={'id':'count','number':'mean'}).reset_index()\n",
    "A"
   ]
  },
  {
   "cell_type": "code",
   "execution_count": 32,
   "id": "a2c481b7",
   "metadata": {},
   "outputs": [
    {
     "data": {
      "image/png": "[encoded data removed]",
      "text/plain": [
       "<Figure size 432x288 with 1 Axes>"
      ]
     },
     "metadata": {
      "needs_background": "light"
     },
     "output_type": "display_data"
    }
   ],
   "source": [
    "plt.scatter(A['id'],A['number'])\n",
    "plt.title('Graph of dependence of number of seats and amount of chains establishments')\n",
    "plt.show()"
   ]
  },
  {
   "cell_type": "markdown",
   "id": "0fd36f18",
   "metadata": {},
   "source": [
    "The establishments which have up to 5 eating points in the chain - to 200 seats. Establishments with more than 5 eating points generally have up to 50 seats."
   ]
  },
  {
   "cell_type": "markdown",
   "id": "41ea1dc2",
   "metadata": {},
   "source": [
    "### Let's count number of seats for  types of establishments."
   ]
  },
  {
   "cell_type": "markdown",
   "id": "858c163e",
   "metadata": {},
   "source": [
    "The average number of seats for each type of establishments"
   ]
  },
  {
   "cell_type": "code",
   "execution_count": 33,
   "id": "e60d4801",
   "metadata": {},
   "outputs": [
    {
     "data": {
      "text/html": [
       "<div>\n",
       "<style scoped>\n",
       "    .dataframe tbody tr th:only-of-type {\n",
       "        vertical-align: middle;\n",
       "    }\n",
       "\n",
       "    .dataframe tbody tr th {\n",
       "        vertical-align: top;\n",
       "    }\n",
       "\n",
       "    .dataframe thead th {\n",
       "        text-align: right;\n",
       "    }\n",
       "</style>\n",
       "<table border=\"1\" class=\"dataframe\">\n",
       "  <thead>\n",
       "    <tr style=\"text-align: right;\">\n",
       "      <th></th>\n",
       "      <th>object_type</th>\n",
       "      <th>number</th>\n",
       "    </tr>\n",
       "  </thead>\n",
       "  <tbody>\n",
       "    <tr>\n",
       "      <th>5</th>\n",
       "      <td>Restaurant</td>\n",
       "      <td>48.0</td>\n",
       "    </tr>\n",
       "    <tr>\n",
       "      <th>1</th>\n",
       "      <td>Bar</td>\n",
       "      <td>45.0</td>\n",
       "    </tr>\n",
       "    <tr>\n",
       "      <th>3</th>\n",
       "      <td>Fast Food</td>\n",
       "      <td>32.0</td>\n",
       "    </tr>\n",
       "    <tr>\n",
       "      <th>4</th>\n",
       "      <td>Pizza</td>\n",
       "      <td>28.0</td>\n",
       "    </tr>\n",
       "    <tr>\n",
       "      <th>2</th>\n",
       "      <td>Cafe</td>\n",
       "      <td>25.0</td>\n",
       "    </tr>\n",
       "    <tr>\n",
       "      <th>0</th>\n",
       "      <td>Bakery</td>\n",
       "      <td>22.0</td>\n",
       "    </tr>\n",
       "  </tbody>\n",
       "</table>\n",
       "</div>"
      ],
      "text/plain": [
       "  object_type  number\n",
       "5  Restaurant    48.0\n",
       "1         Bar    45.0\n",
       "3   Fast Food    32.0\n",
       "4       Pizza    28.0\n",
       "2        Cafe    25.0\n",
       "0      Bakery    22.0"
      ]
     },
     "execution_count": 33,
     "metadata": {},
     "output_type": "execute_result"
    }
   ],
   "source": [
    "rest_data.groupby('object_type')['number'].mean().round().reset_index().sort_values(by='number',ascending=False)"
   ]
  },
  {
   "cell_type": "markdown",
   "id": "62f9a58b",
   "metadata": {},
   "source": [
    "The number of seats does not differ much, however, the largest average number of seats - 48, have type - restaurant."
   ]
  },
  {
   "cell_type": "code",
   "execution_count": 34,
   "id": "a3607f9c",
   "metadata": {
    "scrolled": true
   },
   "outputs": [
    {
     "data": {
      "image/png": "[encoded data removed]",
      "text/plain": [
       "<Figure size 432x288 with 1 Axes>"
      ]
     },
     "metadata": {
      "needs_background": "light"
     },
     "output_type": "display_data"
    }
   ],
   "source": [
    "ax=sns.boxplot(x='object_type',y='number',data=rest_data, showfliers=False, color='yellow')"
   ]
  },
  {
   "cell_type": "markdown",
   "id": "2ad4e7a8",
   "metadata": {},
   "source": [
    "Based on the graph, we can also conclude that the number of places in chain establishments (bakery, pizza, cafes) is less than in non-chain establishments (bars and restaurants)."
   ]
  },
  {
   "cell_type": "markdown",
   "id": "339cec32",
   "metadata": {},
   "source": [
    "### Let's analysis address of establishments"
   ]
  },
  {
   "cell_type": "markdown",
   "id": "0e100532",
   "metadata": {},
   "source": [
    "#### Let's put the data on street names from the address column in a separate column."
   ]
  },
  {
   "cell_type": "code",
   "execution_count": 35,
   "id": "3e76eea0",
   "metadata": {},
   "outputs": [],
   "source": [
    "def cleaning_street(raw):\n",
    "    raw_address=usaddress.parse(raw)\n",
    "    dict_address={}\n",
    "    for i in raw_address:\n",
    "        dict_address.update({i[1]:i[0]})\n",
    "    #this line below checks for normal case with street and number    \n",
    "    if 'StreetName' in dict_address.keys() and 'AddressNumber' in dict_address.keys():\n",
    "        clean_adress=str(dict_address['StreetName'])\n",
    "        return clean_adress"
   ]
  },
  {
   "cell_type": "code",
   "execution_count": 36,
   "id": "3f7d6529",
   "metadata": {},
   "outputs": [],
   "source": [
    "rest_data['clean_street']=rest_data.address.apply(cleaning_street)"
   ]
  },
  {
   "cell_type": "code",
   "execution_count": 37,
   "id": "851f0c2a",
   "metadata": {},
   "outputs": [
    {
     "data": {
      "text/html": [
       "<div>\n",
       "<style scoped>\n",
       "    .dataframe tbody tr th:only-of-type {\n",
       "        vertical-align: middle;\n",
       "    }\n",
       "\n",
       "    .dataframe tbody tr th {\n",
       "        vertical-align: top;\n",
       "    }\n",
       "\n",
       "    .dataframe thead th {\n",
       "        text-align: right;\n",
       "    }\n",
       "</style>\n",
       "<table border=\"1\" class=\"dataframe\">\n",
       "  <thead>\n",
       "    <tr style=\"text-align: right;\">\n",
       "      <th></th>\n",
       "      <th>id</th>\n",
       "      <th>object_name</th>\n",
       "      <th>address</th>\n",
       "      <th>chain</th>\n",
       "      <th>object_type</th>\n",
       "      <th>number</th>\n",
       "      <th>clean_street</th>\n",
       "    </tr>\n",
       "  </thead>\n",
       "  <tbody>\n",
       "    <tr>\n",
       "      <th>0</th>\n",
       "      <td>11786</td>\n",
       "      <td>habitat coffee shop</td>\n",
       "      <td>3708 n eagle rock blvd</td>\n",
       "      <td>False</td>\n",
       "      <td>Cafe</td>\n",
       "      <td>26</td>\n",
       "      <td>rock</td>\n",
       "    </tr>\n",
       "    <tr>\n",
       "      <th>1</th>\n",
       "      <td>11787</td>\n",
       "      <td>reilly's</td>\n",
       "      <td>100 world way # 120</td>\n",
       "      <td>False</td>\n",
       "      <td>Restaurant</td>\n",
       "      <td>9</td>\n",
       "      <td>world</td>\n",
       "    </tr>\n",
       "    <tr>\n",
       "      <th>2</th>\n",
       "      <td>11788</td>\n",
       "      <td>street churros</td>\n",
       "      <td>6801 hollywood blvd # 253</td>\n",
       "      <td>False</td>\n",
       "      <td>Fast Food</td>\n",
       "      <td>20</td>\n",
       "      <td>hollywood</td>\n",
       "    </tr>\n",
       "    <tr>\n",
       "      <th>3</th>\n",
       "      <td>11789</td>\n",
       "      <td>triniti echo park</td>\n",
       "      <td>1814 w sunset blvd</td>\n",
       "      <td>False</td>\n",
       "      <td>Restaurant</td>\n",
       "      <td>22</td>\n",
       "      <td>sunset</td>\n",
       "    </tr>\n",
       "    <tr>\n",
       "      <th>4</th>\n",
       "      <td>11790</td>\n",
       "      <td>pollen</td>\n",
       "      <td>2100 echo park ave</td>\n",
       "      <td>False</td>\n",
       "      <td>Restaurant</td>\n",
       "      <td>20</td>\n",
       "      <td>park</td>\n",
       "    </tr>\n",
       "    <tr>\n",
       "      <th>...</th>\n",
       "      <td>...</td>\n",
       "      <td>...</td>\n",
       "      <td>...</td>\n",
       "      <td>...</td>\n",
       "      <td>...</td>\n",
       "      <td>...</td>\n",
       "      <td>...</td>\n",
       "    </tr>\n",
       "    <tr>\n",
       "      <th>9646</th>\n",
       "      <td>21432</td>\n",
       "      <td>hall of justice</td>\n",
       "      <td>217 w temple ave</td>\n",
       "      <td>False</td>\n",
       "      <td>Restaurant</td>\n",
       "      <td>122</td>\n",
       "      <td>temple</td>\n",
       "    </tr>\n",
       "    <tr>\n",
       "      <th>9647</th>\n",
       "      <td>21433</td>\n",
       "      <td>fin-melrose</td>\n",
       "      <td>5750 melrose ave</td>\n",
       "      <td>False</td>\n",
       "      <td>Restaurant</td>\n",
       "      <td>93</td>\n",
       "      <td>melrose</td>\n",
       "    </tr>\n",
       "    <tr>\n",
       "      <th>9648</th>\n",
       "      <td>21434</td>\n",
       "      <td>juicy wingz</td>\n",
       "      <td>6741 hollywood blvd</td>\n",
       "      <td>True</td>\n",
       "      <td>Fast Food</td>\n",
       "      <td>15</td>\n",
       "      <td>hollywood</td>\n",
       "    </tr>\n",
       "    <tr>\n",
       "      <th>9649</th>\n",
       "      <td>21435</td>\n",
       "      <td>medidate coffee</td>\n",
       "      <td>548 s spring st ste 100</td>\n",
       "      <td>False</td>\n",
       "      <td>Cafe</td>\n",
       "      <td>6</td>\n",
       "      <td>spring</td>\n",
       "    </tr>\n",
       "    <tr>\n",
       "      <th>9650</th>\n",
       "      <td>21436</td>\n",
       "      <td>cafe sprouts</td>\n",
       "      <td>1300 s san pedro st ste 111</td>\n",
       "      <td>True</td>\n",
       "      <td>Restaurant</td>\n",
       "      <td>19</td>\n",
       "      <td>pedro</td>\n",
       "    </tr>\n",
       "  </tbody>\n",
       "</table>\n",
       "<p>9651 rows × 7 columns</p>\n",
       "</div>"
      ],
      "text/plain": [
       "         id          object_name                      address  chain  \\\n",
       "0     11786  habitat coffee shop       3708 n eagle rock blvd  False   \n",
       "1     11787             reilly's          100 world way # 120  False   \n",
       "2     11788       street churros    6801 hollywood blvd # 253  False   \n",
       "3     11789    triniti echo park           1814 w sunset blvd  False   \n",
       "4     11790               pollen           2100 echo park ave  False   \n",
       "...     ...                  ...                          ...    ...   \n",
       "9646  21432      hall of justice             217 w temple ave  False   \n",
       "9647  21433          fin-melrose             5750 melrose ave  False   \n",
       "9648  21434          juicy wingz          6741 hollywood blvd   True   \n",
       "9649  21435      medidate coffee      548 s spring st ste 100  False   \n",
       "9650  21436         cafe sprouts  1300 s san pedro st ste 111   True   \n",
       "\n",
       "     object_type  number clean_street  \n",
       "0           Cafe      26         rock  \n",
       "1     Restaurant       9        world  \n",
       "2      Fast Food      20    hollywood  \n",
       "3     Restaurant      22       sunset  \n",
       "4     Restaurant      20         park  \n",
       "...          ...     ...          ...  \n",
       "9646  Restaurant     122       temple  \n",
       "9647  Restaurant      93      melrose  \n",
       "9648   Fast Food      15    hollywood  \n",
       "9649        Cafe       6       spring  \n",
       "9650  Restaurant      19        pedro  \n",
       "\n",
       "[9651 rows x 7 columns]"
      ]
     },
     "execution_count": 37,
     "metadata": {},
     "output_type": "execute_result"
    }
   ],
   "source": [
    "rest_data"
   ]
  },
  {
   "cell_type": "markdown",
   "id": "e938548f",
   "metadata": {},
   "source": [
    "#### Let's find the top ten streets by number of establishments."
   ]
  },
  {
   "cell_type": "code",
   "execution_count": 38,
   "id": "a8279b26",
   "metadata": {},
   "outputs": [],
   "source": [
    "rest_data_grstreet=rest_data.groupby('clean_street')['object_name'].count().reset_index().sort_values(by='object_name',ascending=False)\n",
    "rest_data_grstreet.columns=['clean_street','amount']"
   ]
  },
  {
   "cell_type": "code",
   "execution_count": 39,
   "id": "cfd9caa5",
   "metadata": {
    "scrolled": true
   },
   "outputs": [
    {
     "data": {
      "text/html": [
       "<div>\n",
       "<style scoped>\n",
       "    .dataframe tbody tr th:only-of-type {\n",
       "        vertical-align: middle;\n",
       "    }\n",
       "\n",
       "    .dataframe tbody tr th {\n",
       "        vertical-align: top;\n",
       "    }\n",
       "\n",
       "    .dataframe thead th {\n",
       "        text-align: right;\n",
       "    }\n",
       "</style>\n",
       "<table border=\"1\" class=\"dataframe\">\n",
       "  <thead>\n",
       "    <tr style=\"text-align: right;\">\n",
       "      <th></th>\n",
       "      <th>clean_street</th>\n",
       "      <th>amount</th>\n",
       "    </tr>\n",
       "  </thead>\n",
       "  <tbody>\n",
       "    <tr>\n",
       "      <th>386</th>\n",
       "      <td>sunset</td>\n",
       "      <td>405</td>\n",
       "    </tr>\n",
       "    <tr>\n",
       "      <th>437</th>\n",
       "      <td>wilshire</td>\n",
       "      <td>398</td>\n",
       "    </tr>\n",
       "    <tr>\n",
       "      <th>334</th>\n",
       "      <td>pico</td>\n",
       "      <td>371</td>\n",
       "    </tr>\n",
       "    <tr>\n",
       "      <th>429</th>\n",
       "      <td>western</td>\n",
       "      <td>369</td>\n",
       "    </tr>\n",
       "    <tr>\n",
       "      <th>174</th>\n",
       "      <td>figueroa</td>\n",
       "      <td>334</td>\n",
       "    </tr>\n",
       "    <tr>\n",
       "      <th>...</th>\n",
       "      <td>...</td>\n",
       "      <td>...</td>\n",
       "    </tr>\n",
       "    <tr>\n",
       "      <th>228</th>\n",
       "      <td>idell</td>\n",
       "      <td>1</td>\n",
       "    </tr>\n",
       "    <tr>\n",
       "      <th>232</th>\n",
       "      <td>inglewood</td>\n",
       "      <td>1</td>\n",
       "    </tr>\n",
       "    <tr>\n",
       "      <th>235</th>\n",
       "      <td>japanese</td>\n",
       "      <td>1</td>\n",
       "    </tr>\n",
       "    <tr>\n",
       "      <th>236</th>\n",
       "      <td>jarvis</td>\n",
       "      <td>1</td>\n",
       "    </tr>\n",
       "    <tr>\n",
       "      <th>450</th>\n",
       "      <td>zoo</td>\n",
       "      <td>1</td>\n",
       "    </tr>\n",
       "  </tbody>\n",
       "</table>\n",
       "<p>451 rows × 2 columns</p>\n",
       "</div>"
      ],
      "text/plain": [
       "    clean_street  amount\n",
       "386       sunset     405\n",
       "437     wilshire     398\n",
       "334         pico     371\n",
       "429      western     369\n",
       "174     figueroa     334\n",
       "..           ...     ...\n",
       "228        idell       1\n",
       "232    inglewood       1\n",
       "235     japanese       1\n",
       "236       jarvis       1\n",
       "450          zoo       1\n",
       "\n",
       "[451 rows x 2 columns]"
      ]
     },
     "execution_count": 39,
     "metadata": {},
     "output_type": "execute_result"
    }
   ],
   "source": [
    "rest_data_grstreet"
   ]
  },
  {
   "cell_type": "code",
   "execution_count": 40,
   "id": "629e771a",
   "metadata": {
    "scrolled": false
   },
   "outputs": [
    {
     "data": {
      "image/png": "[encoded data removed]",
      "text/plain": [
       "<Figure size 432x288 with 1 Axes>"
      ]
     },
     "metadata": {
      "needs_background": "light"
     },
     "output_type": "display_data"
    }
   ],
   "source": [
    "plt.bar(rest_data_grstreet.head(10)['clean_street'], rest_data_grstreet.head(10)['amount'])\n",
    "plt.title('Graph of the top ten streets by number of establishments')\n",
    "plt.xticks(rotation=90)\n",
    "plt.show()"
   ]
  },
  {
   "cell_type": "code",
   "execution_count": 41,
   "id": "f2e56b01",
   "metadata": {},
   "outputs": [
    {
     "name": "stdout",
     "output_type": "stream",
     "text": [
      "The number of streets that have one restaurant - 178\n"
     ]
    }
   ],
   "source": [
    "print('The number of streets that have one restaurant -',rest_data_grstreet[rest_data_grstreet['amount']==1]['clean_street'].count())"
   ]
  },
  {
   "cell_type": "markdown",
   "id": "d4ec0bd9",
   "metadata": {},
   "source": [
    "#### For streets with a lot of restaurants, let's look at the distribution of the number of seats."
   ]
  },
  {
   "cell_type": "code",
   "execution_count": 42,
   "id": "1d977e85",
   "metadata": {},
   "outputs": [],
   "source": [
    "rest_data_top=rest_data[rest_data['clean_street'].isin(rest_data_grstreet.head(10)['clean_street'])]"
   ]
  },
  {
   "cell_type": "code",
   "execution_count": 43,
   "id": "dcdbf21f",
   "metadata": {
    "scrolled": true
   },
   "outputs": [
    {
     "data": {
      "text/html": [
       "<div>\n",
       "<style scoped>\n",
       "    .dataframe tbody tr th:only-of-type {\n",
       "        vertical-align: middle;\n",
       "    }\n",
       "\n",
       "    .dataframe tbody tr th {\n",
       "        vertical-align: top;\n",
       "    }\n",
       "\n",
       "    .dataframe thead th {\n",
       "        text-align: right;\n",
       "    }\n",
       "</style>\n",
       "<table border=\"1\" class=\"dataframe\">\n",
       "  <thead>\n",
       "    <tr style=\"text-align: right;\">\n",
       "      <th></th>\n",
       "      <th>clean_street</th>\n",
       "      <th>number</th>\n",
       "    </tr>\n",
       "  </thead>\n",
       "  <tbody>\n",
       "    <tr>\n",
       "      <th>7885</th>\n",
       "      <td>3rd</td>\n",
       "      <td>1</td>\n",
       "    </tr>\n",
       "    <tr>\n",
       "      <th>5126</th>\n",
       "      <td>3rd</td>\n",
       "      <td>17</td>\n",
       "    </tr>\n",
       "    <tr>\n",
       "      <th>8068</th>\n",
       "      <td>3rd</td>\n",
       "      <td>43</td>\n",
       "    </tr>\n",
       "    <tr>\n",
       "      <th>8064</th>\n",
       "      <td>3rd</td>\n",
       "      <td>36</td>\n",
       "    </tr>\n",
       "    <tr>\n",
       "      <th>8030</th>\n",
       "      <td>3rd</td>\n",
       "      <td>134</td>\n",
       "    </tr>\n",
       "    <tr>\n",
       "      <th>...</th>\n",
       "      <td>...</td>\n",
       "      <td>...</td>\n",
       "    </tr>\n",
       "    <tr>\n",
       "      <th>3342</th>\n",
       "      <td>wilshire</td>\n",
       "      <td>64</td>\n",
       "    </tr>\n",
       "    <tr>\n",
       "      <th>7065</th>\n",
       "      <td>wilshire</td>\n",
       "      <td>35</td>\n",
       "    </tr>\n",
       "    <tr>\n",
       "      <th>3347</th>\n",
       "      <td>wilshire</td>\n",
       "      <td>43</td>\n",
       "    </tr>\n",
       "    <tr>\n",
       "      <th>1924</th>\n",
       "      <td>wilshire</td>\n",
       "      <td>96</td>\n",
       "    </tr>\n",
       "    <tr>\n",
       "      <th>1744</th>\n",
       "      <td>wilshire</td>\n",
       "      <td>3</td>\n",
       "    </tr>\n",
       "  </tbody>\n",
       "</table>\n",
       "<p>3255 rows × 2 columns</p>\n",
       "</div>"
      ],
      "text/plain": [
       "     clean_street  number\n",
       "7885          3rd       1\n",
       "5126          3rd      17\n",
       "8068          3rd      43\n",
       "8064          3rd      36\n",
       "8030          3rd     134\n",
       "...           ...     ...\n",
       "3342     wilshire      64\n",
       "7065     wilshire      35\n",
       "3347     wilshire      43\n",
       "1924     wilshire      96\n",
       "1744     wilshire       3\n",
       "\n",
       "[3255 rows x 2 columns]"
      ]
     },
     "execution_count": 43,
     "metadata": {},
     "output_type": "execute_result"
    }
   ],
   "source": [
    "rest_data_top[['clean_street','number']].sort_values(by='clean_street')"
   ]
  },
  {
   "cell_type": "code",
   "execution_count": 44,
   "id": "c980e4e6",
   "metadata": {
    "scrolled": true
   },
   "outputs": [
    {
     "data": {
      "image/png": "[encoded data removed]",
      "text/plain": [
       "<Figure size 432x288 with 1 Axes>"
      ]
     },
     "metadata": {
      "needs_background": "light"
     },
     "output_type": "display_data"
    }
   ],
   "source": [
    "ax=sns.boxplot(x='clean_street',y='number',data=rest_data_top, showfliers=False, color='yellow')\n",
    "plt.xticks(rotation=90)\n",
    "plt.show()"
   ]
  },
  {
   "cell_type": "markdown",
   "id": "5cb705d5",
   "metadata": {},
   "source": [
    "From the graph, we can see that the average number of seats in the establishments on the streets \"wilshire\", \"hollywood\" and \"sunset\" is more than on others. Moreover, on the streets of \"wilshire\" and \"Hollywood\" there are establishments with a maximum number of seats - about 75.\n",
    "The minimum number of seats on average on the street \"monica\" and \"figueroa\" - about 25."
   ]
  },
  {
   "cell_type": "markdown",
   "id": "0c46fa3c",
   "metadata": {},
   "source": [
    "## Сonclusion: \n",
    "Based on the task, we need to choose a street for the future cafe and the type of establishment that will be as profitable as possible if the cafe is operated by robots.<br> \n",
    "Obviously, for quick and error-free service, the cafe should be small, with a small number of seats. According to our **\"graphs for the distribution of seats by type of establishments\" from paragraphs 4.4 and 4.5**, this can be some kind of chain establishments: a **bakery,cafe, pizzeria or fast food.**<br> \n",
    "When choosing the street on which the establishment should be located, we will use **\"Graph of the top ten streets by number of restaurants\" from paragraph 4.6.2.** Most of the establishments are located on these streets, from which we can conclude that these streets are highly trafficked. Therefore, you should open a cafe on one of them.<br> \n",
    "To select a specific street, let's refer to **the chart on the distribution of seats in establishments on these streets from paragraph 4.6.3**. On the one hand, **Monika Street** can fit us, since it is there that small cafes are located, which can accommodate **about 25 seats.** This is exactly the type of establishment that we want to open.<br> \n",
    "On the other hand, there may be more competition among establishments of this type on this street. And we should look at **Hollywood Street**, where most of the establishments - large and our small cafe will be popular due to the lack of this type of establishments on this street."
   ]
  },
  {
   "cell_type": "markdown",
   "id": "4cb692a9",
   "metadata": {},
   "source": [
    "Presentation: <https://drive.google.com/file/d/1E06mukhUyVme4U4Dz37I0o1g8x716Ftf/view?usp=share_link>"
   ]
  }
 ],
 "metadata": {
  "kernelspec": {
   "display_name": "Python 3 (ipykernel)",
   "language": "python",
   "name": "python3"
  },
  "language_info": {
   "codemirror_mode": {
    "name": "ipython",
    "version": 3
   },
   "file_extension": ".py",
   "mimetype": "text/x-python",
   "name": "python",
   "nbconvert_exporter": "python",
   "pygments_lexer": "ipython3",
   "version": "3.9.5"
  },
  "toc": {
   "base_numbering": 1,
   "nav_menu": {},
   "number_sections": true,
   "sideBar": true,
   "skip_h1_title": true,
   "title_cell": "Table of Contents",
   "title_sidebar": "Contents",
   "toc_cell": false,
   "toc_position": {},
   "toc_section_display": true,
   "toc_window_display": false
  }
 },
 "nbformat": 4,
 "nbformat_minor": 5
}
