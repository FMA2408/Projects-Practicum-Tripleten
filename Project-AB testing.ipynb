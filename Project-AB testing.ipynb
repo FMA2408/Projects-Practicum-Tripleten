{
 "cells": [
  {
   "cell_type": "markdown",
   "id": "f911a387",
   "metadata": {},
   "source": [
    "# Project about making business decisions based on data"
   ]
  },
  {
   "cell_type": "markdown",
   "id": "e476679f",
   "metadata": {},
   "source": [
    "## Project description"
   ]
  },
  {
   "cell_type": "markdown",
   "id": "3205e713",
   "metadata": {},
   "source": [
    "We are an analyst at a big online store. Together with the marketing department, we've compiled a list of hypotheses that may help boost revenue.\n",
    "We need to prioritize these hypotheses, launch an A/B test, and analyze the results."
   ]
  },
  {
   "cell_type": "markdown",
   "id": "2ebe04a9",
   "metadata": {},
   "source": [
    "## Description of the data"
   ]
  },
  {
   "cell_type": "markdown",
   "id": "291808e7",
   "metadata": {},
   "source": [
    "**Data used in the first part of the project**\n",
    "\n",
    "/datasets/hypotheses_us.csv\n",
    "- *Hypotheses* — brief descriptions of the hypotheses\n",
    "- *Reach* — user reach, on a scale of one to ten\n",
    "- *Impact* — impact on users, on a scale of one to ten\n",
    "- *Confidence* — confidence in the hypothesis, on a scale of one to ten\n",
    "- *Effort* — the resources required to test a hypothesis, on a scale of one to ten. The higher the Effort value, the more resource-intensive the test.\n",
    "\n"
   ]
  },
  {
   "cell_type": "markdown",
   "id": "9780f3b3",
   "metadata": {},
   "source": [
    "**Data used in the second part of the project**\n",
    "\n",
    "/datasets/orders_us.csv\n",
    "- *transactionId* — order identifier\n",
    "- *visitorId* — identifier of the user who placed the order\n",
    "- *date* — of the order\n",
    "- *revenue* — from the order\n",
    "- *group* — the A/B test group that the user belongs to\n",
    "\n",
    "/datasets/visits_us.csv\n",
    "- *date* — date\n",
    "- *group* — A/B test group\n",
    "- *visits* — the number of visits on the date specified in the A/B test group specified"
   ]
  },
  {
   "cell_type": "markdown",
   "id": "af32793b",
   "metadata": {},
   "source": [
    "## Loading and preprocessing the data"
   ]
  },
  {
   "cell_type": "code",
   "execution_count": 1,
   "id": "540ac1e0",
   "metadata": {},
   "outputs": [],
   "source": [
    "import pandas as pd\n",
    "from scipy import stats as st\n",
    "import datetime as dt\n",
    "import numpy as np\n",
    "import matplotlib.pyplot as plt\n",
    "import seaborn as sns\n",
    "import math\n",
    "import plotly.express as px\n",
    "from scipy import stats\n",
    "import warnings\n",
    "\n",
    "warnings.filterwarnings(action='ignore')"
   ]
  },
  {
   "cell_type": "code",
   "execution_count": 2,
   "id": "cb54471a",
   "metadata": {},
   "outputs": [],
   "source": [
    "hypotheses=pd.read_csv('/datasets/hypotheses_us.csv', sep=';')\n",
    "orders=pd.read_csv('/datasets/orders_us.csv')\n",
    "visits=pd.read_csv('/datasets/visits_us.csv')"
   ]
  },
  {
   "cell_type": "markdown",
   "id": "3f882c58",
   "metadata": {},
   "source": [
    "### Preprocessing the data of hypotheses"
   ]
  },
  {
   "cell_type": "code",
   "execution_count": 3,
   "id": "79dbb55d",
   "metadata": {},
   "outputs": [
    {
     "data": {
      "text/html": [
       "<div>\n",
       "<style scoped>\n",
       "    .dataframe tbody tr th:only-of-type {\n",
       "        vertical-align: middle;\n",
       "    }\n",
       "\n",
       "    .dataframe tbody tr th {\n",
       "        vertical-align: top;\n",
       "    }\n",
       "\n",
       "    .dataframe thead th {\n",
       "        text-align: right;\n",
       "    }\n",
       "</style>\n",
       "<table border=\"1\" class=\"dataframe\">\n",
       "  <thead>\n",
       "    <tr style=\"text-align: right;\">\n",
       "      <th></th>\n",
       "      <th>Hypothesis</th>\n",
       "      <th>Reach</th>\n",
       "      <th>Impact</th>\n",
       "      <th>Confidence</th>\n",
       "      <th>Effort</th>\n",
       "    </tr>\n",
       "  </thead>\n",
       "  <tbody>\n",
       "    <tr>\n",
       "      <th>0</th>\n",
       "      <td>Add two new channels for attracting traffic. T...</td>\n",
       "      <td>3</td>\n",
       "      <td>10</td>\n",
       "      <td>8</td>\n",
       "      <td>6</td>\n",
       "    </tr>\n",
       "    <tr>\n",
       "      <th>1</th>\n",
       "      <td>Launch your own delivery service. This will sh...</td>\n",
       "      <td>2</td>\n",
       "      <td>5</td>\n",
       "      <td>4</td>\n",
       "      <td>10</td>\n",
       "    </tr>\n",
       "    <tr>\n",
       "      <th>2</th>\n",
       "      <td>Add product recommendation blocks to the store...</td>\n",
       "      <td>8</td>\n",
       "      <td>3</td>\n",
       "      <td>7</td>\n",
       "      <td>3</td>\n",
       "    </tr>\n",
       "    <tr>\n",
       "      <th>3</th>\n",
       "      <td>Change the category structure. This will incre...</td>\n",
       "      <td>8</td>\n",
       "      <td>3</td>\n",
       "      <td>3</td>\n",
       "      <td>8</td>\n",
       "    </tr>\n",
       "    <tr>\n",
       "      <th>4</th>\n",
       "      <td>Change the background color on the main page. ...</td>\n",
       "      <td>3</td>\n",
       "      <td>1</td>\n",
       "      <td>1</td>\n",
       "      <td>1</td>\n",
       "    </tr>\n",
       "    <tr>\n",
       "      <th>5</th>\n",
       "      <td>Add a customer review page. This will increase...</td>\n",
       "      <td>3</td>\n",
       "      <td>2</td>\n",
       "      <td>2</td>\n",
       "      <td>3</td>\n",
       "    </tr>\n",
       "    <tr>\n",
       "      <th>6</th>\n",
       "      <td>Show banners with current offers and sales on ...</td>\n",
       "      <td>5</td>\n",
       "      <td>3</td>\n",
       "      <td>8</td>\n",
       "      <td>3</td>\n",
       "    </tr>\n",
       "    <tr>\n",
       "      <th>7</th>\n",
       "      <td>Add a subscription form to all the main pages....</td>\n",
       "      <td>10</td>\n",
       "      <td>7</td>\n",
       "      <td>8</td>\n",
       "      <td>5</td>\n",
       "    </tr>\n",
       "    <tr>\n",
       "      <th>8</th>\n",
       "      <td>Launch a promotion that gives users discounts ...</td>\n",
       "      <td>1</td>\n",
       "      <td>9</td>\n",
       "      <td>9</td>\n",
       "      <td>5</td>\n",
       "    </tr>\n",
       "  </tbody>\n",
       "</table>\n",
       "</div>"
      ],
      "text/plain": [
       "                                          Hypothesis  Reach  Impact  \\\n",
       "0  Add two new channels for attracting traffic. T...      3      10   \n",
       "1  Launch your own delivery service. This will sh...      2       5   \n",
       "2  Add product recommendation blocks to the store...      8       3   \n",
       "3  Change the category structure. This will incre...      8       3   \n",
       "4  Change the background color on the main page. ...      3       1   \n",
       "5  Add a customer review page. This will increase...      3       2   \n",
       "6  Show banners with current offers and sales on ...      5       3   \n",
       "7  Add a subscription form to all the main pages....     10       7   \n",
       "8  Launch a promotion that gives users discounts ...      1       9   \n",
       "\n",
       "   Confidence  Effort  \n",
       "0           8       6  \n",
       "1           4      10  \n",
       "2           7       3  \n",
       "3           3       8  \n",
       "4           1       1  \n",
       "5           2       3  \n",
       "6           8       3  \n",
       "7           8       5  \n",
       "8           9       5  "
      ]
     },
     "execution_count": 3,
     "metadata": {},
     "output_type": "execute_result"
    }
   ],
   "source": [
    "hypotheses"
   ]
  },
  {
   "cell_type": "code",
   "execution_count": 4,
   "id": "37ac080f",
   "metadata": {},
   "outputs": [],
   "source": [
    "hypotheses.columns=hypotheses.columns.str.lower()"
   ]
  },
  {
   "cell_type": "markdown",
   "id": "fb077bd3",
   "metadata": {},
   "source": [
    "### Preprocessing the data of users"
   ]
  },
  {
   "cell_type": "code",
   "execution_count": 5,
   "id": "6561697c",
   "metadata": {},
   "outputs": [
    {
     "data": {
      "text/html": [
       "<div>\n",
       "<style scoped>\n",
       "    .dataframe tbody tr th:only-of-type {\n",
       "        vertical-align: middle;\n",
       "    }\n",
       "\n",
       "    .dataframe tbody tr th {\n",
       "        vertical-align: top;\n",
       "    }\n",
       "\n",
       "    .dataframe thead th {\n",
       "        text-align: right;\n",
       "    }\n",
       "</style>\n",
       "<table border=\"1\" class=\"dataframe\">\n",
       "  <thead>\n",
       "    <tr style=\"text-align: right;\">\n",
       "      <th></th>\n",
       "      <th>transactionId</th>\n",
       "      <th>visitorId</th>\n",
       "      <th>date</th>\n",
       "      <th>revenue</th>\n",
       "      <th>group</th>\n",
       "    </tr>\n",
       "  </thead>\n",
       "  <tbody>\n",
       "    <tr>\n",
       "      <th>0</th>\n",
       "      <td>3667963787</td>\n",
       "      <td>3312258926</td>\n",
       "      <td>2019-08-15</td>\n",
       "      <td>30.4</td>\n",
       "      <td>B</td>\n",
       "    </tr>\n",
       "    <tr>\n",
       "      <th>1</th>\n",
       "      <td>2804400009</td>\n",
       "      <td>3642806036</td>\n",
       "      <td>2019-08-15</td>\n",
       "      <td>15.2</td>\n",
       "      <td>B</td>\n",
       "    </tr>\n",
       "    <tr>\n",
       "      <th>2</th>\n",
       "      <td>2961555356</td>\n",
       "      <td>4069496402</td>\n",
       "      <td>2019-08-15</td>\n",
       "      <td>10.2</td>\n",
       "      <td>A</td>\n",
       "    </tr>\n",
       "    <tr>\n",
       "      <th>3</th>\n",
       "      <td>3797467345</td>\n",
       "      <td>1196621759</td>\n",
       "      <td>2019-08-15</td>\n",
       "      <td>155.1</td>\n",
       "      <td>B</td>\n",
       "    </tr>\n",
       "    <tr>\n",
       "      <th>4</th>\n",
       "      <td>2282983706</td>\n",
       "      <td>2322279887</td>\n",
       "      <td>2019-08-15</td>\n",
       "      <td>40.5</td>\n",
       "      <td>B</td>\n",
       "    </tr>\n",
       "  </tbody>\n",
       "</table>\n",
       "</div>"
      ],
      "text/plain": [
       "   transactionId   visitorId        date  revenue group\n",
       "0     3667963787  3312258926  2019-08-15     30.4     B\n",
       "1     2804400009  3642806036  2019-08-15     15.2     B\n",
       "2     2961555356  4069496402  2019-08-15     10.2     A\n",
       "3     3797467345  1196621759  2019-08-15    155.1     B\n",
       "4     2282983706  2322279887  2019-08-15     40.5     B"
      ]
     },
     "execution_count": 5,
     "metadata": {},
     "output_type": "execute_result"
    }
   ],
   "source": [
    "orders.head()"
   ]
  },
  {
   "cell_type": "code",
   "execution_count": 6,
   "id": "278a2149",
   "metadata": {},
   "outputs": [
    {
     "name": "stdout",
     "output_type": "stream",
     "text": [
      "<class 'pandas.core.frame.DataFrame'>\n",
      "RangeIndex: 1197 entries, 0 to 1196\n",
      "Data columns (total 5 columns):\n",
      " #   Column         Non-Null Count  Dtype  \n",
      "---  ------         --------------  -----  \n",
      " 0   transactionId  1197 non-null   int64  \n",
      " 1   visitorId      1197 non-null   int64  \n",
      " 2   date           1197 non-null   object \n",
      " 3   revenue        1197 non-null   float64\n",
      " 4   group          1197 non-null   object \n",
      "dtypes: float64(1), int64(2), object(2)\n",
      "memory usage: 46.9+ KB\n"
     ]
    }
   ],
   "source": [
    "orders.info()"
   ]
  },
  {
   "cell_type": "code",
   "execution_count": 7,
   "id": "bf6c372f",
   "metadata": {},
   "outputs": [],
   "source": [
    "orders['date']=pd.to_datetime(orders['date'],format='%Y-%m-%d')"
   ]
  },
  {
   "cell_type": "code",
   "execution_count": 8,
   "id": "996e85a7",
   "metadata": {},
   "outputs": [
    {
     "data": {
      "text/html": [
       "<div>\n",
       "<style scoped>\n",
       "    .dataframe tbody tr th:only-of-type {\n",
       "        vertical-align: middle;\n",
       "    }\n",
       "\n",
       "    .dataframe tbody tr th {\n",
       "        vertical-align: top;\n",
       "    }\n",
       "\n",
       "    .dataframe thead th {\n",
       "        text-align: right;\n",
       "    }\n",
       "</style>\n",
       "<table border=\"1\" class=\"dataframe\">\n",
       "  <thead>\n",
       "    <tr style=\"text-align: right;\">\n",
       "      <th></th>\n",
       "      <th>date</th>\n",
       "      <th>group</th>\n",
       "      <th>visits</th>\n",
       "    </tr>\n",
       "  </thead>\n",
       "  <tbody>\n",
       "    <tr>\n",
       "      <th>0</th>\n",
       "      <td>2019-08-01</td>\n",
       "      <td>A</td>\n",
       "      <td>719</td>\n",
       "    </tr>\n",
       "    <tr>\n",
       "      <th>1</th>\n",
       "      <td>2019-08-02</td>\n",
       "      <td>A</td>\n",
       "      <td>619</td>\n",
       "    </tr>\n",
       "    <tr>\n",
       "      <th>2</th>\n",
       "      <td>2019-08-03</td>\n",
       "      <td>A</td>\n",
       "      <td>507</td>\n",
       "    </tr>\n",
       "    <tr>\n",
       "      <th>3</th>\n",
       "      <td>2019-08-04</td>\n",
       "      <td>A</td>\n",
       "      <td>717</td>\n",
       "    </tr>\n",
       "    <tr>\n",
       "      <th>4</th>\n",
       "      <td>2019-08-05</td>\n",
       "      <td>A</td>\n",
       "      <td>756</td>\n",
       "    </tr>\n",
       "  </tbody>\n",
       "</table>\n",
       "</div>"
      ],
      "text/plain": [
       "         date group  visits\n",
       "0  2019-08-01     A     719\n",
       "1  2019-08-02     A     619\n",
       "2  2019-08-03     A     507\n",
       "3  2019-08-04     A     717\n",
       "4  2019-08-05     A     756"
      ]
     },
     "execution_count": 8,
     "metadata": {},
     "output_type": "execute_result"
    }
   ],
   "source": [
    "visits.head()"
   ]
  },
  {
   "cell_type": "code",
   "execution_count": 9,
   "id": "4179a439",
   "metadata": {},
   "outputs": [
    {
     "name": "stdout",
     "output_type": "stream",
     "text": [
      "<class 'pandas.core.frame.DataFrame'>\n",
      "RangeIndex: 62 entries, 0 to 61\n",
      "Data columns (total 3 columns):\n",
      " #   Column  Non-Null Count  Dtype \n",
      "---  ------  --------------  ----- \n",
      " 0   date    62 non-null     object\n",
      " 1   group   62 non-null     object\n",
      " 2   visits  62 non-null     int64 \n",
      "dtypes: int64(1), object(2)\n",
      "memory usage: 1.6+ KB\n"
     ]
    }
   ],
   "source": [
    "visits.info()"
   ]
  },
  {
   "cell_type": "code",
   "execution_count": 10,
   "id": "c91781fa",
   "metadata": {},
   "outputs": [],
   "source": [
    "visits['date']=pd.to_datetime(visits['date'],format='%Y-%m-%d')"
   ]
  },
  {
   "cell_type": "markdown",
   "id": "d04f04d4",
   "metadata": {},
   "source": [
    "#### Let's check number groups:"
   ]
  },
  {
   "cell_type": "code",
   "execution_count": 11,
   "id": "5303603d",
   "metadata": {},
   "outputs": [
    {
     "data": {
      "text/plain": [
       "array(['B', 'A'], dtype=object)"
      ]
     },
     "execution_count": 11,
     "metadata": {},
     "output_type": "execute_result"
    }
   ],
   "source": [
    "orders['group'].unique()"
   ]
  },
  {
   "cell_type": "code",
   "execution_count": 12,
   "id": "3c45294d",
   "metadata": {},
   "outputs": [
    {
     "data": {
      "text/html": [
       "<div>\n",
       "<style scoped>\n",
       "    .dataframe tbody tr th:only-of-type {\n",
       "        vertical-align: middle;\n",
       "    }\n",
       "\n",
       "    .dataframe tbody tr th {\n",
       "        vertical-align: top;\n",
       "    }\n",
       "\n",
       "    .dataframe thead th {\n",
       "        text-align: right;\n",
       "    }\n",
       "</style>\n",
       "<table border=\"1\" class=\"dataframe\">\n",
       "  <thead>\n",
       "    <tr style=\"text-align: right;\">\n",
       "      <th></th>\n",
       "      <th>transactionId</th>\n",
       "      <th>visitorId</th>\n",
       "      <th>date</th>\n",
       "      <th>revenue</th>\n",
       "    </tr>\n",
       "    <tr>\n",
       "      <th>group</th>\n",
       "      <th></th>\n",
       "      <th></th>\n",
       "      <th></th>\n",
       "      <th></th>\n",
       "    </tr>\n",
       "  </thead>\n",
       "  <tbody>\n",
       "    <tr>\n",
       "      <th>A</th>\n",
       "      <td>557</td>\n",
       "      <td>503</td>\n",
       "      <td>31</td>\n",
       "      <td>277</td>\n",
       "    </tr>\n",
       "    <tr>\n",
       "      <th>B</th>\n",
       "      <td>640</td>\n",
       "      <td>586</td>\n",
       "      <td>31</td>\n",
       "      <td>292</td>\n",
       "    </tr>\n",
       "  </tbody>\n",
       "</table>\n",
       "</div>"
      ],
      "text/plain": [
       "       transactionId  visitorId  date  revenue\n",
       "group                                         \n",
       "A                557        503    31      277\n",
       "B                640        586    31      292"
      ]
     },
     "execution_count": 12,
     "metadata": {},
     "output_type": "execute_result"
    }
   ],
   "source": [
    "orders.groupby('group').nunique()"
   ]
  },
  {
   "cell_type": "markdown",
   "id": "17d07bf8",
   "metadata": {},
   "source": [
    "Let's find what period data is available to us:"
   ]
  },
  {
   "cell_type": "code",
   "execution_count": 13,
   "id": "92173835",
   "metadata": {},
   "outputs": [
    {
     "data": {
      "text/plain": [
       "Timestamp('2019-08-01 00:00:00')"
      ]
     },
     "execution_count": 13,
     "metadata": {},
     "output_type": "execute_result"
    }
   ],
   "source": [
    "orders['date'].min()"
   ]
  },
  {
   "cell_type": "code",
   "execution_count": 14,
   "id": "947cc907",
   "metadata": {},
   "outputs": [
    {
     "data": {
      "text/plain": [
       "Timestamp('2019-08-31 00:00:00')"
      ]
     },
     "execution_count": 14,
     "metadata": {},
     "output_type": "execute_result"
    }
   ],
   "source": [
    "orders['date'].max()"
   ]
  },
  {
   "cell_type": "code",
   "execution_count": 15,
   "id": "69d562c2",
   "metadata": {},
   "outputs": [
    {
     "data": {
      "text/plain": [
       "Timestamp('2019-08-01 00:00:00')"
      ]
     },
     "execution_count": 15,
     "metadata": {},
     "output_type": "execute_result"
    }
   ],
   "source": [
    "visits['date'].min()"
   ]
  },
  {
   "cell_type": "code",
   "execution_count": 16,
   "id": "e93bedf4",
   "metadata": {},
   "outputs": [
    {
     "data": {
      "text/plain": [
       "Timestamp('2019-08-31 00:00:00')"
      ]
     },
     "execution_count": 16,
     "metadata": {},
     "output_type": "execute_result"
    }
   ],
   "source": [
    "visits['date'].max()"
   ]
  },
  {
   "cell_type": "markdown",
   "id": "6ac24288",
   "metadata": {},
   "source": [
    "**We see that the observations were carried out within one month.**"
   ]
  },
  {
   "cell_type": "markdown",
   "id": "f847c07d",
   "metadata": {},
   "source": [
    "#### Let's check if there are users in both groups:"
   ]
  },
  {
   "cell_type": "code",
   "execution_count": 17,
   "id": "0ff98500",
   "metadata": {},
   "outputs": [
    {
     "data": {
      "text/html": [
       "<div>\n",
       "<style scoped>\n",
       "    .dataframe tbody tr th:only-of-type {\n",
       "        vertical-align: middle;\n",
       "    }\n",
       "\n",
       "    .dataframe tbody tr th {\n",
       "        vertical-align: top;\n",
       "    }\n",
       "\n",
       "    .dataframe thead th {\n",
       "        text-align: right;\n",
       "    }\n",
       "</style>\n",
       "<table border=\"1\" class=\"dataframe\">\n",
       "  <thead>\n",
       "    <tr style=\"text-align: right;\">\n",
       "      <th></th>\n",
       "      <th>visitorId</th>\n",
       "      <th>group</th>\n",
       "    </tr>\n",
       "  </thead>\n",
       "  <tbody>\n",
       "    <tr>\n",
       "      <th>0</th>\n",
       "      <td>5114589</td>\n",
       "      <td>1</td>\n",
       "    </tr>\n",
       "    <tr>\n",
       "      <th>666</th>\n",
       "      <td>2738601405</td>\n",
       "      <td>1</td>\n",
       "    </tr>\n",
       "    <tr>\n",
       "      <th>667</th>\n",
       "      <td>2742574263</td>\n",
       "      <td>1</td>\n",
       "    </tr>\n",
       "    <tr>\n",
       "      <th>668</th>\n",
       "      <td>2743474511</td>\n",
       "      <td>1</td>\n",
       "    </tr>\n",
       "    <tr>\n",
       "      <th>669</th>\n",
       "      <td>2744017357</td>\n",
       "      <td>1</td>\n",
       "    </tr>\n",
       "    <tr>\n",
       "      <th>...</th>\n",
       "      <td>...</td>\n",
       "      <td>...</td>\n",
       "    </tr>\n",
       "    <tr>\n",
       "      <th>55</th>\n",
       "      <td>237748145</td>\n",
       "      <td>2</td>\n",
       "    </tr>\n",
       "    <tr>\n",
       "      <th>340</th>\n",
       "      <td>1404934699</td>\n",
       "      <td>2</td>\n",
       "    </tr>\n",
       "    <tr>\n",
       "      <th>406</th>\n",
       "      <td>1668030113</td>\n",
       "      <td>2</td>\n",
       "    </tr>\n",
       "    <tr>\n",
       "      <th>661</th>\n",
       "      <td>2712142231</td>\n",
       "      <td>2</td>\n",
       "    </tr>\n",
       "    <tr>\n",
       "      <th>614</th>\n",
       "      <td>2579882178</td>\n",
       "      <td>2</td>\n",
       "    </tr>\n",
       "  </tbody>\n",
       "</table>\n",
       "<p>1031 rows × 2 columns</p>\n",
       "</div>"
      ],
      "text/plain": [
       "      visitorId  group\n",
       "0       5114589      1\n",
       "666  2738601405      1\n",
       "667  2742574263      1\n",
       "668  2743474511      1\n",
       "669  2744017357      1\n",
       "..          ...    ...\n",
       "55    237748145      2\n",
       "340  1404934699      2\n",
       "406  1668030113      2\n",
       "661  2712142231      2\n",
       "614  2579882178      2\n",
       "\n",
       "[1031 rows x 2 columns]"
      ]
     },
     "execution_count": 17,
     "metadata": {},
     "output_type": "execute_result"
    }
   ],
   "source": [
    "datacheck=orders.groupby('visitorId')['group'].nunique().reset_index()\n",
    "datacheck.sort_values(by='group', ascending='True')"
   ]
  },
  {
   "cell_type": "code",
   "execution_count": 18,
   "id": "2d158884",
   "metadata": {},
   "outputs": [
    {
     "data": {
      "text/plain": [
       "2       8300375\n",
       "44    199603092\n",
       "51    232979603\n",
       "55    237748145\n",
       "66    276558944\n",
       "Name: visitorId, dtype: int64"
      ]
     },
     "execution_count": 18,
     "metadata": {},
     "output_type": "execute_result"
    }
   ],
   "source": [
    "ABusers=datacheck[datacheck['group']==2]['visitorId']\n",
    "ABusers.head()"
   ]
  },
  {
   "cell_type": "code",
   "execution_count": 19,
   "id": "dd2ed2bb",
   "metadata": {},
   "outputs": [
    {
     "name": "stdout",
     "output_type": "stream",
     "text": [
      "number users is in both group = 58\n"
     ]
    }
   ],
   "source": [
    "print('number users is in both group =',ABusers.nunique())"
   ]
  },
  {
   "cell_type": "code",
   "execution_count": 20,
   "id": "f3ac13b3",
   "metadata": {},
   "outputs": [
    {
     "name": "stdout",
     "output_type": "stream",
     "text": [
      "percente users is in both group =  5.6 %\n"
     ]
    }
   ],
   "source": [
    "print('percente users is in both group = ','{:.1f}'.format(ABusers.nunique()/datacheck.shape[0]*100),'%')"
   ]
  },
  {
   "cell_type": "markdown",
   "id": "8479ba57",
   "metadata": {},
   "source": [
    "**And although number quite big part of all data and we should remove these users for right A/B testing.**"
   ]
  },
  {
   "cell_type": "code",
   "execution_count": 21,
   "id": "4f9bc425",
   "metadata": {},
   "outputs": [],
   "source": [
    "orders=orders[np.logical_not(orders['visitorId'].isin(ABusers))]"
   ]
  },
  {
   "cell_type": "code",
   "execution_count": 22,
   "id": "0845d1c7",
   "metadata": {},
   "outputs": [
    {
     "data": {
      "text/html": [
       "<div>\n",
       "<style scoped>\n",
       "    .dataframe tbody tr th:only-of-type {\n",
       "        vertical-align: middle;\n",
       "    }\n",
       "\n",
       "    .dataframe tbody tr th {\n",
       "        vertical-align: top;\n",
       "    }\n",
       "\n",
       "    .dataframe thead th {\n",
       "        text-align: right;\n",
       "    }\n",
       "</style>\n",
       "<table border=\"1\" class=\"dataframe\">\n",
       "  <thead>\n",
       "    <tr style=\"text-align: right;\">\n",
       "      <th></th>\n",
       "      <th>visitorId</th>\n",
       "      <th>group</th>\n",
       "    </tr>\n",
       "  </thead>\n",
       "  <tbody>\n",
       "    <tr>\n",
       "      <th>0</th>\n",
       "      <td>5114589</td>\n",
       "      <td>1</td>\n",
       "    </tr>\n",
       "    <tr>\n",
       "      <th>640</th>\n",
       "      <td>2772153338</td>\n",
       "      <td>1</td>\n",
       "    </tr>\n",
       "    <tr>\n",
       "      <th>641</th>\n",
       "      <td>2776274025</td>\n",
       "      <td>1</td>\n",
       "    </tr>\n",
       "    <tr>\n",
       "      <th>642</th>\n",
       "      <td>2785040378</td>\n",
       "      <td>1</td>\n",
       "    </tr>\n",
       "    <tr>\n",
       "      <th>643</th>\n",
       "      <td>2785527055</td>\n",
       "      <td>1</td>\n",
       "    </tr>\n",
       "    <tr>\n",
       "      <th>...</th>\n",
       "      <td>...</td>\n",
       "      <td>...</td>\n",
       "    </tr>\n",
       "    <tr>\n",
       "      <th>329</th>\n",
       "      <td>1426761187</td>\n",
       "      <td>1</td>\n",
       "    </tr>\n",
       "    <tr>\n",
       "      <th>330</th>\n",
       "      <td>1430210707</td>\n",
       "      <td>1</td>\n",
       "    </tr>\n",
       "    <tr>\n",
       "      <th>331</th>\n",
       "      <td>1438226485</td>\n",
       "      <td>1</td>\n",
       "    </tr>\n",
       "    <tr>\n",
       "      <th>303</th>\n",
       "      <td>1335154194</td>\n",
       "      <td>1</td>\n",
       "    </tr>\n",
       "    <tr>\n",
       "      <th>972</th>\n",
       "      <td>4283872382</td>\n",
       "      <td>1</td>\n",
       "    </tr>\n",
       "  </tbody>\n",
       "</table>\n",
       "<p>973 rows × 2 columns</p>\n",
       "</div>"
      ],
      "text/plain": [
       "      visitorId  group\n",
       "0       5114589      1\n",
       "640  2772153338      1\n",
       "641  2776274025      1\n",
       "642  2785040378      1\n",
       "643  2785527055      1\n",
       "..          ...    ...\n",
       "329  1426761187      1\n",
       "330  1430210707      1\n",
       "331  1438226485      1\n",
       "303  1335154194      1\n",
       "972  4283872382      1\n",
       "\n",
       "[973 rows x 2 columns]"
      ]
     },
     "execution_count": 22,
     "metadata": {},
     "output_type": "execute_result"
    }
   ],
   "source": [
    "orders.groupby('visitorId')['group'].nunique().reset_index().sort_values(by='group')"
   ]
  },
  {
   "cell_type": "markdown",
   "id": "1c69b271",
   "metadata": {},
   "source": [
    "#### Let's look on distribution of data:"
   ]
  },
  {
   "cell_type": "code",
   "execution_count": 23,
   "id": "a01e56e9",
   "metadata": {},
   "outputs": [
    {
     "data": {
      "text/html": [
       "<div>\n",
       "<style scoped>\n",
       "    .dataframe tbody tr th:only-of-type {\n",
       "        vertical-align: middle;\n",
       "    }\n",
       "\n",
       "    .dataframe tbody tr th {\n",
       "        vertical-align: top;\n",
       "    }\n",
       "\n",
       "    .dataframe thead th {\n",
       "        text-align: right;\n",
       "    }\n",
       "</style>\n",
       "<table border=\"1\" class=\"dataframe\">\n",
       "  <thead>\n",
       "    <tr style=\"text-align: right;\">\n",
       "      <th></th>\n",
       "      <th>visits</th>\n",
       "    </tr>\n",
       "  </thead>\n",
       "  <tbody>\n",
       "    <tr>\n",
       "      <th>count</th>\n",
       "      <td>31.000000</td>\n",
       "    </tr>\n",
       "    <tr>\n",
       "      <th>mean</th>\n",
       "      <td>604.387097</td>\n",
       "    </tr>\n",
       "    <tr>\n",
       "      <th>std</th>\n",
       "      <td>112.396227</td>\n",
       "    </tr>\n",
       "    <tr>\n",
       "      <th>min</th>\n",
       "      <td>361.000000</td>\n",
       "    </tr>\n",
       "    <tr>\n",
       "      <th>25%</th>\n",
       "      <td>541.000000</td>\n",
       "    </tr>\n",
       "    <tr>\n",
       "      <th>50%</th>\n",
       "      <td>619.000000</td>\n",
       "    </tr>\n",
       "    <tr>\n",
       "      <th>75%</th>\n",
       "      <td>705.000000</td>\n",
       "    </tr>\n",
       "    <tr>\n",
       "      <th>max</th>\n",
       "      <td>756.000000</td>\n",
       "    </tr>\n",
       "  </tbody>\n",
       "</table>\n",
       "</div>"
      ],
      "text/plain": [
       "           visits\n",
       "count   31.000000\n",
       "mean   604.387097\n",
       "std    112.396227\n",
       "min    361.000000\n",
       "25%    541.000000\n",
       "50%    619.000000\n",
       "75%    705.000000\n",
       "max    756.000000"
      ]
     },
     "execution_count": 23,
     "metadata": {},
     "output_type": "execute_result"
    }
   ],
   "source": [
    "visitsA=visits[visits['group']=='A']\n",
    "visitsA.describe()"
   ]
  },
  {
   "cell_type": "code",
   "execution_count": 24,
   "id": "f2c89c29",
   "metadata": {
    "scrolled": true
   },
   "outputs": [
    {
     "data": {
      "image/png": "[encoded data removed]",
      "text/plain": [
       "<Figure size 432x288 with 1 Axes>"
      ]
     },
     "metadata": {
      "needs_background": "light"
     },
     "output_type": "display_data"
    }
   ],
   "source": [
    "plt.scatter(visitsA['date'],visitsA['visits'])\n",
    "plt.title('Graph of the distribution of visits to the site of users from group A')\n",
    "plt.show()"
   ]
  },
  {
   "cell_type": "code",
   "execution_count": 25,
   "id": "91a0d93b",
   "metadata": {},
   "outputs": [
    {
     "data": {
      "text/html": [
       "<div>\n",
       "<style scoped>\n",
       "    .dataframe tbody tr th:only-of-type {\n",
       "        vertical-align: middle;\n",
       "    }\n",
       "\n",
       "    .dataframe tbody tr th {\n",
       "        vertical-align: top;\n",
       "    }\n",
       "\n",
       "    .dataframe thead th {\n",
       "        text-align: right;\n",
       "    }\n",
       "</style>\n",
       "<table border=\"1\" class=\"dataframe\">\n",
       "  <thead>\n",
       "    <tr style=\"text-align: right;\">\n",
       "      <th></th>\n",
       "      <th>visits</th>\n",
       "    </tr>\n",
       "  </thead>\n",
       "  <tbody>\n",
       "    <tr>\n",
       "      <th>count</th>\n",
       "      <td>31.000000</td>\n",
       "    </tr>\n",
       "    <tr>\n",
       "      <th>mean</th>\n",
       "      <td>610.193548</td>\n",
       "    </tr>\n",
       "    <tr>\n",
       "      <th>std</th>\n",
       "      <td>118.156230</td>\n",
       "    </tr>\n",
       "    <tr>\n",
       "      <th>min</th>\n",
       "      <td>369.000000</td>\n",
       "    </tr>\n",
       "    <tr>\n",
       "      <th>25%</th>\n",
       "      <td>537.000000</td>\n",
       "    </tr>\n",
       "    <tr>\n",
       "      <th>50%</th>\n",
       "      <td>654.000000</td>\n",
       "    </tr>\n",
       "    <tr>\n",
       "      <th>75%</th>\n",
       "      <td>711.000000</td>\n",
       "    </tr>\n",
       "    <tr>\n",
       "      <th>max</th>\n",
       "      <td>770.000000</td>\n",
       "    </tr>\n",
       "  </tbody>\n",
       "</table>\n",
       "</div>"
      ],
      "text/plain": [
       "           visits\n",
       "count   31.000000\n",
       "mean   610.193548\n",
       "std    118.156230\n",
       "min    369.000000\n",
       "25%    537.000000\n",
       "50%    654.000000\n",
       "75%    711.000000\n",
       "max    770.000000"
      ]
     },
     "execution_count": 25,
     "metadata": {},
     "output_type": "execute_result"
    }
   ],
   "source": [
    "visitsB=visits[visits['group']=='B']\n",
    "visitsB.describe()"
   ]
  },
  {
   "cell_type": "code",
   "execution_count": 26,
   "id": "e578e9d2",
   "metadata": {},
   "outputs": [
    {
     "data": {
      "image/png": "[encoded data removed]",
      "text/plain": [
       "<Figure size 432x288 with 1 Axes>"
      ]
     },
     "metadata": {
      "needs_background": "light"
     },
     "output_type": "display_data"
    }
   ],
   "source": [
    "plt.scatter(visitsB['date'],visitsB['visits'])\n",
    "plt.title('Graph of the distribution of visits to the site of users from group B')\n",
    "plt.show()"
   ]
  },
  {
   "cell_type": "markdown",
   "id": "6141dfc0",
   "metadata": {},
   "source": [
    "**According to the schedules of the distribution of visits and indicators of standard deviations and others, we can say that the sizes and activity of the groups are very close, the rest of the conclusions will be made after the AB test.**"
   ]
  },
  {
   "cell_type": "markdown",
   "id": "b311331d",
   "metadata": {},
   "source": [
    "## Part 1. Prioritizing Hypotheses"
   ]
  },
  {
   "cell_type": "code",
   "execution_count": 27,
   "id": "fcc7aede",
   "metadata": {},
   "outputs": [
    {
     "name": "stdout",
     "output_type": "stream",
     "text": [
      "Add two new channels for attracting traffic. This will bring 30% more users\n",
      "Launch your own delivery service. This will shorten delivery time\n",
      "Add product recommendation blocks to the store's site. This will increase conversion and average purchase size\n",
      "Change the category structure. This will increase conversion since users will find the products they want more quickly\n",
      "Change the background color on the main page. This will increase user engagement\n",
      "Add a customer review page. This will increase the number of orders\n",
      "Show banners with current offers and sales on the main page. This will boost conversion\n",
      "Add a subscription form to all the main pages. This will help you compile a mailing list\n",
      "Launch a promotion that gives users discounts on their birthdays\n"
     ]
    }
   ],
   "source": [
    "print(hypotheses['hypothesis'][0])\n",
    "print(hypotheses['hypothesis'][1])\n",
    "print(hypotheses['hypothesis'][2])\n",
    "print(hypotheses['hypothesis'][3])\n",
    "print(hypotheses['hypothesis'][4])\n",
    "print(hypotheses['hypothesis'][5])\n",
    "print(hypotheses['hypothesis'][6])\n",
    "print(hypotheses['hypothesis'][7])\n",
    "print(hypotheses['hypothesis'][8])"
   ]
  },
  {
   "cell_type": "markdown",
   "id": "c51554d5",
   "metadata": {},
   "source": [
    "### ICE framework to prioritize hypotheses"
   ]
  },
  {
   "cell_type": "code",
   "execution_count": 28,
   "id": "b583bbfa",
   "metadata": {},
   "outputs": [],
   "source": [
    "hypotheses['ICE']=(hypotheses['impact']*hypotheses['confidence']/hypotheses['effort']).map(lambda x:\"{0:.0f}\".format(x))"
   ]
  },
  {
   "cell_type": "code",
   "execution_count": 29,
   "id": "99ac1c4a",
   "metadata": {},
   "outputs": [
    {
     "data": {
      "text/html": [
       "<div>\n",
       "<style scoped>\n",
       "    .dataframe tbody tr th:only-of-type {\n",
       "        vertical-align: middle;\n",
       "    }\n",
       "\n",
       "    .dataframe tbody tr th {\n",
       "        vertical-align: top;\n",
       "    }\n",
       "\n",
       "    .dataframe thead th {\n",
       "        text-align: right;\n",
       "    }\n",
       "</style>\n",
       "<table border=\"1\" class=\"dataframe\">\n",
       "  <thead>\n",
       "    <tr style=\"text-align: right;\">\n",
       "      <th></th>\n",
       "      <th>hypothesis</th>\n",
       "      <th>reach</th>\n",
       "      <th>impact</th>\n",
       "      <th>confidence</th>\n",
       "      <th>effort</th>\n",
       "      <th>ICE</th>\n",
       "    </tr>\n",
       "  </thead>\n",
       "  <tbody>\n",
       "    <tr>\n",
       "      <th>6</th>\n",
       "      <td>Show banners with current offers and sales on the main page. This will boost conversion</td>\n",
       "      <td>5</td>\n",
       "      <td>3</td>\n",
       "      <td>8</td>\n",
       "      <td>3</td>\n",
       "      <td>8</td>\n",
       "    </tr>\n",
       "    <tr>\n",
       "      <th>2</th>\n",
       "      <td>Add product recommendation blocks to the store's site. This will increase conversion and average purchase size</td>\n",
       "      <td>8</td>\n",
       "      <td>3</td>\n",
       "      <td>7</td>\n",
       "      <td>3</td>\n",
       "      <td>7</td>\n",
       "    </tr>\n",
       "    <tr>\n",
       "      <th>1</th>\n",
       "      <td>Launch your own delivery service. This will shorten delivery time</td>\n",
       "      <td>2</td>\n",
       "      <td>5</td>\n",
       "      <td>4</td>\n",
       "      <td>10</td>\n",
       "      <td>2</td>\n",
       "    </tr>\n",
       "    <tr>\n",
       "      <th>8</th>\n",
       "      <td>Launch a promotion that gives users discounts on their birthdays</td>\n",
       "      <td>1</td>\n",
       "      <td>9</td>\n",
       "      <td>9</td>\n",
       "      <td>5</td>\n",
       "      <td>16</td>\n",
       "    </tr>\n",
       "    <tr>\n",
       "      <th>0</th>\n",
       "      <td>Add two new channels for attracting traffic. This will bring 30% more users</td>\n",
       "      <td>3</td>\n",
       "      <td>10</td>\n",
       "      <td>8</td>\n",
       "      <td>6</td>\n",
       "      <td>13</td>\n",
       "    </tr>\n",
       "    <tr>\n",
       "      <th>7</th>\n",
       "      <td>Add a subscription form to all the main pages. This will help you compile a mailing list</td>\n",
       "      <td>10</td>\n",
       "      <td>7</td>\n",
       "      <td>8</td>\n",
       "      <td>5</td>\n",
       "      <td>11</td>\n",
       "    </tr>\n",
       "    <tr>\n",
       "      <th>3</th>\n",
       "      <td>Change the category structure. This will increase conversion since users will find the products they want more quickly</td>\n",
       "      <td>8</td>\n",
       "      <td>3</td>\n",
       "      <td>3</td>\n",
       "      <td>8</td>\n",
       "      <td>1</td>\n",
       "    </tr>\n",
       "    <tr>\n",
       "      <th>4</th>\n",
       "      <td>Change the background color on the main page. This will increase user engagement</td>\n",
       "      <td>3</td>\n",
       "      <td>1</td>\n",
       "      <td>1</td>\n",
       "      <td>1</td>\n",
       "      <td>1</td>\n",
       "    </tr>\n",
       "    <tr>\n",
       "      <th>5</th>\n",
       "      <td>Add a customer review page. This will increase the number of orders</td>\n",
       "      <td>3</td>\n",
       "      <td>2</td>\n",
       "      <td>2</td>\n",
       "      <td>3</td>\n",
       "      <td>1</td>\n",
       "    </tr>\n",
       "  </tbody>\n",
       "</table>\n",
       "</div>"
      ],
      "text/plain": [
       "                                                                                                               hypothesis  \\\n",
       "6                                 Show banners with current offers and sales on the main page. This will boost conversion   \n",
       "2          Add product recommendation blocks to the store's site. This will increase conversion and average purchase size   \n",
       "1                                                       Launch your own delivery service. This will shorten delivery time   \n",
       "8                                                        Launch a promotion that gives users discounts on their birthdays   \n",
       "0                                             Add two new channels for attracting traffic. This will bring 30% more users   \n",
       "7                                Add a subscription form to all the main pages. This will help you compile a mailing list   \n",
       "3  Change the category structure. This will increase conversion since users will find the products they want more quickly   \n",
       "4                                        Change the background color on the main page. This will increase user engagement   \n",
       "5                                                     Add a customer review page. This will increase the number of orders   \n",
       "\n",
       "   reach  impact  confidence  effort ICE  \n",
       "6      5       3           8       3   8  \n",
       "2      8       3           7       3   7  \n",
       "1      2       5           4      10   2  \n",
       "8      1       9           9       5  16  \n",
       "0      3      10           8       6  13  \n",
       "7     10       7           8       5  11  \n",
       "3      8       3           3       8   1  \n",
       "4      3       1           1       1   1  \n",
       "5      3       2           2       3   1  "
      ]
     },
     "execution_count": 29,
     "metadata": {},
     "output_type": "execute_result"
    }
   ],
   "source": [
    "pd.options.display.max_colwidth = 210\n",
    "hypotheses.sort_values(by='ICE', ascending=False)"
   ]
  },
  {
   "cell_type": "markdown",
   "id": "05a0adda",
   "metadata": {},
   "source": [
    " ### RICE framework to prioritize hypotheses"
   ]
  },
  {
   "cell_type": "code",
   "execution_count": 30,
   "id": "05dfc7a2",
   "metadata": {},
   "outputs": [],
   "source": [
    "hypotheses['RICE']=(hypotheses['reach']*hypotheses['impact']*hypotheses['confidence']/hypotheses['effort']).map(lambda x:\"{0:.0f}\".format(x))"
   ]
  },
  {
   "cell_type": "code",
   "execution_count": 31,
   "id": "e74263f5",
   "metadata": {},
   "outputs": [
    {
     "data": {
      "text/html": [
       "<div>\n",
       "<style scoped>\n",
       "    .dataframe tbody tr th:only-of-type {\n",
       "        vertical-align: middle;\n",
       "    }\n",
       "\n",
       "    .dataframe tbody tr th {\n",
       "        vertical-align: top;\n",
       "    }\n",
       "\n",
       "    .dataframe thead th {\n",
       "        text-align: right;\n",
       "    }\n",
       "</style>\n",
       "<table border=\"1\" class=\"dataframe\">\n",
       "  <thead>\n",
       "    <tr style=\"text-align: right;\">\n",
       "      <th></th>\n",
       "      <th>hypothesis</th>\n",
       "      <th>reach</th>\n",
       "      <th>impact</th>\n",
       "      <th>confidence</th>\n",
       "      <th>effort</th>\n",
       "      <th>ICE</th>\n",
       "      <th>RICE</th>\n",
       "    </tr>\n",
       "  </thead>\n",
       "  <tbody>\n",
       "    <tr>\n",
       "      <th>3</th>\n",
       "      <td>Change the category structure. This will increase conversion since users will find the products they want more quickly</td>\n",
       "      <td>8</td>\n",
       "      <td>3</td>\n",
       "      <td>3</td>\n",
       "      <td>8</td>\n",
       "      <td>1</td>\n",
       "      <td>9</td>\n",
       "    </tr>\n",
       "    <tr>\n",
       "      <th>2</th>\n",
       "      <td>Add product recommendation blocks to the store's site. This will increase conversion and average purchase size</td>\n",
       "      <td>8</td>\n",
       "      <td>3</td>\n",
       "      <td>7</td>\n",
       "      <td>3</td>\n",
       "      <td>7</td>\n",
       "      <td>56</td>\n",
       "    </tr>\n",
       "    <tr>\n",
       "      <th>0</th>\n",
       "      <td>Add two new channels for attracting traffic. This will bring 30% more users</td>\n",
       "      <td>3</td>\n",
       "      <td>10</td>\n",
       "      <td>8</td>\n",
       "      <td>6</td>\n",
       "      <td>13</td>\n",
       "      <td>40</td>\n",
       "    </tr>\n",
       "    <tr>\n",
       "      <th>6</th>\n",
       "      <td>Show banners with current offers and sales on the main page. This will boost conversion</td>\n",
       "      <td>5</td>\n",
       "      <td>3</td>\n",
       "      <td>8</td>\n",
       "      <td>3</td>\n",
       "      <td>8</td>\n",
       "      <td>40</td>\n",
       "    </tr>\n",
       "    <tr>\n",
       "      <th>1</th>\n",
       "      <td>Launch your own delivery service. This will shorten delivery time</td>\n",
       "      <td>2</td>\n",
       "      <td>5</td>\n",
       "      <td>4</td>\n",
       "      <td>10</td>\n",
       "      <td>2</td>\n",
       "      <td>4</td>\n",
       "    </tr>\n",
       "    <tr>\n",
       "      <th>5</th>\n",
       "      <td>Add a customer review page. This will increase the number of orders</td>\n",
       "      <td>3</td>\n",
       "      <td>2</td>\n",
       "      <td>2</td>\n",
       "      <td>3</td>\n",
       "      <td>1</td>\n",
       "      <td>4</td>\n",
       "    </tr>\n",
       "    <tr>\n",
       "      <th>4</th>\n",
       "      <td>Change the background color on the main page. This will increase user engagement</td>\n",
       "      <td>3</td>\n",
       "      <td>1</td>\n",
       "      <td>1</td>\n",
       "      <td>1</td>\n",
       "      <td>1</td>\n",
       "      <td>3</td>\n",
       "    </tr>\n",
       "    <tr>\n",
       "      <th>8</th>\n",
       "      <td>Launch a promotion that gives users discounts on their birthdays</td>\n",
       "      <td>1</td>\n",
       "      <td>9</td>\n",
       "      <td>9</td>\n",
       "      <td>5</td>\n",
       "      <td>16</td>\n",
       "      <td>16</td>\n",
       "    </tr>\n",
       "    <tr>\n",
       "      <th>7</th>\n",
       "      <td>Add a subscription form to all the main pages. This will help you compile a mailing list</td>\n",
       "      <td>10</td>\n",
       "      <td>7</td>\n",
       "      <td>8</td>\n",
       "      <td>5</td>\n",
       "      <td>11</td>\n",
       "      <td>112</td>\n",
       "    </tr>\n",
       "  </tbody>\n",
       "</table>\n",
       "</div>"
      ],
      "text/plain": [
       "                                                                                                               hypothesis  \\\n",
       "3  Change the category structure. This will increase conversion since users will find the products they want more quickly   \n",
       "2          Add product recommendation blocks to the store's site. This will increase conversion and average purchase size   \n",
       "0                                             Add two new channels for attracting traffic. This will bring 30% more users   \n",
       "6                                 Show banners with current offers and sales on the main page. This will boost conversion   \n",
       "1                                                       Launch your own delivery service. This will shorten delivery time   \n",
       "5                                                     Add a customer review page. This will increase the number of orders   \n",
       "4                                        Change the background color on the main page. This will increase user engagement   \n",
       "8                                                        Launch a promotion that gives users discounts on their birthdays   \n",
       "7                                Add a subscription form to all the main pages. This will help you compile a mailing list   \n",
       "\n",
       "   reach  impact  confidence  effort ICE RICE  \n",
       "3      8       3           3       8   1    9  \n",
       "2      8       3           7       3   7   56  \n",
       "0      3      10           8       6  13   40  \n",
       "6      5       3           8       3   8   40  \n",
       "1      2       5           4      10   2    4  \n",
       "5      3       2           2       3   1    4  \n",
       "4      3       1           1       1   1    3  \n",
       "8      1       9           9       5  16   16  \n",
       "7     10       7           8       5  11  112  "
      ]
     },
     "execution_count": 31,
     "metadata": {},
     "output_type": "execute_result"
    }
   ],
   "source": [
    "pd.options.display.max_colwidth = 210\n",
    "hypotheses.sort_values(by='RICE', ascending=False)"
   ]
  },
  {
   "cell_type": "markdown",
   "id": "e2a376da",
   "metadata": {},
   "source": [
    "### Consilusions"
   ]
  },
  {
   "cell_type": "markdown",
   "id": "28ff648f",
   "metadata": {},
   "source": [
    "  ***When prioritizing hypotheses for ICE and RICE, we see different results, since RICE takes into account an additional parameter - reach.***<br> \n",
    "  \n",
    "And if we take **hypothesis 9 about the birthday**, then in the **ICE prioritization it is on the top line**, and in the **RICE it drops to the fifth**, because, despite the high parameters of impact, confidence and little effort, it has a very low reach, because each client this The action will draw only once a year on his birthday. Thus, the increase in the number of orders will not be as strong as it might seem based only on the ICE rating. However, if the task is not to increase orders at the moment, but to increase the activity of old customers, \"remind yourself\" and possibly increase the number of orders in the future, then the ICE rating will do just fine.<br>\n",
    "\n",
    "If we consider **hypothesis 1 about adding two new channels**, then it is quite **high in both ratings**, since an increase in additional customers by 30% is a fairly large reach.<br>\n",
    "\n",
    "Also quite **high in both ratings**, in ICE in the first place, in RICE in second place is **hypothesis 8 about the addition of subscription forms**. This happened because it has high coverage - all site users will see this form, high impact - because when adding the form to all pages of the site, the user will see the form all the time and think about subscribing and high confidence, since apparently it has already been analyzes of customer behavior when adding subscription forms earlier or in other companies.<br>\n",
    "\n",
    "In the **RICE ranking, hypothesis 3 about adding product recommendations** to the site is in **second place**, because the reach of this hypothesis is high. This is due to the fact that all site users will see these blocks. But on the other hand, in the **ICE rating**, this hypothesis is quite low - **in fifth place**, since the impact of this hypothesis is quite low - after all, not many customers, having seen the recommendations, immediately rush to place an order.<br>\n",
    "\n",
    "**The lowest position in both ratings** belongs to **hypothesis 5 about background change**. Since this hypothesis has very low scores: coverage because most customers will not pay attention to the background color, impact because it is unlikely that someone will change user behavior due to the background color, certainty because there are no studies on the amount people who pay attention and change their customer behavior due to the background on the site."
   ]
  },
  {
   "cell_type": "markdown",
   "id": "0573f015",
   "metadata": {},
   "source": [
    "## Part 2. A/B Test Analysis"
   ]
  },
  {
   "cell_type": "markdown",
   "id": "9f0a7e24",
   "metadata": {},
   "source": [
    "### Lets graph cumulative revenue by group. "
   ]
  },
  {
   "cell_type": "code",
   "execution_count": 32,
   "id": "93ac373a",
   "metadata": {},
   "outputs": [],
   "source": [
    "#to create a DataFrame called with unique paired 'date' and 'group'\n",
    "datesGroups=orders[['date','group']].drop_duplicates()"
   ]
  },
  {
   "cell_type": "markdown",
   "id": "5e7fad43",
   "metadata": {},
   "source": [
    "Let's collect the aggregated cumulative daily data on orders"
   ]
  },
  {
   "cell_type": "code",
   "execution_count": 33,
   "id": "ad46c376",
   "metadata": {},
   "outputs": [],
   "source": [
    "ordersAggregated=datesGroups.apply(lambda x:orders[np.logical_and(orders['date'] <= x['date'],orders['group'] == x['group'])].agg({'date' : 'max', 'group' : 'max', 'transactionId' : pd.Series.nunique, 'visitorId' : pd.Series.nunique, 'revenue' : 'sum'}), axis=1).sort_values(by=['date','group'])"
   ]
  },
  {
   "cell_type": "raw",
   "id": "ab7ad546",
   "metadata": {},
   "source": [
    "Let's collect the aggregated cumulative daily data on visits"
   ]
  },
  {
   "cell_type": "code",
   "execution_count": 34,
   "id": "000761bc",
   "metadata": {},
   "outputs": [],
   "source": [
    "visitsAggregated=datesGroups.apply(lambda x:visits[np.logical_and(visits['date'] <= x['date'],visits['group'] == x['group'])].agg({'date' : 'max', 'group' : 'max', 'visits' : 'sum'}), axis=1).sort_values(by=['date','group'])"
   ]
  },
  {
   "cell_type": "code",
   "execution_count": 35,
   "id": "0689ff5b",
   "metadata": {},
   "outputs": [],
   "source": [
    "cumulativeData = ordersAggregated.merge(visitsAggregated, left_on=['date', 'group'], right_on=['date', 'group'])"
   ]
  },
  {
   "cell_type": "code",
   "execution_count": 36,
   "id": "bff451e3",
   "metadata": {},
   "outputs": [],
   "source": [
    "cumulativeData.columns=['date','group','transactions','buyers','revenue','visits']"
   ]
  },
  {
   "cell_type": "code",
   "execution_count": 37,
   "id": "851b7777",
   "metadata": {},
   "outputs": [],
   "source": [
    "cumulativeRevenueA=cumulativeData[cumulativeData['group']=='A'][['date','revenue','transactions']]\n",
    "cumulativeRevenueB=cumulativeData[cumulativeData['group']=='B'][['date','revenue','transactions']]"
   ]
  },
  {
   "cell_type": "code",
   "execution_count": 38,
   "id": "1cfd1c1c",
   "metadata": {},
   "outputs": [
    {
     "data": {
      "image/png": "[encoded data removed]",
      "text/plain": [
       "<Figure size 432x288 with 1 Axes>"
      ]
     },
     "metadata": {
      "needs_background": "light"
     },
     "output_type": "display_data"
    }
   ],
   "source": [
    "plt.plot(cumulativeRevenueA['date'],cumulativeRevenueA['revenue'],label='A')\n",
    "plt.plot(cumulativeRevenueB['date'],cumulativeRevenueB['revenue'],label='B')\n",
    "plt.legend() \n",
    "plt.title('Graph cumulative revenue by group')\n",
    "plt.show()"
   ]
  },
  {
   "cell_type": "markdown",
   "id": "cc9382d8",
   "metadata": {},
   "source": [
    "***Conclusions:*** Cumulative revenue of group B  is bigger than cumulative revenue of group A, except of testing begining . And with time this difference increase. But in group B we see spike in revenue, this may imply either a surge in the number of orders or the presence of very expensive orders in the sample. That could be outliers."
   ]
  },
  {
   "cell_type": "markdown",
   "id": "15a64986",
   "metadata": {},
   "source": [
    "### Lets graph cumulative average order size by group."
   ]
  },
  {
   "cell_type": "code",
   "execution_count": 39,
   "id": "ad43e488",
   "metadata": {},
   "outputs": [
    {
     "data": {
      "image/png": "[encoded data removed]",
      "text/plain": [
       "<Figure size 432x288 with 1 Axes>"
      ]
     },
     "metadata": {
      "needs_background": "light"
     },
     "output_type": "display_data"
    }
   ],
   "source": [
    "plt.plot(cumulativeRevenueA['date'], cumulativeRevenueA['revenue']/cumulativeRevenueA['transactions'], label='A')\n",
    "plt.plot(cumulativeRevenueB['date'], cumulativeRevenueB['revenue']/cumulativeRevenueB['transactions'], label='B')\n",
    "plt.legend()\n",
    "plt.title('Graph cumulative average order size by group')\n",
    "plt.show()"
   ]
  },
  {
   "cell_type": "markdown",
   "id": "a7323888",
   "metadata": {},
   "source": [
    "***Conclusions:*** Cumulative average order size is unstability in both groups, especialy in group B in second parts of testing.\n",
    "It may have been due to the presence of large, expensive orders. We need more data on this group to find the true average purchase size and establish its level."
   ]
  },
  {
   "cell_type": "markdown",
   "id": "18edbb70",
   "metadata": {},
   "source": [
    "### Graph the relative difference in cumulative average order size for group B compared with group A."
   ]
  },
  {
   "cell_type": "code",
   "execution_count": 40,
   "id": "cea418db",
   "metadata": {},
   "outputs": [
    {
     "data": {
      "text/html": [
       "<div>\n",
       "<style scoped>\n",
       "    .dataframe tbody tr th:only-of-type {\n",
       "        vertical-align: middle;\n",
       "    }\n",
       "\n",
       "    .dataframe tbody tr th {\n",
       "        vertical-align: top;\n",
       "    }\n",
       "\n",
       "    .dataframe thead th {\n",
       "        text-align: right;\n",
       "    }\n",
       "</style>\n",
       "<table border=\"1\" class=\"dataframe\">\n",
       "  <thead>\n",
       "    <tr style=\"text-align: right;\">\n",
       "      <th></th>\n",
       "      <th>date</th>\n",
       "      <th>revenueA</th>\n",
       "      <th>transactionsA</th>\n",
       "      <th>revenueB</th>\n",
       "      <th>transactionsB</th>\n",
       "    </tr>\n",
       "  </thead>\n",
       "  <tbody>\n",
       "    <tr>\n",
       "      <th>0</th>\n",
       "      <td>2019-08-01</td>\n",
       "      <td>2266.6</td>\n",
       "      <td>23</td>\n",
       "      <td>967.2</td>\n",
       "      <td>17</td>\n",
       "    </tr>\n",
       "    <tr>\n",
       "      <th>1</th>\n",
       "      <td>2019-08-02</td>\n",
       "      <td>3734.9</td>\n",
       "      <td>42</td>\n",
       "      <td>3535.3</td>\n",
       "      <td>40</td>\n",
       "    </tr>\n",
       "    <tr>\n",
       "      <th>2</th>\n",
       "      <td>2019-08-03</td>\n",
       "      <td>5550.1</td>\n",
       "      <td>66</td>\n",
       "      <td>4606.9</td>\n",
       "      <td>54</td>\n",
       "    </tr>\n",
       "    <tr>\n",
       "      <th>3</th>\n",
       "      <td>2019-08-04</td>\n",
       "      <td>6225.6</td>\n",
       "      <td>77</td>\n",
       "      <td>6138.5</td>\n",
       "      <td>68</td>\n",
       "    </tr>\n",
       "    <tr>\n",
       "      <th>4</th>\n",
       "      <td>2019-08-05</td>\n",
       "      <td>7623.6</td>\n",
       "      <td>99</td>\n",
       "      <td>7587.8</td>\n",
       "      <td>89</td>\n",
       "    </tr>\n",
       "  </tbody>\n",
       "</table>\n",
       "</div>"
      ],
      "text/plain": [
       "        date  revenueA  transactionsA  revenueB  transactionsB\n",
       "0 2019-08-01    2266.6             23     967.2             17\n",
       "1 2019-08-02    3734.9             42    3535.3             40\n",
       "2 2019-08-03    5550.1             66    4606.9             54\n",
       "3 2019-08-04    6225.6             77    6138.5             68\n",
       "4 2019-08-05    7623.6             99    7587.8             89"
      ]
     },
     "execution_count": 40,
     "metadata": {},
     "output_type": "execute_result"
    }
   ],
   "source": [
    "mergedCumulativeRevenue=cumulativeRevenueA.merge(cumulativeRevenueB, left_on='date', right_on='date', how='left', suffixes=['A', 'B'])\n",
    "mergedCumulativeRevenue.head()"
   ]
  },
  {
   "cell_type": "code",
   "execution_count": 41,
   "id": "ad95403a",
   "metadata": {},
   "outputs": [
    {
     "data": {
      "image/png": "[encoded data removed]",
      "text/plain": [
       "<Figure size 432x288 with 1 Axes>"
      ]
     },
     "metadata": {
      "needs_background": "light"
     },
     "output_type": "display_data"
    }
   ],
   "source": [
    "plt.plot(mergedCumulativeRevenue['date'],(mergedCumulativeRevenue['revenueB']/mergedCumulativeRevenue['transactionsB'])/(mergedCumulativeRevenue['revenueA']/mergedCumulativeRevenue['transactionsA'])-1)\n",
    "plt.axhline(y=0, color='black', linestyle='--') \n",
    "plt.title('Graph the relative difference in cumulative average order size for group B compared with group A')\n",
    "plt.show()"
   ]
  },
  {
   "cell_type": "markdown",
   "id": "f62e7ebf",
   "metadata": {},
   "source": [
    "***Conclusions:*** At several points the difference between the segments spikes. This means there must be some big orders and outliers."
   ]
  },
  {
   "cell_type": "markdown",
   "id": "4970d958",
   "metadata": {},
   "source": [
    "### Graph the daily conversion rates of the two groups."
   ]
  },
  {
   "cell_type": "markdown",
   "id": "c6df409b",
   "metadata": {},
   "source": [
    "#### Cummulitive daily conversion rates."
   ]
  },
  {
   "cell_type": "code",
   "execution_count": 42,
   "id": "4c3a069b",
   "metadata": {},
   "outputs": [
    {
     "data": {
      "text/html": [
       "<div>\n",
       "<style scoped>\n",
       "    .dataframe tbody tr th:only-of-type {\n",
       "        vertical-align: middle;\n",
       "    }\n",
       "\n",
       "    .dataframe tbody tr th {\n",
       "        vertical-align: top;\n",
       "    }\n",
       "\n",
       "    .dataframe thead th {\n",
       "        text-align: right;\n",
       "    }\n",
       "</style>\n",
       "<table border=\"1\" class=\"dataframe\">\n",
       "  <thead>\n",
       "    <tr style=\"text-align: right;\">\n",
       "      <th></th>\n",
       "      <th>date</th>\n",
       "      <th>group</th>\n",
       "      <th>transactions</th>\n",
       "      <th>buyers</th>\n",
       "      <th>revenue</th>\n",
       "      <th>visits</th>\n",
       "      <th>conversion</th>\n",
       "    </tr>\n",
       "  </thead>\n",
       "  <tbody>\n",
       "    <tr>\n",
       "      <th>0</th>\n",
       "      <td>2019-08-01</td>\n",
       "      <td>A</td>\n",
       "      <td>23</td>\n",
       "      <td>19</td>\n",
       "      <td>2266.6</td>\n",
       "      <td>719</td>\n",
       "      <td>0.031989</td>\n",
       "    </tr>\n",
       "    <tr>\n",
       "      <th>1</th>\n",
       "      <td>2019-08-01</td>\n",
       "      <td>B</td>\n",
       "      <td>17</td>\n",
       "      <td>17</td>\n",
       "      <td>967.2</td>\n",
       "      <td>713</td>\n",
       "      <td>0.023843</td>\n",
       "    </tr>\n",
       "    <tr>\n",
       "      <th>2</th>\n",
       "      <td>2019-08-02</td>\n",
       "      <td>A</td>\n",
       "      <td>42</td>\n",
       "      <td>36</td>\n",
       "      <td>3734.9</td>\n",
       "      <td>1338</td>\n",
       "      <td>0.031390</td>\n",
       "    </tr>\n",
       "    <tr>\n",
       "      <th>3</th>\n",
       "      <td>2019-08-02</td>\n",
       "      <td>B</td>\n",
       "      <td>40</td>\n",
       "      <td>39</td>\n",
       "      <td>3535.3</td>\n",
       "      <td>1294</td>\n",
       "      <td>0.030912</td>\n",
       "    </tr>\n",
       "    <tr>\n",
       "      <th>4</th>\n",
       "      <td>2019-08-03</td>\n",
       "      <td>A</td>\n",
       "      <td>66</td>\n",
       "      <td>60</td>\n",
       "      <td>5550.1</td>\n",
       "      <td>1845</td>\n",
       "      <td>0.035772</td>\n",
       "    </tr>\n",
       "  </tbody>\n",
       "</table>\n",
       "</div>"
      ],
      "text/plain": [
       "        date group  transactions  buyers  revenue  visits  conversion\n",
       "0 2019-08-01     A            23      19   2266.6     719    0.031989\n",
       "1 2019-08-01     B            17      17    967.2     713    0.023843\n",
       "2 2019-08-02     A            42      36   3734.9    1338    0.031390\n",
       "3 2019-08-02     B            40      39   3535.3    1294    0.030912\n",
       "4 2019-08-03     A            66      60   5550.1    1845    0.035772"
      ]
     },
     "execution_count": 42,
     "metadata": {},
     "output_type": "execute_result"
    }
   ],
   "source": [
    "cumulativeData['conversion']=cumulativeData['transactions']/cumulativeData['visits']\n",
    "cumulativeData.head()"
   ]
  },
  {
   "cell_type": "code",
   "execution_count": 43,
   "id": "6649cd75",
   "metadata": {},
   "outputs": [],
   "source": [
    "cumulativeDataA=cumulativeData[cumulativeData['group']=='A']\n",
    "cumulativeDataB=cumulativeData[cumulativeData['group']=='B']"
   ]
  },
  {
   "cell_type": "code",
   "execution_count": 44,
   "id": "59fc541b",
   "metadata": {},
   "outputs": [
    {
     "data": {
      "image/png": "[encoded data removed]",
      "text/plain": [
       "<Figure size 432x288 with 1 Axes>"
      ]
     },
     "metadata": {
      "needs_background": "light"
     },
     "output_type": "display_data"
    }
   ],
   "source": [
    "plt.plot(cumulativeDataA['date'],cumulativeDataA['conversion'],label='A')\n",
    "plt.plot(cumulativeDataB['date'],cumulativeDataB['conversion'],label='B')\n",
    "plt.legend()\n",
    "plt.axis([pd.to_datetime('2019-08-01'), pd.to_datetime('2019-09-01'), 0.025, 0.04])\n",
    "plt.title('Graph the cumulative daily conversion rates')\n",
    "plt.show()"
   ]
  },
  {
   "cell_type": "markdown",
   "id": "3ad505bf",
   "metadata": {},
   "source": [
    "***Conclusions:*** Conversion rate of group B is bigger than of group A in testing, except beginning. In the beginning conversion rate of group A is high, but after that it is sharp decrease."
   ]
  },
  {
   "cell_type": "markdown",
   "id": "b7e51eaf",
   "metadata": {},
   "source": [
    "#### The daily conversion rates."
   ]
  },
  {
   "cell_type": "code",
   "execution_count": 45,
   "id": "d174d23b",
   "metadata": {},
   "outputs": [
    {
     "data": {
      "text/html": [
       "<div>\n",
       "<style scoped>\n",
       "    .dataframe tbody tr th:only-of-type {\n",
       "        vertical-align: middle;\n",
       "    }\n",
       "\n",
       "    .dataframe tbody tr th {\n",
       "        vertical-align: top;\n",
       "    }\n",
       "\n",
       "    .dataframe thead th {\n",
       "        text-align: right;\n",
       "    }\n",
       "</style>\n",
       "<table border=\"1\" class=\"dataframe\">\n",
       "  <thead>\n",
       "    <tr style=\"text-align: right;\">\n",
       "      <th></th>\n",
       "      <th>date</th>\n",
       "      <th>group</th>\n",
       "      <th>buyers</th>\n",
       "      <th>transactions</th>\n",
       "      <th>revenue</th>\n",
       "      <th>visits</th>\n",
       "    </tr>\n",
       "  </thead>\n",
       "  <tbody>\n",
       "    <tr>\n",
       "      <th>0</th>\n",
       "      <td>2019-08-01</td>\n",
       "      <td>A</td>\n",
       "      <td>19</td>\n",
       "      <td>23</td>\n",
       "      <td>2266.6</td>\n",
       "      <td>16537</td>\n",
       "    </tr>\n",
       "    <tr>\n",
       "      <th>1</th>\n",
       "      <td>2019-08-01</td>\n",
       "      <td>B</td>\n",
       "      <td>17</td>\n",
       "      <td>17</td>\n",
       "      <td>967.2</td>\n",
       "      <td>12121</td>\n",
       "    </tr>\n",
       "    <tr>\n",
       "      <th>2</th>\n",
       "      <td>2019-08-02</td>\n",
       "      <td>A</td>\n",
       "      <td>18</td>\n",
       "      <td>19</td>\n",
       "      <td>1468.3</td>\n",
       "      <td>11761</td>\n",
       "    </tr>\n",
       "    <tr>\n",
       "      <th>3</th>\n",
       "      <td>2019-08-02</td>\n",
       "      <td>B</td>\n",
       "      <td>22</td>\n",
       "      <td>23</td>\n",
       "      <td>2568.1</td>\n",
       "      <td>13363</td>\n",
       "    </tr>\n",
       "    <tr>\n",
       "      <th>4</th>\n",
       "      <td>2019-08-03</td>\n",
       "      <td>A</td>\n",
       "      <td>24</td>\n",
       "      <td>24</td>\n",
       "      <td>1815.2</td>\n",
       "      <td>12168</td>\n",
       "    </tr>\n",
       "  </tbody>\n",
       "</table>\n",
       "</div>"
      ],
      "text/plain": [
       "        date group  buyers  transactions  revenue  visits\n",
       "0 2019-08-01     A      19            23   2266.6   16537\n",
       "1 2019-08-01     B      17            17    967.2   12121\n",
       "2 2019-08-02     A      18            19   1468.3   11761\n",
       "3 2019-08-02     B      22            23   2568.1   13363\n",
       "4 2019-08-03     A      24            24   1815.2   12168"
      ]
     },
     "execution_count": 45,
     "metadata": {},
     "output_type": "execute_result"
    }
   ],
   "source": [
    "Data = orders.merge(visits, left_on=['date', 'group'], right_on=['date', 'group']).groupby(['date','group']).agg({'visitorId':pd.Series.nunique,'transactionId':pd.Series.nunique,'revenue':sum,'visits':sum}).reset_index()\n",
    "Data.columns=['date','group','buyers','transactions','revenue','visits']\n",
    "Data.head()"
   ]
  },
  {
   "cell_type": "code",
   "execution_count": 46,
   "id": "41c4e839",
   "metadata": {},
   "outputs": [],
   "source": [
    "#deviding data on groups\n",
    "DataA=Data[Data['group']=='A']\n",
    "DataB=Data[Data['group']=='B']"
   ]
  },
  {
   "cell_type": "code",
   "execution_count": 47,
   "id": "06d34d31",
   "metadata": {},
   "outputs": [
    {
     "data": {
      "text/html": [
       "<div>\n",
       "<style scoped>\n",
       "    .dataframe tbody tr th:only-of-type {\n",
       "        vertical-align: middle;\n",
       "    }\n",
       "\n",
       "    .dataframe tbody tr th {\n",
       "        vertical-align: top;\n",
       "    }\n",
       "\n",
       "    .dataframe thead th {\n",
       "        text-align: right;\n",
       "    }\n",
       "</style>\n",
       "<table border=\"1\" class=\"dataframe\">\n",
       "  <thead>\n",
       "    <tr style=\"text-align: right;\">\n",
       "      <th></th>\n",
       "      <th>date</th>\n",
       "      <th>group</th>\n",
       "      <th>buyers</th>\n",
       "      <th>transactions</th>\n",
       "      <th>revenue</th>\n",
       "      <th>visits</th>\n",
       "      <th>conversion</th>\n",
       "    </tr>\n",
       "  </thead>\n",
       "  <tbody>\n",
       "    <tr>\n",
       "      <th>0</th>\n",
       "      <td>2019-08-01</td>\n",
       "      <td>A</td>\n",
       "      <td>19</td>\n",
       "      <td>23</td>\n",
       "      <td>2266.6</td>\n",
       "      <td>16537</td>\n",
       "      <td>0.001149</td>\n",
       "    </tr>\n",
       "    <tr>\n",
       "      <th>2</th>\n",
       "      <td>2019-08-02</td>\n",
       "      <td>A</td>\n",
       "      <td>18</td>\n",
       "      <td>19</td>\n",
       "      <td>1468.3</td>\n",
       "      <td>11761</td>\n",
       "      <td>0.001530</td>\n",
       "    </tr>\n",
       "    <tr>\n",
       "      <th>4</th>\n",
       "      <td>2019-08-03</td>\n",
       "      <td>A</td>\n",
       "      <td>24</td>\n",
       "      <td>24</td>\n",
       "      <td>1815.2</td>\n",
       "      <td>12168</td>\n",
       "      <td>0.001972</td>\n",
       "    </tr>\n",
       "    <tr>\n",
       "      <th>6</th>\n",
       "      <td>2019-08-04</td>\n",
       "      <td>A</td>\n",
       "      <td>11</td>\n",
       "      <td>11</td>\n",
       "      <td>675.5</td>\n",
       "      <td>7887</td>\n",
       "      <td>0.001395</td>\n",
       "    </tr>\n",
       "    <tr>\n",
       "      <th>8</th>\n",
       "      <td>2019-08-05</td>\n",
       "      <td>A</td>\n",
       "      <td>22</td>\n",
       "      <td>22</td>\n",
       "      <td>1398.0</td>\n",
       "      <td>16632</td>\n",
       "      <td>0.001323</td>\n",
       "    </tr>\n",
       "  </tbody>\n",
       "</table>\n",
       "</div>"
      ],
      "text/plain": [
       "        date group  buyers  transactions  revenue  visits  conversion\n",
       "0 2019-08-01     A      19            23   2266.6   16537    0.001149\n",
       "2 2019-08-02     A      18            19   1468.3   11761    0.001530\n",
       "4 2019-08-03     A      24            24   1815.2   12168    0.001972\n",
       "6 2019-08-04     A      11            11    675.5    7887    0.001395\n",
       "8 2019-08-05     A      22            22   1398.0   16632    0.001323"
      ]
     },
     "execution_count": 47,
     "metadata": {},
     "output_type": "execute_result"
    }
   ],
   "source": [
    "DataA['conversion']=DataA['buyers']/DataA['visits']\n",
    "DataA.head()"
   ]
  },
  {
   "cell_type": "code",
   "execution_count": 48,
   "id": "6ffa266a",
   "metadata": {},
   "outputs": [
    {
     "data": {
      "text/html": [
       "<div>\n",
       "<style scoped>\n",
       "    .dataframe tbody tr th:only-of-type {\n",
       "        vertical-align: middle;\n",
       "    }\n",
       "\n",
       "    .dataframe tbody tr th {\n",
       "        vertical-align: top;\n",
       "    }\n",
       "\n",
       "    .dataframe thead th {\n",
       "        text-align: right;\n",
       "    }\n",
       "</style>\n",
       "<table border=\"1\" class=\"dataframe\">\n",
       "  <thead>\n",
       "    <tr style=\"text-align: right;\">\n",
       "      <th></th>\n",
       "      <th>date</th>\n",
       "      <th>group</th>\n",
       "      <th>buyers</th>\n",
       "      <th>transactions</th>\n",
       "      <th>revenue</th>\n",
       "      <th>visits</th>\n",
       "      <th>conversion</th>\n",
       "    </tr>\n",
       "  </thead>\n",
       "  <tbody>\n",
       "    <tr>\n",
       "      <th>1</th>\n",
       "      <td>2019-08-01</td>\n",
       "      <td>B</td>\n",
       "      <td>17</td>\n",
       "      <td>17</td>\n",
       "      <td>967.2</td>\n",
       "      <td>12121</td>\n",
       "      <td>0.001403</td>\n",
       "    </tr>\n",
       "    <tr>\n",
       "      <th>3</th>\n",
       "      <td>2019-08-02</td>\n",
       "      <td>B</td>\n",
       "      <td>22</td>\n",
       "      <td>23</td>\n",
       "      <td>2568.1</td>\n",
       "      <td>13363</td>\n",
       "      <td>0.001646</td>\n",
       "    </tr>\n",
       "    <tr>\n",
       "      <th>5</th>\n",
       "      <td>2019-08-03</td>\n",
       "      <td>B</td>\n",
       "      <td>14</td>\n",
       "      <td>14</td>\n",
       "      <td>1071.6</td>\n",
       "      <td>7126</td>\n",
       "      <td>0.001965</td>\n",
       "    </tr>\n",
       "    <tr>\n",
       "      <th>7</th>\n",
       "      <td>2019-08-04</td>\n",
       "      <td>B</td>\n",
       "      <td>13</td>\n",
       "      <td>14</td>\n",
       "      <td>1531.6</td>\n",
       "      <td>10780</td>\n",
       "      <td>0.001206</td>\n",
       "    </tr>\n",
       "    <tr>\n",
       "      <th>9</th>\n",
       "      <td>2019-08-05</td>\n",
       "      <td>B</td>\n",
       "      <td>21</td>\n",
       "      <td>21</td>\n",
       "      <td>1449.3</td>\n",
       "      <td>14847</td>\n",
       "      <td>0.001414</td>\n",
       "    </tr>\n",
       "  </tbody>\n",
       "</table>\n",
       "</div>"
      ],
      "text/plain": [
       "        date group  buyers  transactions  revenue  visits  conversion\n",
       "1 2019-08-01     B      17            17    967.2   12121    0.001403\n",
       "3 2019-08-02     B      22            23   2568.1   13363    0.001646\n",
       "5 2019-08-03     B      14            14   1071.6    7126    0.001965\n",
       "7 2019-08-04     B      13            14   1531.6   10780    0.001206\n",
       "9 2019-08-05     B      21            21   1449.3   14847    0.001414"
      ]
     },
     "execution_count": 48,
     "metadata": {},
     "output_type": "execute_result"
    }
   ],
   "source": [
    "DataB['conversion']=DataB['buyers']/DataB['visits']\n",
    "DataB.head()"
   ]
  },
  {
   "cell_type": "code",
   "execution_count": 49,
   "id": "ce737d5b",
   "metadata": {},
   "outputs": [
    {
     "data": {
      "image/png": "[encoded data removed]",
      "text/plain": [
       "<Figure size 432x288 with 1 Axes>"
      ]
     },
     "metadata": {
      "needs_background": "light"
     },
     "output_type": "display_data"
    }
   ],
   "source": [
    "plt.plot(DataA['date'],DataA['conversion'],label='A')\n",
    "plt.plot(DataB['date'],DataB['conversion'],label='B')\n",
    "plt.legend()\n",
    "plt.title('Graph the daily conversion rates')\n",
    "plt.show()"
   ]
  },
  {
   "cell_type": "markdown",
   "id": "606a024a",
   "metadata": {},
   "source": [
    "***Conclusions:*** The graph shows that the daily conversion of the groups corresponds to each other. The groups have the same peaks but the daily conversion of group B is quite a bit higher than the daily conversion of group A."
   ]
  },
  {
   "cell_type": "markdown",
   "id": "ffe0db8c",
   "metadata": {},
   "source": [
    "### Plot a scatter chart of the number of orders per user."
   ]
  },
  {
   "cell_type": "code",
   "execution_count": 50,
   "id": "c9e234d8",
   "metadata": {},
   "outputs": [
    {
     "data": {
      "text/html": [
       "<div>\n",
       "<style scoped>\n",
       "    .dataframe tbody tr th:only-of-type {\n",
       "        vertical-align: middle;\n",
       "    }\n",
       "\n",
       "    .dataframe tbody tr th {\n",
       "        vertical-align: top;\n",
       "    }\n",
       "\n",
       "    .dataframe thead th {\n",
       "        text-align: right;\n",
       "    }\n",
       "</style>\n",
       "<table border=\"1\" class=\"dataframe\">\n",
       "  <thead>\n",
       "    <tr style=\"text-align: right;\">\n",
       "      <th></th>\n",
       "      <th>userId</th>\n",
       "      <th>orders</th>\n",
       "    </tr>\n",
       "  </thead>\n",
       "  <tbody>\n",
       "    <tr>\n",
       "      <th>0</th>\n",
       "      <td>5114589</td>\n",
       "      <td>1</td>\n",
       "    </tr>\n",
       "    <tr>\n",
       "      <th>1</th>\n",
       "      <td>6958315</td>\n",
       "      <td>1</td>\n",
       "    </tr>\n",
       "    <tr>\n",
       "      <th>2</th>\n",
       "      <td>11685486</td>\n",
       "      <td>1</td>\n",
       "    </tr>\n",
       "    <tr>\n",
       "      <th>3</th>\n",
       "      <td>39475350</td>\n",
       "      <td>1</td>\n",
       "    </tr>\n",
       "    <tr>\n",
       "      <th>4</th>\n",
       "      <td>47206413</td>\n",
       "      <td>1</td>\n",
       "    </tr>\n",
       "    <tr>\n",
       "      <th>...</th>\n",
       "      <td>...</td>\n",
       "      <td>...</td>\n",
       "    </tr>\n",
       "    <tr>\n",
       "      <th>968</th>\n",
       "      <td>4259830713</td>\n",
       "      <td>1</td>\n",
       "    </tr>\n",
       "    <tr>\n",
       "      <th>969</th>\n",
       "      <td>4278982564</td>\n",
       "      <td>1</td>\n",
       "    </tr>\n",
       "    <tr>\n",
       "      <th>970</th>\n",
       "      <td>4279090005</td>\n",
       "      <td>1</td>\n",
       "    </tr>\n",
       "    <tr>\n",
       "      <th>971</th>\n",
       "      <td>4281247801</td>\n",
       "      <td>1</td>\n",
       "    </tr>\n",
       "    <tr>\n",
       "      <th>972</th>\n",
       "      <td>4283872382</td>\n",
       "      <td>1</td>\n",
       "    </tr>\n",
       "  </tbody>\n",
       "</table>\n",
       "<p>973 rows × 2 columns</p>\n",
       "</div>"
      ],
      "text/plain": [
       "         userId  orders\n",
       "0       5114589       1\n",
       "1       6958315       1\n",
       "2      11685486       1\n",
       "3      39475350       1\n",
       "4      47206413       1\n",
       "..          ...     ...\n",
       "968  4259830713       1\n",
       "969  4278982564       1\n",
       "970  4279090005       1\n",
       "971  4281247801       1\n",
       "972  4283872382       1\n",
       "\n",
       "[973 rows x 2 columns]"
      ]
     },
     "execution_count": 50,
     "metadata": {},
     "output_type": "execute_result"
    }
   ],
   "source": [
    "ordersByUsers = (orders.drop(['group', 'revenue', 'date'], axis=1).groupby('visitorId', as_index=False).agg({'transactionId': pd.Series.nunique}))\n",
    "ordersByUsers.columns = ['userId', 'orders']\n",
    "ordersByUsers"
   ]
  },
  {
   "cell_type": "code",
   "execution_count": 51,
   "id": "83261fea",
   "metadata": {},
   "outputs": [
    {
     "data": {
      "image/png": "[encoded data removed]",
      "text/plain": [
       "<Figure size 432x288 with 1 Axes>"
      ]
     },
     "metadata": {
      "needs_background": "light"
     },
     "output_type": "display_data"
    }
   ],
   "source": [
    "x_values = pd.Series(range(0,len(ordersByUsers)))\n",
    "plt.scatter(x_values, ordersByUsers['orders'])\n",
    "plt.title('Scatter chart of the number of orders per user')\n",
    "plt.show()"
   ]
  },
  {
   "cell_type": "markdown",
   "id": "51a9518b",
   "metadata": {},
   "source": [
    " ***Conclusions:*** There are very few users with more than 1 orders. It could be outliers."
   ]
  },
  {
   "cell_type": "markdown",
   "id": "099bd92a",
   "metadata": {},
   "source": [
    "### Let's find point, where data becomes an anomaly. "
   ]
  },
  {
   "cell_type": "markdown",
   "id": "11d72805",
   "metadata": {},
   "source": [
    "Calculate the 95th and 99th percentiles for the number of orders per user."
   ]
  },
  {
   "cell_type": "code",
   "execution_count": 52,
   "id": "6d9a0498",
   "metadata": {},
   "outputs": [
    {
     "data": {
      "text/plain": [
       "array([1., 2.])"
      ]
     },
     "execution_count": 52,
     "metadata": {},
     "output_type": "execute_result"
    }
   ],
   "source": [
    "np.percentile(ordersByUsers['orders'], [95,99])"
   ]
  },
  {
   "cell_type": "markdown",
   "id": "bd854e48",
   "metadata": {},
   "source": [
    "***Conclusions:*** It means that only 5 % of users have more than 1 orders and only 1 % - more than 2. Let's say that point of anomaly 2 orders."
   ]
  },
  {
   "cell_type": "code",
   "execution_count": 53,
   "id": "37b89566",
   "metadata": {},
   "outputs": [
    {
     "data": {
      "text/plain": [
       "55     249864742\n",
       "82     366673373\n",
       "94     406208401\n",
       "118    522292794\n",
       "138    611059232\n",
       "Name: userId, dtype: int64"
      ]
     },
     "execution_count": 53,
     "metadata": {},
     "output_type": "execute_result"
    }
   ],
   "source": [
    "visitorIdOutliers=ordersByUsers[ordersByUsers['orders']>=2]['userId']\n",
    "visitorIdOutliers.head()"
   ]
  },
  {
   "cell_type": "markdown",
   "id": "a556cbe8",
   "metadata": {},
   "source": [
    "### Plot a scatter chart of order prices."
   ]
  },
  {
   "cell_type": "code",
   "execution_count": 54,
   "id": "c97d156c",
   "metadata": {},
   "outputs": [
    {
     "data": {
      "image/png": "[encoded data removed]",
      "text/plain": [
       "<Figure size 432x288 with 1 Axes>"
      ]
     },
     "metadata": {
      "needs_background": "light"
     },
     "output_type": "display_data"
    }
   ],
   "source": [
    "x_values = pd.Series(range(0,len(orders['revenue'])))\n",
    "plt.scatter(x_values,orders['revenue'])\n",
    "plt.title('Scatter chart of order prices')\n",
    "plt.show()"
   ]
  },
  {
   "cell_type": "markdown",
   "id": "06044c16",
   "metadata": {},
   "source": [
    "***Conclusions:***There are only 2 orders have price much bigger than others - about 20000 and 3000. The most orders have prices to 2500."
   ]
  },
  {
   "cell_type": "markdown",
   "id": "b5fd8833",
   "metadata": {},
   "source": [
    "### Let's find point, where data becomes an anomaly."
   ]
  },
  {
   "cell_type": "code",
   "execution_count": 55,
   "id": "ad5f8fe7",
   "metadata": {},
   "outputs": [
    {
     "data": {
      "text/plain": [
       "array([414.275, 830.3  ])"
      ]
     },
     "execution_count": 55,
     "metadata": {},
     "output_type": "execute_result"
    }
   ],
   "source": [
    "np.percentile(orders['revenue'], [95,99])"
   ]
  },
  {
   "cell_type": "markdown",
   "id": "b922f0d0",
   "metadata": {},
   "source": [
    "***Conclusions:*** It means that only 5 % of orders have price more than 435 and only 1 % - more than 900. Let's say that point of anomaly of price - 900."
   ]
  },
  {
   "cell_type": "code",
   "execution_count": 56,
   "id": "026db5d3",
   "metadata": {},
   "outputs": [
    {
     "data": {
      "text/plain": [
       "425      590470918\n",
       "743     3603576309\n",
       "744     3668308183\n",
       "940     2420050534\n",
       "949     1347999392\n",
       "1099     316924019\n",
       "1103    1348774318\n",
       "1136     666610489\n",
       "1196    3936777065\n",
       "Name: transactionId, dtype: int64"
      ]
     },
     "execution_count": 56,
     "metadata": {},
     "output_type": "execute_result"
    }
   ],
   "source": [
    "transactionIdOutliers=orders[orders['revenue']>=900]['transactionId']\n",
    "transactionIdOutliers"
   ]
  },
  {
   "cell_type": "markdown",
   "id": "89e2b210",
   "metadata": {},
   "source": [
    "### Let's find the statistical significance of the difference in conversion between the groups."
   ]
  },
  {
   "cell_type": "markdown",
   "id": "4e22f086",
   "metadata": {},
   "source": [
    "Lets formulate null and an alternative hypothesises: <br>\n",
    " ***H0:The null hypothesis - Conversions of the groups are statistical equal.<br>\n",
    "    H1:The alternative hypothesis - Conversions of the groups have statistical significance difference.***"
   ]
  },
  {
   "cell_type": "markdown",
   "id": "615df529",
   "metadata": {},
   "source": [
    "#### Finding the statistical significance of the difference in total conversion rate:"
   ]
  },
  {
   "cell_type": "code",
   "execution_count": 57,
   "id": "46ddc447",
   "metadata": {},
   "outputs": [
    {
     "name": "stdout",
     "output_type": "stream",
     "text": [
      "trials for A group 284206\n"
     ]
    }
   ],
   "source": [
    "trialsA=DataA['visits'].sum()\n",
    "print('trials for A group', trialsA)"
   ]
  },
  {
   "cell_type": "code",
   "execution_count": 58,
   "id": "7c1bbf2d",
   "metadata": {},
   "outputs": [
    {
     "name": "stdout",
     "output_type": "stream",
     "text": [
      "sucsses for A group 457\n"
     ]
    }
   ],
   "source": [
    "successesA=DataA['buyers'].sum()\n",
    "print('sucsses for A group', successesA)"
   ]
  },
  {
   "cell_type": "code",
   "execution_count": 59,
   "id": "7153527c",
   "metadata": {},
   "outputs": [
    {
     "name": "stdout",
     "output_type": "stream",
     "text": [
      "total conversion for A group 0.001607988571669845\n"
     ]
    }
   ],
   "source": [
    "print('total conversion for A group', successesA/trialsA)"
   ]
  },
  {
   "cell_type": "code",
   "execution_count": 60,
   "id": "9ffde43a",
   "metadata": {},
   "outputs": [
    {
     "name": "stdout",
     "output_type": "stream",
     "text": [
      "trials for B group 331836\n"
     ]
    }
   ],
   "source": [
    "trialsB=DataB['visits'].sum()\n",
    "print('trials for B group', trialsB)"
   ]
  },
  {
   "cell_type": "code",
   "execution_count": 61,
   "id": "3a7fe482",
   "metadata": {},
   "outputs": [
    {
     "name": "stdout",
     "output_type": "stream",
     "text": [
      "sucsses for B group 544\n"
     ]
    }
   ],
   "source": [
    "successesB=DataB['buyers'].sum()\n",
    "print('sucsses for B group', successesB)"
   ]
  },
  {
   "cell_type": "code",
   "execution_count": 62,
   "id": "11031c6b",
   "metadata": {},
   "outputs": [
    {
     "name": "stdout",
     "output_type": "stream",
     "text": [
      "total conversion for B group 0.0016393640231921792\n"
     ]
    }
   ],
   "source": [
    "print('total conversion for B group', successesB/trialsB)"
   ]
  },
  {
   "cell_type": "code",
   "execution_count": 63,
   "id": "e311d118",
   "metadata": {},
   "outputs": [
    {
     "name": "stdout",
     "output_type": "stream",
     "text": [
      "0.761\n"
     ]
    }
   ],
   "source": [
    "#lets find statistical significance\n",
    "from statsmodels.stats.proportion import proportions_ztest\n",
    "stat, pval = proportions_ztest([successesA,successesB], [trialsA,trialsB])\n",
    "print('{0:0.3f}'.format(pval))\n"
   ]
  },
  {
   "cell_type": "markdown",
   "id": "9e934278",
   "metadata": {},
   "source": [
    "***Conclusions:*** The p-value is higher than a=0.05, so we can't reject our null hypothesis and group's conversion rates haven't statistically significant differences."
   ]
  },
  {
   "cell_type": "markdown",
   "id": "143c45d5",
   "metadata": {},
   "source": [
    "#### Finding the statistical significance of the difference in daily conversion rate:"
   ]
  },
  {
   "cell_type": "code",
   "execution_count": 64,
   "id": "8b950c20",
   "metadata": {},
   "outputs": [],
   "source": [
    "#Function for checking average\n",
    "def testing_average(sample1,sample2,alpha=0.05):\n",
    "    #checking normality\n",
    "    sample1=sample1.dropna()\n",
    "    sample2=sample2.dropna()\n",
    "    stat1, p1_norm=stats.shapiro(sample1)\n",
    "    stat2, p2_norm=stats.shapiro(sample2)\n",
    "    if p1_norm > alpha and p2_norm>alpha:\n",
    "        #then both normal, perform t-test.\n",
    "        #for t-test also should check the equality of variances\n",
    "        statslev,p_levene=stats.levene(sample1, sample2)\n",
    "        if p_levene<alpha:\n",
    "           #variances are not equal\n",
    "            statist,p_value=stats.ttest_ind(sample1, sample2,equal_var=False)\n",
    "        else:\n",
    "            statist,p_value=stats.ttest_ind(sample1, sample2,equal_var=True) \n",
    "    else:\n",
    "        statist,p_value=stats.mannwhitneyu(sample1, sample2)\n",
    "    print(p_value)\n",
    "    if p_value<alpha:\n",
    "        print('Reject H0')\n",
    "    else:\n",
    "        print('Fail to Reject H0')"
   ]
  },
  {
   "cell_type": "code",
   "execution_count": 65,
   "id": "465537f2",
   "metadata": {},
   "outputs": [
    {
     "name": "stdout",
     "output_type": "stream",
     "text": [
      "0.9663095151069797\n",
      "Fail to Reject H0\n"
     ]
    }
   ],
   "source": [
    "testing_average(DataA['conversion'],DataB['conversion'],alpha=0.05)"
   ]
  },
  {
   "cell_type": "markdown",
   "id": "03be2131",
   "metadata": {},
   "source": [
    "***Conclusions:*** The same result for daily conversion  - the p-value is near 1, so we can't reject our null hypothesis and group's daily conversion rates haven't statistically significant differences."
   ]
  },
  {
   "cell_type": "markdown",
   "id": "5f9b2e19",
   "metadata": {},
   "source": [
    "### Let's find the statistical significance of the difference in average order size between the groups. "
   ]
  },
  {
   "cell_type": "markdown",
   "id": "c1512af4",
   "metadata": {},
   "source": [
    "Lets formulate null and an alternative hypothesises: <br>\n",
    " ***H0:The null hypothesis - Averages orders sizes of the groups are statistical equal.<br>\n",
    "    H1:The alternative hypothesis -Averages orders sizes of the groups have statistical significance difference.***"
   ]
  },
  {
   "cell_type": "markdown",
   "id": "6accdbe7",
   "metadata": {},
   "source": [
    "Let's count average order size in the day."
   ]
  },
  {
   "cell_type": "code",
   "execution_count": 66,
   "id": "5fe7f517",
   "metadata": {},
   "outputs": [
    {
     "data": {
      "text/html": [
       "<div>\n",
       "<style scoped>\n",
       "    .dataframe tbody tr th:only-of-type {\n",
       "        vertical-align: middle;\n",
       "    }\n",
       "\n",
       "    .dataframe tbody tr th {\n",
       "        vertical-align: top;\n",
       "    }\n",
       "\n",
       "    .dataframe thead th {\n",
       "        text-align: right;\n",
       "    }\n",
       "</style>\n",
       "<table border=\"1\" class=\"dataframe\">\n",
       "  <thead>\n",
       "    <tr style=\"text-align: right;\">\n",
       "      <th></th>\n",
       "      <th>date</th>\n",
       "      <th>group</th>\n",
       "      <th>buyers</th>\n",
       "      <th>transactions</th>\n",
       "      <th>revenue</th>\n",
       "      <th>visits</th>\n",
       "      <th>conversion</th>\n",
       "      <th>avg_ch</th>\n",
       "    </tr>\n",
       "  </thead>\n",
       "  <tbody>\n",
       "    <tr>\n",
       "      <th>0</th>\n",
       "      <td>2019-08-01</td>\n",
       "      <td>A</td>\n",
       "      <td>19</td>\n",
       "      <td>23</td>\n",
       "      <td>2266.6</td>\n",
       "      <td>16537</td>\n",
       "      <td>0.001149</td>\n",
       "      <td>98.547826</td>\n",
       "    </tr>\n",
       "    <tr>\n",
       "      <th>2</th>\n",
       "      <td>2019-08-02</td>\n",
       "      <td>A</td>\n",
       "      <td>18</td>\n",
       "      <td>19</td>\n",
       "      <td>1468.3</td>\n",
       "      <td>11761</td>\n",
       "      <td>0.001530</td>\n",
       "      <td>77.278947</td>\n",
       "    </tr>\n",
       "    <tr>\n",
       "      <th>4</th>\n",
       "      <td>2019-08-03</td>\n",
       "      <td>A</td>\n",
       "      <td>24</td>\n",
       "      <td>24</td>\n",
       "      <td>1815.2</td>\n",
       "      <td>12168</td>\n",
       "      <td>0.001972</td>\n",
       "      <td>75.633333</td>\n",
       "    </tr>\n",
       "    <tr>\n",
       "      <th>6</th>\n",
       "      <td>2019-08-04</td>\n",
       "      <td>A</td>\n",
       "      <td>11</td>\n",
       "      <td>11</td>\n",
       "      <td>675.5</td>\n",
       "      <td>7887</td>\n",
       "      <td>0.001395</td>\n",
       "      <td>61.409091</td>\n",
       "    </tr>\n",
       "    <tr>\n",
       "      <th>8</th>\n",
       "      <td>2019-08-05</td>\n",
       "      <td>A</td>\n",
       "      <td>22</td>\n",
       "      <td>22</td>\n",
       "      <td>1398.0</td>\n",
       "      <td>16632</td>\n",
       "      <td>0.001323</td>\n",
       "      <td>63.545455</td>\n",
       "    </tr>\n",
       "  </tbody>\n",
       "</table>\n",
       "</div>"
      ],
      "text/plain": [
       "        date group  buyers  transactions  revenue  visits  conversion  \\\n",
       "0 2019-08-01     A      19            23   2266.6   16537    0.001149   \n",
       "2 2019-08-02     A      18            19   1468.3   11761    0.001530   \n",
       "4 2019-08-03     A      24            24   1815.2   12168    0.001972   \n",
       "6 2019-08-04     A      11            11    675.5    7887    0.001395   \n",
       "8 2019-08-05     A      22            22   1398.0   16632    0.001323   \n",
       "\n",
       "      avg_ch  \n",
       "0  98.547826  \n",
       "2  77.278947  \n",
       "4  75.633333  \n",
       "6  61.409091  \n",
       "8  63.545455  "
      ]
     },
     "execution_count": 66,
     "metadata": {},
     "output_type": "execute_result"
    }
   ],
   "source": [
    "DataA['avg_ch']=DataA['revenue']/DataA['transactions']\n",
    "DataA.head()"
   ]
  },
  {
   "cell_type": "code",
   "execution_count": 67,
   "id": "c9321990",
   "metadata": {},
   "outputs": [
    {
     "data": {
      "text/html": [
       "<div>\n",
       "<style scoped>\n",
       "    .dataframe tbody tr th:only-of-type {\n",
       "        vertical-align: middle;\n",
       "    }\n",
       "\n",
       "    .dataframe tbody tr th {\n",
       "        vertical-align: top;\n",
       "    }\n",
       "\n",
       "    .dataframe thead th {\n",
       "        text-align: right;\n",
       "    }\n",
       "</style>\n",
       "<table border=\"1\" class=\"dataframe\">\n",
       "  <thead>\n",
       "    <tr style=\"text-align: right;\">\n",
       "      <th></th>\n",
       "      <th>date</th>\n",
       "      <th>group</th>\n",
       "      <th>buyers</th>\n",
       "      <th>transactions</th>\n",
       "      <th>revenue</th>\n",
       "      <th>visits</th>\n",
       "      <th>conversion</th>\n",
       "      <th>avg_ch</th>\n",
       "    </tr>\n",
       "  </thead>\n",
       "  <tbody>\n",
       "    <tr>\n",
       "      <th>1</th>\n",
       "      <td>2019-08-01</td>\n",
       "      <td>B</td>\n",
       "      <td>17</td>\n",
       "      <td>17</td>\n",
       "      <td>967.2</td>\n",
       "      <td>12121</td>\n",
       "      <td>0.001403</td>\n",
       "      <td>56.894118</td>\n",
       "    </tr>\n",
       "    <tr>\n",
       "      <th>3</th>\n",
       "      <td>2019-08-02</td>\n",
       "      <td>B</td>\n",
       "      <td>22</td>\n",
       "      <td>23</td>\n",
       "      <td>2568.1</td>\n",
       "      <td>13363</td>\n",
       "      <td>0.001646</td>\n",
       "      <td>111.656522</td>\n",
       "    </tr>\n",
       "    <tr>\n",
       "      <th>5</th>\n",
       "      <td>2019-08-03</td>\n",
       "      <td>B</td>\n",
       "      <td>14</td>\n",
       "      <td>14</td>\n",
       "      <td>1071.6</td>\n",
       "      <td>7126</td>\n",
       "      <td>0.001965</td>\n",
       "      <td>76.542857</td>\n",
       "    </tr>\n",
       "    <tr>\n",
       "      <th>7</th>\n",
       "      <td>2019-08-04</td>\n",
       "      <td>B</td>\n",
       "      <td>13</td>\n",
       "      <td>14</td>\n",
       "      <td>1531.6</td>\n",
       "      <td>10780</td>\n",
       "      <td>0.001206</td>\n",
       "      <td>109.400000</td>\n",
       "    </tr>\n",
       "    <tr>\n",
       "      <th>9</th>\n",
       "      <td>2019-08-05</td>\n",
       "      <td>B</td>\n",
       "      <td>21</td>\n",
       "      <td>21</td>\n",
       "      <td>1449.3</td>\n",
       "      <td>14847</td>\n",
       "      <td>0.001414</td>\n",
       "      <td>69.014286</td>\n",
       "    </tr>\n",
       "  </tbody>\n",
       "</table>\n",
       "</div>"
      ],
      "text/plain": [
       "        date group  buyers  transactions  revenue  visits  conversion  \\\n",
       "1 2019-08-01     B      17            17    967.2   12121    0.001403   \n",
       "3 2019-08-02     B      22            23   2568.1   13363    0.001646   \n",
       "5 2019-08-03     B      14            14   1071.6    7126    0.001965   \n",
       "7 2019-08-04     B      13            14   1531.6   10780    0.001206   \n",
       "9 2019-08-05     B      21            21   1449.3   14847    0.001414   \n",
       "\n",
       "       avg_ch  \n",
       "1   56.894118  \n",
       "3  111.656522  \n",
       "5   76.542857  \n",
       "7  109.400000  \n",
       "9   69.014286  "
      ]
     },
     "execution_count": 67,
     "metadata": {},
     "output_type": "execute_result"
    }
   ],
   "source": [
    "DataB['avg_ch']=DataB['revenue']/DataB['transactions']\n",
    "DataB.head()"
   ]
  },
  {
   "cell_type": "code",
   "execution_count": 68,
   "id": "290dae1e",
   "metadata": {},
   "outputs": [
    {
     "name": "stdout",
     "output_type": "stream",
     "text": [
      "average order for group A 115.5124717608274\n"
     ]
    }
   ],
   "source": [
    "average_checkA=DataA['avg_ch'].mean()\n",
    "print('average order for group A',average_checkA)"
   ]
  },
  {
   "cell_type": "code",
   "execution_count": 69,
   "id": "faade273",
   "metadata": {},
   "outputs": [
    {
     "name": "stdout",
     "output_type": "stream",
     "text": [
      "average order for group B 138.3711696835165\n"
     ]
    }
   ],
   "source": [
    "average_checkB=DataB['avg_ch'].mean()\n",
    "print('average order for group B',average_checkB)"
   ]
  },
  {
   "cell_type": "code",
   "execution_count": 70,
   "id": "0351f923",
   "metadata": {},
   "outputs": [
    {
     "name": "stdout",
     "output_type": "stream",
     "text": [
      "0.9550914317372012\n",
      "Fail to Reject H0\n"
     ]
    }
   ],
   "source": [
    "testing_average(DataA['avg_ch'],DataB['avg_ch'],alpha=0.05)"
   ]
  },
  {
   "cell_type": "markdown",
   "id": "50d21838",
   "metadata": {},
   "source": [
    "***Conclusions:*** The p-value is near 1, so we can't reject our null hypothesis and group's average check haven't statistically significant differences."
   ]
  },
  {
   "cell_type": "markdown",
   "id": "0e12f3b7",
   "metadata": {},
   "source": [
    "### Let's find the statistical significance of the difference in conversion between the groups using the filtered data."
   ]
  },
  {
   "cell_type": "markdown",
   "id": "64039d2a",
   "metadata": {},
   "source": [
    "Let's create the filtered data.\n",
    "Let's create filtered data for users who have made more than 3 orders and for orders worth more than 900, since these data are anomalous."
   ]
  },
  {
   "cell_type": "code",
   "execution_count": 71,
   "id": "14209a41",
   "metadata": {},
   "outputs": [
    {
     "data": {
      "text/html": [
       "<div>\n",
       "<style scoped>\n",
       "    .dataframe tbody tr th:only-of-type {\n",
       "        vertical-align: middle;\n",
       "    }\n",
       "\n",
       "    .dataframe tbody tr th {\n",
       "        vertical-align: top;\n",
       "    }\n",
       "\n",
       "    .dataframe thead th {\n",
       "        text-align: right;\n",
       "    }\n",
       "</style>\n",
       "<table border=\"1\" class=\"dataframe\">\n",
       "  <thead>\n",
       "    <tr style=\"text-align: right;\">\n",
       "      <th></th>\n",
       "      <th>transactionId</th>\n",
       "      <th>visitorId</th>\n",
       "      <th>date</th>\n",
       "      <th>revenue</th>\n",
       "      <th>group</th>\n",
       "    </tr>\n",
       "  </thead>\n",
       "  <tbody>\n",
       "    <tr>\n",
       "      <th>0</th>\n",
       "      <td>3667963787</td>\n",
       "      <td>3312258926</td>\n",
       "      <td>2019-08-15</td>\n",
       "      <td>30.4</td>\n",
       "      <td>B</td>\n",
       "    </tr>\n",
       "    <tr>\n",
       "      <th>1</th>\n",
       "      <td>2804400009</td>\n",
       "      <td>3642806036</td>\n",
       "      <td>2019-08-15</td>\n",
       "      <td>15.2</td>\n",
       "      <td>B</td>\n",
       "    </tr>\n",
       "    <tr>\n",
       "      <th>3</th>\n",
       "      <td>3797467345</td>\n",
       "      <td>1196621759</td>\n",
       "      <td>2019-08-15</td>\n",
       "      <td>155.1</td>\n",
       "      <td>B</td>\n",
       "    </tr>\n",
       "    <tr>\n",
       "      <th>4</th>\n",
       "      <td>2282983706</td>\n",
       "      <td>2322279887</td>\n",
       "      <td>2019-08-15</td>\n",
       "      <td>40.5</td>\n",
       "      <td>B</td>\n",
       "    </tr>\n",
       "    <tr>\n",
       "      <th>5</th>\n",
       "      <td>182168103</td>\n",
       "      <td>935554773</td>\n",
       "      <td>2019-08-15</td>\n",
       "      <td>35.0</td>\n",
       "      <td>B</td>\n",
       "    </tr>\n",
       "    <tr>\n",
       "      <th>...</th>\n",
       "      <td>...</td>\n",
       "      <td>...</td>\n",
       "      <td>...</td>\n",
       "      <td>...</td>\n",
       "      <td>...</td>\n",
       "    </tr>\n",
       "    <tr>\n",
       "      <th>1190</th>\n",
       "      <td>38478481</td>\n",
       "      <td>1197745035</td>\n",
       "      <td>2019-08-14</td>\n",
       "      <td>135.3</td>\n",
       "      <td>B</td>\n",
       "    </tr>\n",
       "    <tr>\n",
       "      <th>1191</th>\n",
       "      <td>3592955527</td>\n",
       "      <td>608641596</td>\n",
       "      <td>2019-08-14</td>\n",
       "      <td>255.7</td>\n",
       "      <td>B</td>\n",
       "    </tr>\n",
       "    <tr>\n",
       "      <th>1192</th>\n",
       "      <td>2662137336</td>\n",
       "      <td>3733762160</td>\n",
       "      <td>2019-08-14</td>\n",
       "      <td>100.8</td>\n",
       "      <td>B</td>\n",
       "    </tr>\n",
       "    <tr>\n",
       "      <th>1193</th>\n",
       "      <td>2203539145</td>\n",
       "      <td>370388673</td>\n",
       "      <td>2019-08-14</td>\n",
       "      <td>50.1</td>\n",
       "      <td>A</td>\n",
       "    </tr>\n",
       "    <tr>\n",
       "      <th>1194</th>\n",
       "      <td>1807773912</td>\n",
       "      <td>573423106</td>\n",
       "      <td>2019-08-14</td>\n",
       "      <td>165.3</td>\n",
       "      <td>A</td>\n",
       "    </tr>\n",
       "  </tbody>\n",
       "</table>\n",
       "<p>928 rows × 5 columns</p>\n",
       "</div>"
      ],
      "text/plain": [
       "      transactionId   visitorId       date  revenue group\n",
       "0        3667963787  3312258926 2019-08-15     30.4     B\n",
       "1        2804400009  3642806036 2019-08-15     15.2     B\n",
       "3        3797467345  1196621759 2019-08-15    155.1     B\n",
       "4        2282983706  2322279887 2019-08-15     40.5     B\n",
       "5         182168103   935554773 2019-08-15     35.0     B\n",
       "...             ...         ...        ...      ...   ...\n",
       "1190       38478481  1197745035 2019-08-14    135.3     B\n",
       "1191     3592955527   608641596 2019-08-14    255.7     B\n",
       "1192     2662137336  3733762160 2019-08-14    100.8     B\n",
       "1193     2203539145   370388673 2019-08-14     50.1     A\n",
       "1194     1807773912   573423106 2019-08-14    165.3     A\n",
       "\n",
       "[928 rows x 5 columns]"
      ]
     },
     "execution_count": 71,
     "metadata": {},
     "output_type": "execute_result"
    }
   ],
   "source": [
    "ordersNew=orders[np.logical_not(orders['transactionId'].isin(transactionIdOutliers))][np.logical_not(orders['visitorId'].isin(visitorIdOutliers))]\n",
    "ordersNew"
   ]
  },
  {
   "cell_type": "code",
   "execution_count": 72,
   "id": "a9a3749f",
   "metadata": {},
   "outputs": [
    {
     "data": {
      "text/html": [
       "<div>\n",
       "<style scoped>\n",
       "    .dataframe tbody tr th:only-of-type {\n",
       "        vertical-align: middle;\n",
       "    }\n",
       "\n",
       "    .dataframe tbody tr th {\n",
       "        vertical-align: top;\n",
       "    }\n",
       "\n",
       "    .dataframe thead th {\n",
       "        text-align: right;\n",
       "    }\n",
       "</style>\n",
       "<table border=\"1\" class=\"dataframe\">\n",
       "  <thead>\n",
       "    <tr style=\"text-align: right;\">\n",
       "      <th></th>\n",
       "      <th>date</th>\n",
       "      <th>group</th>\n",
       "      <th>buyers</th>\n",
       "      <th>transactions</th>\n",
       "      <th>revenue</th>\n",
       "      <th>visits</th>\n",
       "      <th>conversion</th>\n",
       "    </tr>\n",
       "  </thead>\n",
       "  <tbody>\n",
       "    <tr>\n",
       "      <th>0</th>\n",
       "      <td>2019-08-01</td>\n",
       "      <td>A</td>\n",
       "      <td>15</td>\n",
       "      <td>15</td>\n",
       "      <td>1427.4</td>\n",
       "      <td>10785</td>\n",
       "      <td>0.001391</td>\n",
       "    </tr>\n",
       "    <tr>\n",
       "      <th>1</th>\n",
       "      <td>2019-08-01</td>\n",
       "      <td>B</td>\n",
       "      <td>17</td>\n",
       "      <td>17</td>\n",
       "      <td>967.2</td>\n",
       "      <td>12121</td>\n",
       "      <td>0.001403</td>\n",
       "    </tr>\n",
       "    <tr>\n",
       "      <th>2</th>\n",
       "      <td>2019-08-02</td>\n",
       "      <td>A</td>\n",
       "      <td>15</td>\n",
       "      <td>15</td>\n",
       "      <td>762.2</td>\n",
       "      <td>9285</td>\n",
       "      <td>0.001616</td>\n",
       "    </tr>\n",
       "    <tr>\n",
       "      <th>3</th>\n",
       "      <td>2019-08-02</td>\n",
       "      <td>B</td>\n",
       "      <td>20</td>\n",
       "      <td>20</td>\n",
       "      <td>2432.3</td>\n",
       "      <td>11620</td>\n",
       "      <td>0.001721</td>\n",
       "    </tr>\n",
       "    <tr>\n",
       "      <th>4</th>\n",
       "      <td>2019-08-03</td>\n",
       "      <td>A</td>\n",
       "      <td>24</td>\n",
       "      <td>24</td>\n",
       "      <td>1815.2</td>\n",
       "      <td>12168</td>\n",
       "      <td>0.001972</td>\n",
       "    </tr>\n",
       "    <tr>\n",
       "      <th>...</th>\n",
       "      <td>...</td>\n",
       "      <td>...</td>\n",
       "      <td>...</td>\n",
       "      <td>...</td>\n",
       "      <td>...</td>\n",
       "      <td>...</td>\n",
       "      <td>...</td>\n",
       "    </tr>\n",
       "    <tr>\n",
       "      <th>57</th>\n",
       "      <td>2019-08-29</td>\n",
       "      <td>B</td>\n",
       "      <td>14</td>\n",
       "      <td>14</td>\n",
       "      <td>1651.1</td>\n",
       "      <td>7434</td>\n",
       "      <td>0.001883</td>\n",
       "    </tr>\n",
       "    <tr>\n",
       "      <th>58</th>\n",
       "      <td>2019-08-30</td>\n",
       "      <td>A</td>\n",
       "      <td>7</td>\n",
       "      <td>7</td>\n",
       "      <td>528.2</td>\n",
       "      <td>3430</td>\n",
       "      <td>0.002041</td>\n",
       "    </tr>\n",
       "    <tr>\n",
       "      <th>59</th>\n",
       "      <td>2019-08-30</td>\n",
       "      <td>B</td>\n",
       "      <td>21</td>\n",
       "      <td>21</td>\n",
       "      <td>3286.8</td>\n",
       "      <td>10290</td>\n",
       "      <td>0.002041</td>\n",
       "    </tr>\n",
       "    <tr>\n",
       "      <th>60</th>\n",
       "      <td>2019-08-31</td>\n",
       "      <td>A</td>\n",
       "      <td>8</td>\n",
       "      <td>8</td>\n",
       "      <td>848.3</td>\n",
       "      <td>5592</td>\n",
       "      <td>0.001431</td>\n",
       "    </tr>\n",
       "    <tr>\n",
       "      <th>61</th>\n",
       "      <td>2019-08-31</td>\n",
       "      <td>B</td>\n",
       "      <td>17</td>\n",
       "      <td>17</td>\n",
       "      <td>1787.7</td>\n",
       "      <td>12206</td>\n",
       "      <td>0.001393</td>\n",
       "    </tr>\n",
       "  </tbody>\n",
       "</table>\n",
       "<p>62 rows × 7 columns</p>\n",
       "</div>"
      ],
      "text/plain": [
       "         date group  buyers  transactions  revenue  visits  conversion\n",
       "0  2019-08-01     A      15            15   1427.4   10785    0.001391\n",
       "1  2019-08-01     B      17            17    967.2   12121    0.001403\n",
       "2  2019-08-02     A      15            15    762.2    9285    0.001616\n",
       "3  2019-08-02     B      20            20   2432.3   11620    0.001721\n",
       "4  2019-08-03     A      24            24   1815.2   12168    0.001972\n",
       "..        ...   ...     ...           ...      ...     ...         ...\n",
       "57 2019-08-29     B      14            14   1651.1    7434    0.001883\n",
       "58 2019-08-30     A       7             7    528.2    3430    0.002041\n",
       "59 2019-08-30     B      21            21   3286.8   10290    0.002041\n",
       "60 2019-08-31     A       8             8    848.3    5592    0.001431\n",
       "61 2019-08-31     B      17            17   1787.7   12206    0.001393\n",
       "\n",
       "[62 rows x 7 columns]"
      ]
     },
     "execution_count": 72,
     "metadata": {},
     "output_type": "execute_result"
    }
   ],
   "source": [
    "DataNew=ordersNew.merge(visits, left_on=['date', 'group'], right_on=['date', 'group']).groupby(['date','group']).agg({'visitorId':pd.Series.nunique,'transactionId':pd.Series.nunique,'revenue':sum,'visits':sum}).reset_index()\n",
    "DataNew.columns=['date','group','buyers','transactions','revenue','visits']\n",
    "DataNew['conversion']=DataNew['buyers']/DataNew['visits']\n",
    "DataNew"
   ]
  },
  {
   "cell_type": "code",
   "execution_count": 73,
   "id": "53023a8a",
   "metadata": {},
   "outputs": [],
   "source": [
    "#deviding data on groups\n",
    "DataNewA=DataNew[DataNew['group']=='A']\n",
    "DataNewB=DataNew[DataNew['group']=='B']"
   ]
  },
  {
   "cell_type": "code",
   "execution_count": 74,
   "id": "213dfeee",
   "metadata": {},
   "outputs": [
    {
     "name": "stdout",
     "output_type": "stream",
     "text": [
      "0.7301376549390499\n",
      "Fail to Reject H0\n"
     ]
    }
   ],
   "source": [
    "testing_average(DataNewA['conversion'],DataNewB['conversion'],alpha=0.05)"
   ]
  },
  {
   "cell_type": "markdown",
   "id": "e67ba039",
   "metadata": {},
   "source": [
    "***Conclusions:*** p-value for filtred data a little bit lower than for full data, but it is near 1, so we have the same result - we can't reject our null hypothesis and group's daily conversion rates haven't statistically significant differences."
   ]
  },
  {
   "cell_type": "markdown",
   "id": "8f392037",
   "metadata": {},
   "source": [
    "### Let's find the statistical significance of the difference in average order size between the groups using the filtered data."
   ]
  },
  {
   "cell_type": "code",
   "execution_count": 75,
   "id": "b4047fb3",
   "metadata": {},
   "outputs": [],
   "source": [
    "DataNewA['avg_ch']=DataNewA['revenue']/DataNewA['transactions']\n",
    "DataNewB['avg_ch']=DataNewB['revenue']/DataNewB['transactions']"
   ]
  },
  {
   "cell_type": "code",
   "execution_count": 76,
   "id": "25441c4a",
   "metadata": {},
   "outputs": [
    {
     "name": "stdout",
     "output_type": "stream",
     "text": [
      "average order for filtred group A 101.60165594607409\n"
     ]
    }
   ],
   "source": [
    "new_average_checkA=DataNewA['avg_ch'].mean()\n",
    "print('average order for filtred group A',new_average_checkA)"
   ]
  },
  {
   "cell_type": "code",
   "execution_count": 77,
   "id": "daaeb747",
   "metadata": {},
   "outputs": [
    {
     "name": "stdout",
     "output_type": "stream",
     "text": [
      "average order for filtred  group B 100.73493120319829\n"
     ]
    }
   ],
   "source": [
    "new_average_checkB=DataNewB['avg_ch'].mean()\n",
    "print('average order for filtred  group B',new_average_checkB)"
   ]
  },
  {
   "cell_type": "code",
   "execution_count": 78,
   "id": "648297a5",
   "metadata": {},
   "outputs": [
    {
     "name": "stdout",
     "output_type": "stream",
     "text": [
      "0.9261905382178917\n",
      "Fail to Reject H0\n"
     ]
    }
   ],
   "source": [
    "testing_average(DataNewA['avg_ch'],DataNewB['avg_ch'],alpha=0.05)"
   ]
  },
  {
   "cell_type": "markdown",
   "id": "fd914103",
   "metadata": {},
   "source": [
    "***Conclusions:*** The p-value higher than a=0.05, so we can't reject our null hypothesis and can say that group's averages checks haven't statistically significant differences."
   ]
  },
  {
   "cell_type": "markdown",
   "id": "d909eccc",
   "metadata": {},
   "source": [
    "### Conclusions"
   ]
  },
  {
   "cell_type": "markdown",
   "id": "b3c82624",
   "metadata": {},
   "source": [
    "**We made analytical studies of two groups A and B.** <b>\n",
    "1) Considered their cumulative characteristics such as: income, average order size, conversion. And we can conclude:<b>\n",
    "- At the very beginning of the analysis period, in the first few days, the cumulative income of group A exceeds the cumulative income of group B. Throughout the rest of the analysis, **the cumulative income of group B is greater** and grows faster than that of group A.\n",
    "- The situation is similar with the cumulative size of the order - in the first days for group A it is higher than for B and drops sharply, while for B it grows. With the exception of the period after 1.5 -2 weeks of observations, where the average order of A again exceeds B, at all other times **the size of the order of B is much larger**.\n",
    "- The same thing happens with cumulative conversion rates. With the exception of the first days, **the cumulative conversion of group B is higher** than that of group A.<b>\n",
    "    \n",
    "2) To determine the statistical significance of group differences, we used the Z-test and the Mann-Whitney U test:<b>\n",
    "- When testing for the statistical significance of differences in conversions, we get **p-values of 0.9** in both tests, which indicates the impossibility of rejecting the null hypothesis - and shows that there is no reason to believe that group conversions are statistically different.\n",
    "- When checking the average group order size using the Mann-Whitney U test, we got a **p-value of 0.68**, which is also greater than alpha and which indicates the impossibility of rejecting the null hypothesis - and shows that there is no reason to believe that group conversions are statistically different.\n",
    "- Also, after cleaning the data from the estimated departures, checking the conversion and the average check showed that there is no reason to believe that the groups are statistically different.<b>\n",
    "\n",
    "Summing up the results of the entire analysis, you can stop testing and conclude that there are ***no differences between groups.***"
   ]
  }
 ],
 "metadata": {
  "kernelspec": {
   "display_name": "Python 3 (ipykernel)",
   "language": "python",
   "name": "python3"
  },
  "language_info": {
   "codemirror_mode": {
    "name": "ipython",
    "version": 3
   },
   "file_extension": ".py",
   "mimetype": "text/x-python",
   "name": "python",
   "nbconvert_exporter": "python",
   "pygments_lexer": "ipython3",
   "version": "3.9.5"
  },
  "toc": {
   "base_numbering": 1,
   "nav_menu": {},
   "number_sections": true,
   "sideBar": true,
   "skip_h1_title": true,
   "title_cell": "Table of Contents",
   "title_sidebar": "Contents",
   "toc_cell": false,
   "toc_position": {},
   "toc_section_display": true,
   "toc_window_display": false
  }
 },
 "nbformat": 4,
 "nbformat_minor": 5
}
